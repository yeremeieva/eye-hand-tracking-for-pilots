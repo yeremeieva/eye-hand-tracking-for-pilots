{
 "cells": [
  {
   "cell_type": "code",
   "execution_count": 814,
   "metadata": {
    "collapsed": true,
    "ExecuteTime": {
     "end_time": "2024-02-02T04:54:24.818189Z",
     "start_time": "2024-02-02T04:54:24.581715Z"
    }
   },
   "outputs": [],
   "source": [
    "import pandas as pd\n",
    "import seaborn as sb\n",
    "from datetime import datetime\n",
    "import numpy as np\n",
    "\n",
    "from sklearn.model_selection import train_test_split\n",
    "from sklearn.preprocessing import StandardScaler\n",
    "from sklearn.neighbors import KNeighborsClassifier\n",
    "from sklearn.metrics import confusion_matrix\n",
    "from sklearn.metrics import accuracy_score"
   ]
  },
  {
   "cell_type": "markdown",
   "source": [
    "## Load Data"
   ],
   "metadata": {
    "collapsed": false
   }
  },
  {
   "cell_type": "markdown",
   "source": [
    "### Eye States"
   ],
   "metadata": {
    "collapsed": false
   }
  },
  {
   "cell_type": "code",
   "execution_count": 815,
   "outputs": [],
   "source": [
    "eye_states = pd.read_csv('/Users/sophiayeremeeva/Desktop/uni/waterloo/2024/pilot /code/eye-tracking try/data/left_right_1/3d_eye_states.csv')"
   ],
   "metadata": {
    "collapsed": false,
    "ExecuteTime": {
     "end_time": "2024-02-02T04:54:24.871206Z",
     "start_time": "2024-02-02T04:54:24.596253Z"
    }
   }
  },
  {
   "cell_type": "code",
   "execution_count": 816,
   "outputs": [
    {
     "data": {
      "text/plain": "                             section id                          recording id  \\\n0  314b6274-7746-40e9-8d39-cbc46ab16dc9  9d2fe463-2d08-476c-9ba8-57d06914e18b   \n1  314b6274-7746-40e9-8d39-cbc46ab16dc9  9d2fe463-2d08-476c-9ba8-57d06914e18b   \n\n        timestamp [ns]  pupil diameter [mm]  eyeball center left x [mm]  \\\n0  1706548527972841155             4.400507                  -30.954063   \n1  1706548527977841155             4.393271                  -30.971268   \n\n   eyeball center left y [mm]  eyeball center left z [mm]  \\\n0                   10.943527                  -42.904373   \n1                   11.009438                  -42.935429   \n\n   eyeball center right x [mm]  eyeball center right y [mm]  \\\n0                    31.779869                     8.937256   \n1                    31.784168                     9.055771   \n\n   eyeball center right z [mm]  optical axis left x  optical axis left y  \\\n0                   -45.450989             0.668765             0.150978   \n1                   -45.459171             0.667736             0.139698   \n\n   optical axis left z  optical axis right x  optical axis right y  \\\n0             0.727982              0.554670              0.165521   \n1             0.731172              0.554371              0.154230   \n\n   optical axis right z  \n0              0.815441  \n1              0.817854  ",
      "text/html": "<div>\n<style scoped>\n    .dataframe tbody tr th:only-of-type {\n        vertical-align: middle;\n    }\n\n    .dataframe tbody tr th {\n        vertical-align: top;\n    }\n\n    .dataframe thead th {\n        text-align: right;\n    }\n</style>\n<table border=\"1\" class=\"dataframe\">\n  <thead>\n    <tr style=\"text-align: right;\">\n      <th></th>\n      <th>section id</th>\n      <th>recording id</th>\n      <th>timestamp [ns]</th>\n      <th>pupil diameter [mm]</th>\n      <th>eyeball center left x [mm]</th>\n      <th>eyeball center left y [mm]</th>\n      <th>eyeball center left z [mm]</th>\n      <th>eyeball center right x [mm]</th>\n      <th>eyeball center right y [mm]</th>\n      <th>eyeball center right z [mm]</th>\n      <th>optical axis left x</th>\n      <th>optical axis left y</th>\n      <th>optical axis left z</th>\n      <th>optical axis right x</th>\n      <th>optical axis right y</th>\n      <th>optical axis right z</th>\n    </tr>\n  </thead>\n  <tbody>\n    <tr>\n      <th>0</th>\n      <td>314b6274-7746-40e9-8d39-cbc46ab16dc9</td>\n      <td>9d2fe463-2d08-476c-9ba8-57d06914e18b</td>\n      <td>1706548527972841155</td>\n      <td>4.400507</td>\n      <td>-30.954063</td>\n      <td>10.943527</td>\n      <td>-42.904373</td>\n      <td>31.779869</td>\n      <td>8.937256</td>\n      <td>-45.450989</td>\n      <td>0.668765</td>\n      <td>0.150978</td>\n      <td>0.727982</td>\n      <td>0.554670</td>\n      <td>0.165521</td>\n      <td>0.815441</td>\n    </tr>\n    <tr>\n      <th>1</th>\n      <td>314b6274-7746-40e9-8d39-cbc46ab16dc9</td>\n      <td>9d2fe463-2d08-476c-9ba8-57d06914e18b</td>\n      <td>1706548527977841155</td>\n      <td>4.393271</td>\n      <td>-30.971268</td>\n      <td>11.009438</td>\n      <td>-42.935429</td>\n      <td>31.784168</td>\n      <td>9.055771</td>\n      <td>-45.459171</td>\n      <td>0.667736</td>\n      <td>0.139698</td>\n      <td>0.731172</td>\n      <td>0.554371</td>\n      <td>0.154230</td>\n      <td>0.817854</td>\n    </tr>\n  </tbody>\n</table>\n</div>"
     },
     "execution_count": 816,
     "metadata": {},
     "output_type": "execute_result"
    }
   ],
   "source": [
    "eye_states.head(2)"
   ],
   "metadata": {
    "collapsed": false,
    "ExecuteTime": {
     "end_time": "2024-02-02T04:54:24.879285Z",
     "start_time": "2024-02-02T04:54:24.616530Z"
    }
   }
  },
  {
   "cell_type": "code",
   "execution_count": 817,
   "outputs": [
    {
     "data": {
      "text/plain": "(3392, 16)"
     },
     "execution_count": 817,
     "metadata": {},
     "output_type": "execute_result"
    }
   ],
   "source": [
    "eye_states.shape"
   ],
   "metadata": {
    "collapsed": false,
    "ExecuteTime": {
     "end_time": "2024-02-02T04:54:24.879581Z",
     "start_time": "2024-02-02T04:54:24.620589Z"
    }
   }
  },
  {
   "cell_type": "code",
   "execution_count": 818,
   "outputs": [
    {
     "data": {
      "text/plain": "Index(['section id', 'recording id', 'timestamp [ns]', 'pupil diameter [mm]',\n       'eyeball center left x [mm]', 'eyeball center left y [mm]',\n       'eyeball center left z [mm]', 'eyeball center right x [mm]',\n       'eyeball center right y [mm]', 'eyeball center right z [mm]',\n       'optical axis left x', 'optical axis left y', 'optical axis left z',\n       'optical axis right x', 'optical axis right y', 'optical axis right z'],\n      dtype='object')"
     },
     "execution_count": 818,
     "metadata": {},
     "output_type": "execute_result"
    }
   ],
   "source": [
    "eye_states.columns"
   ],
   "metadata": {
    "collapsed": false,
    "ExecuteTime": {
     "end_time": "2024-02-02T04:54:24.884378Z",
     "start_time": "2024-02-02T04:54:24.624352Z"
    }
   }
  },
  {
   "cell_type": "code",
   "execution_count": 819,
   "outputs": [],
   "source": [
    "column_names_states = {'section id': 'section_id',\n",
    "                       'recording id': 'recording_id',\n",
    "                       'timestamp [ns]': 'timestamp',\n",
    "                       'pupil diameter [mm]': 'pupil_diameter',\n",
    "                       'eyeball center left x [mm]': 'eyeball_center_lx',\n",
    "                       'eyeball center left y [mm]': 'eyeball_center_ly',\n",
    "                       'eyeball center left z [mm]': 'eyeball_center_lz',\n",
    "                       'eyeball center right x [mm]': 'eyeball_center_rx',\n",
    "                       'eyeball center right y [mm]': 'eyeball_center_ry',\n",
    "                       'eyeball center right z [mm]': 'eyeball_center_rz',\n",
    "                       'optical axis left x': 'optical_axis_lx',\n",
    "                       'optical axis left y': 'optical_axis_ly',\n",
    "                       'optical axis left z': 'optical_axis_lz',\n",
    "                       'optical axis right x': 'optical_axis_rx',\n",
    "                       'optical axis right y': 'optical_axis_ry',\n",
    "                       'optical axis right z': 'optical_axis_rz'}\n",
    "\n",
    "eye_states = eye_states.rename(columns=column_names_states)"
   ],
   "metadata": {
    "collapsed": false,
    "ExecuteTime": {
     "end_time": "2024-02-02T04:54:24.884454Z",
     "start_time": "2024-02-02T04:54:24.627289Z"
    }
   }
  },
  {
   "cell_type": "code",
   "execution_count": 820,
   "outputs": [
    {
     "data": {
      "text/plain": "                             section_id                          recording_id  \\\n0  314b6274-7746-40e9-8d39-cbc46ab16dc9  9d2fe463-2d08-476c-9ba8-57d06914e18b   \n1  314b6274-7746-40e9-8d39-cbc46ab16dc9  9d2fe463-2d08-476c-9ba8-57d06914e18b   \n\n             timestamp  pupil_diameter  eyeball_center_lx  eyeball_center_ly  \\\n0  1706548527972841155        4.400507         -30.954063          10.943527   \n1  1706548527977841155        4.393271         -30.971268          11.009438   \n\n   eyeball_center_lz  eyeball_center_rx  eyeball_center_ry  eyeball_center_rz  \\\n0         -42.904373          31.779869           8.937256         -45.450989   \n1         -42.935429          31.784168           9.055771         -45.459171   \n\n   optical_axis_lx  optical_axis_ly  optical_axis_lz  optical_axis_rx  \\\n0         0.668765         0.150978         0.727982         0.554670   \n1         0.667736         0.139698         0.731172         0.554371   \n\n   optical_axis_ry  optical_axis_rz  \n0         0.165521         0.815441  \n1         0.154230         0.817854  ",
      "text/html": "<div>\n<style scoped>\n    .dataframe tbody tr th:only-of-type {\n        vertical-align: middle;\n    }\n\n    .dataframe tbody tr th {\n        vertical-align: top;\n    }\n\n    .dataframe thead th {\n        text-align: right;\n    }\n</style>\n<table border=\"1\" class=\"dataframe\">\n  <thead>\n    <tr style=\"text-align: right;\">\n      <th></th>\n      <th>section_id</th>\n      <th>recording_id</th>\n      <th>timestamp</th>\n      <th>pupil_diameter</th>\n      <th>eyeball_center_lx</th>\n      <th>eyeball_center_ly</th>\n      <th>eyeball_center_lz</th>\n      <th>eyeball_center_rx</th>\n      <th>eyeball_center_ry</th>\n      <th>eyeball_center_rz</th>\n      <th>optical_axis_lx</th>\n      <th>optical_axis_ly</th>\n      <th>optical_axis_lz</th>\n      <th>optical_axis_rx</th>\n      <th>optical_axis_ry</th>\n      <th>optical_axis_rz</th>\n    </tr>\n  </thead>\n  <tbody>\n    <tr>\n      <th>0</th>\n      <td>314b6274-7746-40e9-8d39-cbc46ab16dc9</td>\n      <td>9d2fe463-2d08-476c-9ba8-57d06914e18b</td>\n      <td>1706548527972841155</td>\n      <td>4.400507</td>\n      <td>-30.954063</td>\n      <td>10.943527</td>\n      <td>-42.904373</td>\n      <td>31.779869</td>\n      <td>8.937256</td>\n      <td>-45.450989</td>\n      <td>0.668765</td>\n      <td>0.150978</td>\n      <td>0.727982</td>\n      <td>0.554670</td>\n      <td>0.165521</td>\n      <td>0.815441</td>\n    </tr>\n    <tr>\n      <th>1</th>\n      <td>314b6274-7746-40e9-8d39-cbc46ab16dc9</td>\n      <td>9d2fe463-2d08-476c-9ba8-57d06914e18b</td>\n      <td>1706548527977841155</td>\n      <td>4.393271</td>\n      <td>-30.971268</td>\n      <td>11.009438</td>\n      <td>-42.935429</td>\n      <td>31.784168</td>\n      <td>9.055771</td>\n      <td>-45.459171</td>\n      <td>0.667736</td>\n      <td>0.139698</td>\n      <td>0.731172</td>\n      <td>0.554371</td>\n      <td>0.154230</td>\n      <td>0.817854</td>\n    </tr>\n  </tbody>\n</table>\n</div>"
     },
     "execution_count": 820,
     "metadata": {},
     "output_type": "execute_result"
    }
   ],
   "source": [
    "eye_states.head(2)"
   ],
   "metadata": {
    "collapsed": false,
    "ExecuteTime": {
     "end_time": "2024-02-02T04:54:24.884528Z",
     "start_time": "2024-02-02T04:54:24.637359Z"
    }
   }
  },
  {
   "cell_type": "code",
   "execution_count": 821,
   "outputs": [],
   "source": [
    "eye_states_short = eye_states[['timestamp', 'pupil_diameter', 'eyeball_center_lx', 'eyeball_center_ly', 'eyeball_center_lz', 'optical_axis_lx', 'optical_axis_ly', 'optical_axis_lz']]"
   ],
   "metadata": {
    "collapsed": false,
    "ExecuteTime": {
     "end_time": "2024-02-02T04:54:24.900712Z",
     "start_time": "2024-02-02T04:54:24.643500Z"
    }
   }
  },
  {
   "cell_type": "code",
   "execution_count": 822,
   "outputs": [
    {
     "data": {
      "text/plain": "             timestamp  pupil_diameter  eyeball_center_lx  eyeball_center_ly  \\\n0  1706548527972841155        4.400507         -30.954063          10.943527   \n1  1706548527977841155        4.393271         -30.971268          11.009438   \n\n   eyeball_center_lz  optical_axis_lx  optical_axis_ly  optical_axis_lz  \n0         -42.904373         0.668765         0.150978         0.727982  \n1         -42.935429         0.667736         0.139698         0.731172  ",
      "text/html": "<div>\n<style scoped>\n    .dataframe tbody tr th:only-of-type {\n        vertical-align: middle;\n    }\n\n    .dataframe tbody tr th {\n        vertical-align: top;\n    }\n\n    .dataframe thead th {\n        text-align: right;\n    }\n</style>\n<table border=\"1\" class=\"dataframe\">\n  <thead>\n    <tr style=\"text-align: right;\">\n      <th></th>\n      <th>timestamp</th>\n      <th>pupil_diameter</th>\n      <th>eyeball_center_lx</th>\n      <th>eyeball_center_ly</th>\n      <th>eyeball_center_lz</th>\n      <th>optical_axis_lx</th>\n      <th>optical_axis_ly</th>\n      <th>optical_axis_lz</th>\n    </tr>\n  </thead>\n  <tbody>\n    <tr>\n      <th>0</th>\n      <td>1706548527972841155</td>\n      <td>4.400507</td>\n      <td>-30.954063</td>\n      <td>10.943527</td>\n      <td>-42.904373</td>\n      <td>0.668765</td>\n      <td>0.150978</td>\n      <td>0.727982</td>\n    </tr>\n    <tr>\n      <th>1</th>\n      <td>1706548527977841155</td>\n      <td>4.393271</td>\n      <td>-30.971268</td>\n      <td>11.009438</td>\n      <td>-42.935429</td>\n      <td>0.667736</td>\n      <td>0.139698</td>\n      <td>0.731172</td>\n    </tr>\n  </tbody>\n</table>\n</div>"
     },
     "execution_count": 822,
     "metadata": {},
     "output_type": "execute_result"
    }
   ],
   "source": [
    "eye_states_short.head(2)"
   ],
   "metadata": {
    "collapsed": false,
    "ExecuteTime": {
     "end_time": "2024-02-02T04:54:24.907189Z",
     "start_time": "2024-02-02T04:54:24.647381Z"
    }
   }
  },
  {
   "cell_type": "markdown",
   "source": [
    "### Gaze"
   ],
   "metadata": {
    "collapsed": false
   }
  },
  {
   "cell_type": "code",
   "execution_count": 823,
   "outputs": [],
   "source": [
    "gaze = pd.read_csv('/Users/sophiayeremeeva/Desktop/uni/waterloo/2024/pilot /code/eye-tracking try/data/left_right_1/gaze.csv')"
   ],
   "metadata": {
    "collapsed": false,
    "ExecuteTime": {
     "end_time": "2024-02-02T04:54:24.917654Z",
     "start_time": "2024-02-02T04:54:24.651345Z"
    }
   }
  },
  {
   "cell_type": "code",
   "execution_count": 824,
   "outputs": [
    {
     "data": {
      "text/plain": "                             section id                          recording id  \\\n0  314b6274-7746-40e9-8d39-cbc46ab16dc9  9d2fe463-2d08-476c-9ba8-57d06914e18b   \n1  314b6274-7746-40e9-8d39-cbc46ab16dc9  9d2fe463-2d08-476c-9ba8-57d06914e18b   \n\n        timestamp [ns]  gaze x [px]  gaze y [px]  worn  fixation id  blink id  \\\n0  1706548527972841155     1509.113      630.542   1.0          NaN       NaN   \n1  1706548527977841155     1508.980      631.617   1.0          NaN       NaN   \n\n   azimuth [deg]  elevation [deg]  \n0      45.743824        -1.153173  \n1      45.735619        -1.216085  ",
      "text/html": "<div>\n<style scoped>\n    .dataframe tbody tr th:only-of-type {\n        vertical-align: middle;\n    }\n\n    .dataframe tbody tr th {\n        vertical-align: top;\n    }\n\n    .dataframe thead th {\n        text-align: right;\n    }\n</style>\n<table border=\"1\" class=\"dataframe\">\n  <thead>\n    <tr style=\"text-align: right;\">\n      <th></th>\n      <th>section id</th>\n      <th>recording id</th>\n      <th>timestamp [ns]</th>\n      <th>gaze x [px]</th>\n      <th>gaze y [px]</th>\n      <th>worn</th>\n      <th>fixation id</th>\n      <th>blink id</th>\n      <th>azimuth [deg]</th>\n      <th>elevation [deg]</th>\n    </tr>\n  </thead>\n  <tbody>\n    <tr>\n      <th>0</th>\n      <td>314b6274-7746-40e9-8d39-cbc46ab16dc9</td>\n      <td>9d2fe463-2d08-476c-9ba8-57d06914e18b</td>\n      <td>1706548527972841155</td>\n      <td>1509.113</td>\n      <td>630.542</td>\n      <td>1.0</td>\n      <td>NaN</td>\n      <td>NaN</td>\n      <td>45.743824</td>\n      <td>-1.153173</td>\n    </tr>\n    <tr>\n      <th>1</th>\n      <td>314b6274-7746-40e9-8d39-cbc46ab16dc9</td>\n      <td>9d2fe463-2d08-476c-9ba8-57d06914e18b</td>\n      <td>1706548527977841155</td>\n      <td>1508.980</td>\n      <td>631.617</td>\n      <td>1.0</td>\n      <td>NaN</td>\n      <td>NaN</td>\n      <td>45.735619</td>\n      <td>-1.216085</td>\n    </tr>\n  </tbody>\n</table>\n</div>"
     },
     "execution_count": 824,
     "metadata": {},
     "output_type": "execute_result"
    }
   ],
   "source": [
    "gaze.head(2)"
   ],
   "metadata": {
    "collapsed": false,
    "ExecuteTime": {
     "end_time": "2024-02-02T04:54:24.936590Z",
     "start_time": "2024-02-02T04:54:24.661523Z"
    }
   }
  },
  {
   "cell_type": "code",
   "execution_count": 825,
   "outputs": [],
   "source": [
    "column_names_gaze = {'section id' : 'section_id',\n",
    "                     'recording id' : 'recording_id',\n",
    "                     'timestamp [ns]' : 'timestamp',\n",
    "                     'gaze x [px]' : 'gaze_x',\n",
    "                     'gaze y [px]' : 'gaze_y',\n",
    "                     'fixation id' : 'fixation_id',\n",
    "                     'blink id' : 'blink_id',\n",
    "                     'azimuth [deg]' : 'azimuth',\n",
    "                     'elevation [deg]' : 'elevation'}\n",
    "\n",
    "gaze = gaze.rename(columns=column_names_gaze)"
   ],
   "metadata": {
    "collapsed": false,
    "ExecuteTime": {
     "end_time": "2024-02-02T04:54:24.937001Z",
     "start_time": "2024-02-02T04:54:24.665582Z"
    }
   }
  },
  {
   "cell_type": "code",
   "execution_count": 826,
   "outputs": [],
   "source": [
    "gaze_short = gaze[['timestamp', 'gaze_x', 'gaze_y', 'azimuth', 'elevation']]"
   ],
   "metadata": {
    "collapsed": false,
    "ExecuteTime": {
     "end_time": "2024-02-02T04:54:24.937054Z",
     "start_time": "2024-02-02T04:54:24.669169Z"
    }
   }
  },
  {
   "cell_type": "markdown",
   "source": [
    "### Events"
   ],
   "metadata": {
    "collapsed": false
   }
  },
  {
   "cell_type": "code",
   "execution_count": 827,
   "outputs": [],
   "source": [
    "events = pd.read_csv('/Users/sophiayeremeeva/Desktop/uni/waterloo/2024/pilot /code/eye-tracking try/data/left_right_1/events.csv')"
   ],
   "metadata": {
    "collapsed": false,
    "ExecuteTime": {
     "end_time": "2024-02-02T04:54:24.943843Z",
     "start_time": "2024-02-02T04:54:24.672297Z"
    }
   }
  },
  {
   "cell_type": "code",
   "execution_count": 828,
   "outputs": [
    {
     "data": {
      "text/plain": "                           recording id       timestamp [ns]             name  \\\n0  9d2fe463-2d08-476c-9ba8-57d06914e18b  1706548526297000000  recording.begin   \n1  9d2fe463-2d08-476c-9ba8-57d06914e18b  1706548529749240000       left.start   \n\n        type  \n0  recording  \n1      cloud  ",
      "text/html": "<div>\n<style scoped>\n    .dataframe tbody tr th:only-of-type {\n        vertical-align: middle;\n    }\n\n    .dataframe tbody tr th {\n        vertical-align: top;\n    }\n\n    .dataframe thead th {\n        text-align: right;\n    }\n</style>\n<table border=\"1\" class=\"dataframe\">\n  <thead>\n    <tr style=\"text-align: right;\">\n      <th></th>\n      <th>recording id</th>\n      <th>timestamp [ns]</th>\n      <th>name</th>\n      <th>type</th>\n    </tr>\n  </thead>\n  <tbody>\n    <tr>\n      <th>0</th>\n      <td>9d2fe463-2d08-476c-9ba8-57d06914e18b</td>\n      <td>1706548526297000000</td>\n      <td>recording.begin</td>\n      <td>recording</td>\n    </tr>\n    <tr>\n      <th>1</th>\n      <td>9d2fe463-2d08-476c-9ba8-57d06914e18b</td>\n      <td>1706548529749240000</td>\n      <td>left.start</td>\n      <td>cloud</td>\n    </tr>\n  </tbody>\n</table>\n</div>"
     },
     "execution_count": 828,
     "metadata": {},
     "output_type": "execute_result"
    }
   ],
   "source": [
    "events.head(2)"
   ],
   "metadata": {
    "collapsed": false,
    "ExecuteTime": {
     "end_time": "2024-02-02T04:54:24.944009Z",
     "start_time": "2024-02-02T04:54:24.681661Z"
    }
   }
  },
  {
   "cell_type": "code",
   "execution_count": 829,
   "outputs": [
    {
     "data": {
      "text/plain": "Index(['recording id', 'timestamp [ns]', 'name', 'type'], dtype='object')"
     },
     "execution_count": 829,
     "metadata": {},
     "output_type": "execute_result"
    }
   ],
   "source": [
    "events.columns"
   ],
   "metadata": {
    "collapsed": false,
    "ExecuteTime": {
     "end_time": "2024-02-02T04:54:24.944087Z",
     "start_time": "2024-02-02T04:54:24.684876Z"
    }
   }
  },
  {
   "cell_type": "code",
   "execution_count": 830,
   "outputs": [],
   "source": [
    "events = events.rename(columns={'recording id' : 'recording_id', 'timestamp [ns]' : 'timestamp'})"
   ],
   "metadata": {
    "collapsed": false,
    "ExecuteTime": {
     "end_time": "2024-02-02T04:54:24.955718Z",
     "start_time": "2024-02-02T04:54:24.689171Z"
    }
   }
  },
  {
   "cell_type": "code",
   "execution_count": 831,
   "outputs": [
    {
     "data": {
      "text/plain": "                           recording_id            timestamp             name  \\\n0  9d2fe463-2d08-476c-9ba8-57d06914e18b  1706548526297000000  recording.begin   \n1  9d2fe463-2d08-476c-9ba8-57d06914e18b  1706548529749240000       left.start   \n\n        type  \n0  recording  \n1      cloud  ",
      "text/html": "<div>\n<style scoped>\n    .dataframe tbody tr th:only-of-type {\n        vertical-align: middle;\n    }\n\n    .dataframe tbody tr th {\n        vertical-align: top;\n    }\n\n    .dataframe thead th {\n        text-align: right;\n    }\n</style>\n<table border=\"1\" class=\"dataframe\">\n  <thead>\n    <tr style=\"text-align: right;\">\n      <th></th>\n      <th>recording_id</th>\n      <th>timestamp</th>\n      <th>name</th>\n      <th>type</th>\n    </tr>\n  </thead>\n  <tbody>\n    <tr>\n      <th>0</th>\n      <td>9d2fe463-2d08-476c-9ba8-57d06914e18b</td>\n      <td>1706548526297000000</td>\n      <td>recording.begin</td>\n      <td>recording</td>\n    </tr>\n    <tr>\n      <th>1</th>\n      <td>9d2fe463-2d08-476c-9ba8-57d06914e18b</td>\n      <td>1706548529749240000</td>\n      <td>left.start</td>\n      <td>cloud</td>\n    </tr>\n  </tbody>\n</table>\n</div>"
     },
     "execution_count": 831,
     "metadata": {},
     "output_type": "execute_result"
    }
   ],
   "source": [
    "events.head(2)"
   ],
   "metadata": {
    "collapsed": false,
    "ExecuteTime": {
     "end_time": "2024-02-02T04:54:24.956230Z",
     "start_time": "2024-02-02T04:54:24.692799Z"
    }
   }
  },
  {
   "cell_type": "code",
   "execution_count": 832,
   "outputs": [],
   "source": [
    "events_short = events[['timestamp', 'name']]"
   ],
   "metadata": {
    "collapsed": false,
    "ExecuteTime": {
     "end_time": "2024-02-02T04:54:24.956273Z",
     "start_time": "2024-02-02T04:54:24.696895Z"
    }
   }
  },
  {
   "cell_type": "markdown",
   "source": [
    "## Merge datasets"
   ],
   "metadata": {
    "collapsed": false
   }
  },
  {
   "cell_type": "code",
   "execution_count": 833,
   "outputs": [],
   "source": [
    "eye_states_gaze = eye_states_short.merge(gaze_short, on='timestamp')"
   ],
   "metadata": {
    "collapsed": false,
    "ExecuteTime": {
     "end_time": "2024-02-02T04:54:24.956701Z",
     "start_time": "2024-02-02T04:54:24.700622Z"
    }
   }
  },
  {
   "cell_type": "code",
   "execution_count": 834,
   "outputs": [
    {
     "data": {
      "text/plain": "             timestamp  pupil_diameter  eyeball_center_lx  eyeball_center_ly  \\\n0  1706548527972841155        4.400507         -30.954063          10.943527   \n1  1706548527977841155        4.393271         -30.971268          11.009438   \n\n   eyeball_center_lz  optical_axis_lx  optical_axis_ly  optical_axis_lz  \\\n0         -42.904373         0.668765         0.150978         0.727982   \n1         -42.935429         0.667736         0.139698         0.731172   \n\n     gaze_x   gaze_y    azimuth  elevation  \n0  1509.113  630.542  45.743824  -1.153173  \n1  1508.980  631.617  45.735619  -1.216085  ",
      "text/html": "<div>\n<style scoped>\n    .dataframe tbody tr th:only-of-type {\n        vertical-align: middle;\n    }\n\n    .dataframe tbody tr th {\n        vertical-align: top;\n    }\n\n    .dataframe thead th {\n        text-align: right;\n    }\n</style>\n<table border=\"1\" class=\"dataframe\">\n  <thead>\n    <tr style=\"text-align: right;\">\n      <th></th>\n      <th>timestamp</th>\n      <th>pupil_diameter</th>\n      <th>eyeball_center_lx</th>\n      <th>eyeball_center_ly</th>\n      <th>eyeball_center_lz</th>\n      <th>optical_axis_lx</th>\n      <th>optical_axis_ly</th>\n      <th>optical_axis_lz</th>\n      <th>gaze_x</th>\n      <th>gaze_y</th>\n      <th>azimuth</th>\n      <th>elevation</th>\n    </tr>\n  </thead>\n  <tbody>\n    <tr>\n      <th>0</th>\n      <td>1706548527972841155</td>\n      <td>4.400507</td>\n      <td>-30.954063</td>\n      <td>10.943527</td>\n      <td>-42.904373</td>\n      <td>0.668765</td>\n      <td>0.150978</td>\n      <td>0.727982</td>\n      <td>1509.113</td>\n      <td>630.542</td>\n      <td>45.743824</td>\n      <td>-1.153173</td>\n    </tr>\n    <tr>\n      <th>1</th>\n      <td>1706548527977841155</td>\n      <td>4.393271</td>\n      <td>-30.971268</td>\n      <td>11.009438</td>\n      <td>-42.935429</td>\n      <td>0.667736</td>\n      <td>0.139698</td>\n      <td>0.731172</td>\n      <td>1508.980</td>\n      <td>631.617</td>\n      <td>45.735619</td>\n      <td>-1.216085</td>\n    </tr>\n  </tbody>\n</table>\n</div>"
     },
     "execution_count": 834,
     "metadata": {},
     "output_type": "execute_result"
    }
   ],
   "source": [
    "eye_states_gaze.head(2)"
   ],
   "metadata": {
    "collapsed": false,
    "ExecuteTime": {
     "end_time": "2024-02-02T04:54:24.956793Z",
     "start_time": "2024-02-02T04:54:24.707785Z"
    }
   }
  },
  {
   "cell_type": "code",
   "execution_count": 835,
   "outputs": [
    {
     "data": {
      "text/plain": "(3392, 12)"
     },
     "execution_count": 835,
     "metadata": {},
     "output_type": "execute_result"
    }
   ],
   "source": [
    "eye_states_gaze.shape"
   ],
   "metadata": {
    "collapsed": false,
    "ExecuteTime": {
     "end_time": "2024-02-02T04:54:24.957171Z",
     "start_time": "2024-02-02T04:54:24.712105Z"
    }
   }
  },
  {
   "cell_type": "code",
   "execution_count": 836,
   "outputs": [],
   "source": [
    "eye_states_gaze_events = eye_states_gaze.merge(events_short, how='outer', on='timestamp')"
   ],
   "metadata": {
    "collapsed": false,
    "ExecuteTime": {
     "end_time": "2024-02-02T04:54:24.957366Z",
     "start_time": "2024-02-02T04:54:24.715841Z"
    }
   }
  },
  {
   "cell_type": "code",
   "execution_count": 837,
   "outputs": [
    {
     "data": {
      "text/plain": "             timestamp  pupil_diameter  eyeball_center_lx  eyeball_center_ly  \\\n0  1706548526297000000             NaN                NaN                NaN   \n1  1706548527972841155        4.400507         -30.954063          10.943527   \n\n   eyeball_center_lz  optical_axis_lx  optical_axis_ly  optical_axis_lz  \\\n0                NaN              NaN              NaN              NaN   \n1         -42.904373         0.668765         0.150978         0.727982   \n\n     gaze_x   gaze_y    azimuth  elevation             name  \n0       NaN      NaN        NaN        NaN  recording.begin  \n1  1509.113  630.542  45.743824  -1.153173              NaN  ",
      "text/html": "<div>\n<style scoped>\n    .dataframe tbody tr th:only-of-type {\n        vertical-align: middle;\n    }\n\n    .dataframe tbody tr th {\n        vertical-align: top;\n    }\n\n    .dataframe thead th {\n        text-align: right;\n    }\n</style>\n<table border=\"1\" class=\"dataframe\">\n  <thead>\n    <tr style=\"text-align: right;\">\n      <th></th>\n      <th>timestamp</th>\n      <th>pupil_diameter</th>\n      <th>eyeball_center_lx</th>\n      <th>eyeball_center_ly</th>\n      <th>eyeball_center_lz</th>\n      <th>optical_axis_lx</th>\n      <th>optical_axis_ly</th>\n      <th>optical_axis_lz</th>\n      <th>gaze_x</th>\n      <th>gaze_y</th>\n      <th>azimuth</th>\n      <th>elevation</th>\n      <th>name</th>\n    </tr>\n  </thead>\n  <tbody>\n    <tr>\n      <th>0</th>\n      <td>1706548526297000000</td>\n      <td>NaN</td>\n      <td>NaN</td>\n      <td>NaN</td>\n      <td>NaN</td>\n      <td>NaN</td>\n      <td>NaN</td>\n      <td>NaN</td>\n      <td>NaN</td>\n      <td>NaN</td>\n      <td>NaN</td>\n      <td>NaN</td>\n      <td>recording.begin</td>\n    </tr>\n    <tr>\n      <th>1</th>\n      <td>1706548527972841155</td>\n      <td>4.400507</td>\n      <td>-30.954063</td>\n      <td>10.943527</td>\n      <td>-42.904373</td>\n      <td>0.668765</td>\n      <td>0.150978</td>\n      <td>0.727982</td>\n      <td>1509.113</td>\n      <td>630.542</td>\n      <td>45.743824</td>\n      <td>-1.153173</td>\n      <td>NaN</td>\n    </tr>\n  </tbody>\n</table>\n</div>"
     },
     "execution_count": 837,
     "metadata": {},
     "output_type": "execute_result"
    }
   ],
   "source": [
    "eye_states_gaze_events.head(2)"
   ],
   "metadata": {
    "collapsed": false,
    "ExecuteTime": {
     "end_time": "2024-02-02T04:54:24.957479Z",
     "start_time": "2024-02-02T04:54:24.725351Z"
    }
   }
  },
  {
   "cell_type": "markdown",
   "source": [
    "## Timestamps to date"
   ],
   "metadata": {
    "collapsed": false
   }
  },
  {
   "cell_type": "code",
   "execution_count": 838,
   "outputs": [],
   "source": [
    "eye_states_gaze_events['timestamp_data'] = [datetime.fromtimestamp(ts // 1000000000) for ts in eye_states_gaze_events['timestamp']]"
   ],
   "metadata": {
    "collapsed": false,
    "ExecuteTime": {
     "end_time": "2024-02-02T04:54:24.957534Z",
     "start_time": "2024-02-02T04:54:24.735528Z"
    }
   }
  },
  {
   "cell_type": "code",
   "execution_count": 876,
   "outputs": [
    {
     "data": {
      "text/plain": "                timestamp  pupil_diameter  eyeball_center_lx  \\\n0     1706548526297000000             NaN                NaN   \n1     1706548527972841155        4.400507         -30.954063   \n2     1706548527977841155        4.393271         -30.971268   \n3     1706548527982841155        4.416283         -30.960403   \n4     1706548527987842155        4.375106         -31.095406   \n...                   ...             ...                ...   \n3403  1706548545429027155        4.615670         -30.385132   \n3404  1706548545434027155        4.606209         -30.430885   \n3405  1706548545439027155        4.637825         -30.498497   \n3406  1706548545444027155        4.612514         -30.390335   \n3407  1706548545464000000             NaN                NaN   \n\n      eyeball_center_ly  eyeball_center_lz  optical_axis_lx  optical_axis_ly  \\\n0                   NaN                NaN              NaN              NaN   \n1             10.943527         -42.904373         0.668765         0.150978   \n2             11.009438         -42.935429         0.667736         0.139698   \n3             10.955486         -43.152336         0.659068         0.149053   \n4             11.030838         -43.054916         0.670883         0.143164   \n...                 ...                ...              ...              ...   \n3403           9.416206         -43.973793         0.155316         0.314182   \n3404           9.503151         -44.088055         0.158395         0.305925   \n3405           9.405804         -44.048691         0.163724         0.307906   \n3406           9.488983         -44.013309         0.154247         0.305902   \n3407                NaN                NaN              NaN              NaN   \n\n      optical_axis_lz    gaze_x   gaze_y    azimuth  elevation  \\\n0                 NaN       NaN      NaN        NaN        NaN   \n1            0.727982  1509.113  630.542  45.743824  -1.153173   \n2            0.731172  1508.980  631.617  45.735619  -1.216085   \n3            0.737166  1505.988  636.410  45.538098  -1.497629   \n4            0.727612  1503.747  633.722  45.384740  -1.341200   \n...               ...       ...      ...        ...        ...   \n3403         0.936572   861.746  808.317   3.581123 -12.872572   \n3404         0.938787   859.763  812.914   3.452298 -13.171601   \n3405         0.937224   858.996  812.287   3.401064 -13.131212   \n3406         0.939485   860.582  806.662   3.503003 -12.765539   \n3407              NaN       NaN      NaN        NaN        NaN   \n\n                 name      timestamp_data  \n0     recording.begin 2024-01-29 12:15:26  \n1                 NaN 2024-01-29 12:15:27  \n2                 NaN 2024-01-29 12:15:27  \n3                 NaN 2024-01-29 12:15:27  \n4                 NaN 2024-01-29 12:15:27  \n...               ...                 ...  \n3403              NaN 2024-01-29 12:15:45  \n3404              NaN 2024-01-29 12:15:45  \n3405              NaN 2024-01-29 12:15:45  \n3406              NaN 2024-01-29 12:15:45  \n3407    recording.end 2024-01-29 12:15:45  \n\n[3408 rows x 14 columns]",
      "text/html": "<div>\n<style scoped>\n    .dataframe tbody tr th:only-of-type {\n        vertical-align: middle;\n    }\n\n    .dataframe tbody tr th {\n        vertical-align: top;\n    }\n\n    .dataframe thead th {\n        text-align: right;\n    }\n</style>\n<table border=\"1\" class=\"dataframe\">\n  <thead>\n    <tr style=\"text-align: right;\">\n      <th></th>\n      <th>timestamp</th>\n      <th>pupil_diameter</th>\n      <th>eyeball_center_lx</th>\n      <th>eyeball_center_ly</th>\n      <th>eyeball_center_lz</th>\n      <th>optical_axis_lx</th>\n      <th>optical_axis_ly</th>\n      <th>optical_axis_lz</th>\n      <th>gaze_x</th>\n      <th>gaze_y</th>\n      <th>azimuth</th>\n      <th>elevation</th>\n      <th>name</th>\n      <th>timestamp_data</th>\n    </tr>\n  </thead>\n  <tbody>\n    <tr>\n      <th>0</th>\n      <td>1706548526297000000</td>\n      <td>NaN</td>\n      <td>NaN</td>\n      <td>NaN</td>\n      <td>NaN</td>\n      <td>NaN</td>\n      <td>NaN</td>\n      <td>NaN</td>\n      <td>NaN</td>\n      <td>NaN</td>\n      <td>NaN</td>\n      <td>NaN</td>\n      <td>recording.begin</td>\n      <td>2024-01-29 12:15:26</td>\n    </tr>\n    <tr>\n      <th>1</th>\n      <td>1706548527972841155</td>\n      <td>4.400507</td>\n      <td>-30.954063</td>\n      <td>10.943527</td>\n      <td>-42.904373</td>\n      <td>0.668765</td>\n      <td>0.150978</td>\n      <td>0.727982</td>\n      <td>1509.113</td>\n      <td>630.542</td>\n      <td>45.743824</td>\n      <td>-1.153173</td>\n      <td>NaN</td>\n      <td>2024-01-29 12:15:27</td>\n    </tr>\n    <tr>\n      <th>2</th>\n      <td>1706548527977841155</td>\n      <td>4.393271</td>\n      <td>-30.971268</td>\n      <td>11.009438</td>\n      <td>-42.935429</td>\n      <td>0.667736</td>\n      <td>0.139698</td>\n      <td>0.731172</td>\n      <td>1508.980</td>\n      <td>631.617</td>\n      <td>45.735619</td>\n      <td>-1.216085</td>\n      <td>NaN</td>\n      <td>2024-01-29 12:15:27</td>\n    </tr>\n    <tr>\n      <th>3</th>\n      <td>1706548527982841155</td>\n      <td>4.416283</td>\n      <td>-30.960403</td>\n      <td>10.955486</td>\n      <td>-43.152336</td>\n      <td>0.659068</td>\n      <td>0.149053</td>\n      <td>0.737166</td>\n      <td>1505.988</td>\n      <td>636.410</td>\n      <td>45.538098</td>\n      <td>-1.497629</td>\n      <td>NaN</td>\n      <td>2024-01-29 12:15:27</td>\n    </tr>\n    <tr>\n      <th>4</th>\n      <td>1706548527987842155</td>\n      <td>4.375106</td>\n      <td>-31.095406</td>\n      <td>11.030838</td>\n      <td>-43.054916</td>\n      <td>0.670883</td>\n      <td>0.143164</td>\n      <td>0.727612</td>\n      <td>1503.747</td>\n      <td>633.722</td>\n      <td>45.384740</td>\n      <td>-1.341200</td>\n      <td>NaN</td>\n      <td>2024-01-29 12:15:27</td>\n    </tr>\n    <tr>\n      <th>...</th>\n      <td>...</td>\n      <td>...</td>\n      <td>...</td>\n      <td>...</td>\n      <td>...</td>\n      <td>...</td>\n      <td>...</td>\n      <td>...</td>\n      <td>...</td>\n      <td>...</td>\n      <td>...</td>\n      <td>...</td>\n      <td>...</td>\n      <td>...</td>\n    </tr>\n    <tr>\n      <th>3403</th>\n      <td>1706548545429027155</td>\n      <td>4.615670</td>\n      <td>-30.385132</td>\n      <td>9.416206</td>\n      <td>-43.973793</td>\n      <td>0.155316</td>\n      <td>0.314182</td>\n      <td>0.936572</td>\n      <td>861.746</td>\n      <td>808.317</td>\n      <td>3.581123</td>\n      <td>-12.872572</td>\n      <td>NaN</td>\n      <td>2024-01-29 12:15:45</td>\n    </tr>\n    <tr>\n      <th>3404</th>\n      <td>1706548545434027155</td>\n      <td>4.606209</td>\n      <td>-30.430885</td>\n      <td>9.503151</td>\n      <td>-44.088055</td>\n      <td>0.158395</td>\n      <td>0.305925</td>\n      <td>0.938787</td>\n      <td>859.763</td>\n      <td>812.914</td>\n      <td>3.452298</td>\n      <td>-13.171601</td>\n      <td>NaN</td>\n      <td>2024-01-29 12:15:45</td>\n    </tr>\n    <tr>\n      <th>3405</th>\n      <td>1706548545439027155</td>\n      <td>4.637825</td>\n      <td>-30.498497</td>\n      <td>9.405804</td>\n      <td>-44.048691</td>\n      <td>0.163724</td>\n      <td>0.307906</td>\n      <td>0.937224</td>\n      <td>858.996</td>\n      <td>812.287</td>\n      <td>3.401064</td>\n      <td>-13.131212</td>\n      <td>NaN</td>\n      <td>2024-01-29 12:15:45</td>\n    </tr>\n    <tr>\n      <th>3406</th>\n      <td>1706548545444027155</td>\n      <td>4.612514</td>\n      <td>-30.390335</td>\n      <td>9.488983</td>\n      <td>-44.013309</td>\n      <td>0.154247</td>\n      <td>0.305902</td>\n      <td>0.939485</td>\n      <td>860.582</td>\n      <td>806.662</td>\n      <td>3.503003</td>\n      <td>-12.765539</td>\n      <td>NaN</td>\n      <td>2024-01-29 12:15:45</td>\n    </tr>\n    <tr>\n      <th>3407</th>\n      <td>1706548545464000000</td>\n      <td>NaN</td>\n      <td>NaN</td>\n      <td>NaN</td>\n      <td>NaN</td>\n      <td>NaN</td>\n      <td>NaN</td>\n      <td>NaN</td>\n      <td>NaN</td>\n      <td>NaN</td>\n      <td>NaN</td>\n      <td>NaN</td>\n      <td>recording.end</td>\n      <td>2024-01-29 12:15:45</td>\n    </tr>\n  </tbody>\n</table>\n<p>3408 rows × 14 columns</p>\n</div>"
     },
     "execution_count": 876,
     "metadata": {},
     "output_type": "execute_result"
    }
   ],
   "source": [
    "eye_states_gaze_events"
   ],
   "metadata": {
    "collapsed": false,
    "ExecuteTime": {
     "end_time": "2024-02-02T17:00:27.432103Z",
     "start_time": "2024-02-02T17:00:27.405621Z"
    }
   }
  },
  {
   "cell_type": "markdown",
   "source": [
    "## Separate Left and Right parts"
   ],
   "metadata": {
    "collapsed": false
   }
  },
  {
   "cell_type": "markdown",
   "source": [
    "### Left"
   ],
   "metadata": {
    "collapsed": false
   }
  },
  {
   "cell_type": "code",
   "execution_count": 840,
   "outputs": [],
   "source": [
    "filtered_left_indexes = eye_states_gaze_events[(eye_states_gaze_events['name'] == 'left.start') |\n",
    "                                       (eye_states_gaze_events['name'] == 'left.end')].index"
   ],
   "metadata": {
    "collapsed": false,
    "ExecuteTime": {
     "end_time": "2024-02-02T04:54:24.957684Z",
     "start_time": "2024-02-02T04:54:24.747966Z"
    }
   }
  },
  {
   "cell_type": "code",
   "execution_count": 841,
   "outputs": [
    {
     "data": {
      "text/plain": "Index([297, 445, 873, 1142, 1669, 1981, 2440, 2801], dtype='int64')"
     },
     "execution_count": 841,
     "metadata": {},
     "output_type": "execute_result"
    }
   ],
   "source": [
    "filtered_left_indexes"
   ],
   "metadata": {
    "collapsed": false,
    "ExecuteTime": {
     "end_time": "2024-02-02T04:54:24.957782Z",
     "start_time": "2024-02-02T04:54:24.751407Z"
    }
   }
  },
  {
   "cell_type": "code",
   "execution_count": 842,
   "outputs": [],
   "source": [
    "filtered_left = pd.DataFrame()\n",
    "for i in range(0, len(filtered_left_indexes), 2):\n",
    "    filtered_left = pd.concat([filtered_left, eye_states_gaze_events.loc[filtered_left_indexes[i]:filtered_left_indexes[i+1]]])"
   ],
   "metadata": {
    "collapsed": false,
    "ExecuteTime": {
     "end_time": "2024-02-02T04:54:24.957837Z",
     "start_time": "2024-02-02T04:54:24.756485Z"
    }
   }
  },
  {
   "cell_type": "code",
   "execution_count": 843,
   "outputs": [
    {
     "data": {
      "text/plain": "               timestamp  pupil_diameter  eyeball_center_lx  \\\n297  1706548529749240000             NaN                NaN   \n298  1706548529749475155        4.998295         -31.502335   \n\n     eyeball_center_ly  eyeball_center_lz  optical_axis_lx  optical_axis_ly  \\\n297                NaN                NaN              NaN              NaN   \n298          11.016953         -45.538109        -0.289663         0.216337   \n\n     optical_axis_lz   gaze_x   gaze_y    azimuth  elevation        name  \\\n297              NaN      NaN      NaN        NaN        NaN  left.start   \n298         0.932359  436.667  781.422 -24.338445 -10.741292         NaN   \n\n         timestamp_data  \n297 2024-01-29 12:15:29  \n298 2024-01-29 12:15:29  ",
      "text/html": "<div>\n<style scoped>\n    .dataframe tbody tr th:only-of-type {\n        vertical-align: middle;\n    }\n\n    .dataframe tbody tr th {\n        vertical-align: top;\n    }\n\n    .dataframe thead th {\n        text-align: right;\n    }\n</style>\n<table border=\"1\" class=\"dataframe\">\n  <thead>\n    <tr style=\"text-align: right;\">\n      <th></th>\n      <th>timestamp</th>\n      <th>pupil_diameter</th>\n      <th>eyeball_center_lx</th>\n      <th>eyeball_center_ly</th>\n      <th>eyeball_center_lz</th>\n      <th>optical_axis_lx</th>\n      <th>optical_axis_ly</th>\n      <th>optical_axis_lz</th>\n      <th>gaze_x</th>\n      <th>gaze_y</th>\n      <th>azimuth</th>\n      <th>elevation</th>\n      <th>name</th>\n      <th>timestamp_data</th>\n    </tr>\n  </thead>\n  <tbody>\n    <tr>\n      <th>297</th>\n      <td>1706548529749240000</td>\n      <td>NaN</td>\n      <td>NaN</td>\n      <td>NaN</td>\n      <td>NaN</td>\n      <td>NaN</td>\n      <td>NaN</td>\n      <td>NaN</td>\n      <td>NaN</td>\n      <td>NaN</td>\n      <td>NaN</td>\n      <td>NaN</td>\n      <td>left.start</td>\n      <td>2024-01-29 12:15:29</td>\n    </tr>\n    <tr>\n      <th>298</th>\n      <td>1706548529749475155</td>\n      <td>4.998295</td>\n      <td>-31.502335</td>\n      <td>11.016953</td>\n      <td>-45.538109</td>\n      <td>-0.289663</td>\n      <td>0.216337</td>\n      <td>0.932359</td>\n      <td>436.667</td>\n      <td>781.422</td>\n      <td>-24.338445</td>\n      <td>-10.741292</td>\n      <td>NaN</td>\n      <td>2024-01-29 12:15:29</td>\n    </tr>\n  </tbody>\n</table>\n</div>"
     },
     "execution_count": 843,
     "metadata": {},
     "output_type": "execute_result"
    }
   ],
   "source": [
    "filtered_left.head(2)"
   ],
   "metadata": {
    "collapsed": false,
    "ExecuteTime": {
     "end_time": "2024-02-02T04:54:24.957919Z",
     "start_time": "2024-02-02T04:54:24.764252Z"
    }
   }
  },
  {
   "cell_type": "code",
   "execution_count": 844,
   "outputs": [],
   "source": [
    "filtered_left['name'] = filtered_left['name'].apply(lambda x: 'left' if pd.isna(x) else x)"
   ],
   "metadata": {
    "collapsed": false,
    "ExecuteTime": {
     "end_time": "2024-02-02T04:54:24.957983Z",
     "start_time": "2024-02-02T04:54:24.768701Z"
    }
   }
  },
  {
   "cell_type": "code",
   "execution_count": 845,
   "outputs": [
    {
     "data": {
      "text/plain": "               timestamp  pupil_diameter  eyeball_center_lx  \\\n297  1706548529749240000             NaN                NaN   \n298  1706548529749475155        4.998295         -31.502335   \n\n     eyeball_center_ly  eyeball_center_lz  optical_axis_lx  optical_axis_ly  \\\n297                NaN                NaN              NaN              NaN   \n298          11.016953         -45.538109        -0.289663         0.216337   \n\n     optical_axis_lz   gaze_x   gaze_y    azimuth  elevation        name  \\\n297              NaN      NaN      NaN        NaN        NaN  left.start   \n298         0.932359  436.667  781.422 -24.338445 -10.741292        left   \n\n         timestamp_data  \n297 2024-01-29 12:15:29  \n298 2024-01-29 12:15:29  ",
      "text/html": "<div>\n<style scoped>\n    .dataframe tbody tr th:only-of-type {\n        vertical-align: middle;\n    }\n\n    .dataframe tbody tr th {\n        vertical-align: top;\n    }\n\n    .dataframe thead th {\n        text-align: right;\n    }\n</style>\n<table border=\"1\" class=\"dataframe\">\n  <thead>\n    <tr style=\"text-align: right;\">\n      <th></th>\n      <th>timestamp</th>\n      <th>pupil_diameter</th>\n      <th>eyeball_center_lx</th>\n      <th>eyeball_center_ly</th>\n      <th>eyeball_center_lz</th>\n      <th>optical_axis_lx</th>\n      <th>optical_axis_ly</th>\n      <th>optical_axis_lz</th>\n      <th>gaze_x</th>\n      <th>gaze_y</th>\n      <th>azimuth</th>\n      <th>elevation</th>\n      <th>name</th>\n      <th>timestamp_data</th>\n    </tr>\n  </thead>\n  <tbody>\n    <tr>\n      <th>297</th>\n      <td>1706548529749240000</td>\n      <td>NaN</td>\n      <td>NaN</td>\n      <td>NaN</td>\n      <td>NaN</td>\n      <td>NaN</td>\n      <td>NaN</td>\n      <td>NaN</td>\n      <td>NaN</td>\n      <td>NaN</td>\n      <td>NaN</td>\n      <td>NaN</td>\n      <td>left.start</td>\n      <td>2024-01-29 12:15:29</td>\n    </tr>\n    <tr>\n      <th>298</th>\n      <td>1706548529749475155</td>\n      <td>4.998295</td>\n      <td>-31.502335</td>\n      <td>11.016953</td>\n      <td>-45.538109</td>\n      <td>-0.289663</td>\n      <td>0.216337</td>\n      <td>0.932359</td>\n      <td>436.667</td>\n      <td>781.422</td>\n      <td>-24.338445</td>\n      <td>-10.741292</td>\n      <td>left</td>\n      <td>2024-01-29 12:15:29</td>\n    </tr>\n  </tbody>\n</table>\n</div>"
     },
     "execution_count": 845,
     "metadata": {},
     "output_type": "execute_result"
    }
   ],
   "source": [
    "filtered_left.head(2)"
   ],
   "metadata": {
    "collapsed": false,
    "ExecuteTime": {
     "end_time": "2024-02-02T04:54:24.958115Z",
     "start_time": "2024-02-02T04:54:24.775304Z"
    }
   }
  },
  {
   "cell_type": "code",
   "execution_count": 846,
   "outputs": [],
   "source": [
    "left = filtered_left.dropna().reset_index(drop=True)"
   ],
   "metadata": {
    "collapsed": false,
    "ExecuteTime": {
     "end_time": "2024-02-02T04:54:24.958184Z",
     "start_time": "2024-02-02T04:54:24.778521Z"
    }
   }
  },
  {
   "cell_type": "code",
   "execution_count": 847,
   "outputs": [
    {
     "data": {
      "text/plain": "             timestamp  pupil_diameter  eyeball_center_lx  eyeball_center_ly  \\\n0  1706548529749475155        4.998295         -31.502335          11.016953   \n1  1706548529754472155        5.010161         -31.518356          10.854866   \n\n   eyeball_center_lz  optical_axis_lx  optical_axis_ly  optical_axis_lz  \\\n0         -45.538109        -0.289663         0.216337         0.932359   \n1         -45.421600        -0.283622         0.235413         0.929591   \n\n    gaze_x   gaze_y    azimuth  elevation  name      timestamp_data  \n0  436.667  781.422 -24.338445 -10.741292  left 2024-01-29 12:15:29  \n1  432.559  796.045 -24.655840 -11.650775  left 2024-01-29 12:15:29  ",
      "text/html": "<div>\n<style scoped>\n    .dataframe tbody tr th:only-of-type {\n        vertical-align: middle;\n    }\n\n    .dataframe tbody tr th {\n        vertical-align: top;\n    }\n\n    .dataframe thead th {\n        text-align: right;\n    }\n</style>\n<table border=\"1\" class=\"dataframe\">\n  <thead>\n    <tr style=\"text-align: right;\">\n      <th></th>\n      <th>timestamp</th>\n      <th>pupil_diameter</th>\n      <th>eyeball_center_lx</th>\n      <th>eyeball_center_ly</th>\n      <th>eyeball_center_lz</th>\n      <th>optical_axis_lx</th>\n      <th>optical_axis_ly</th>\n      <th>optical_axis_lz</th>\n      <th>gaze_x</th>\n      <th>gaze_y</th>\n      <th>azimuth</th>\n      <th>elevation</th>\n      <th>name</th>\n      <th>timestamp_data</th>\n    </tr>\n  </thead>\n  <tbody>\n    <tr>\n      <th>0</th>\n      <td>1706548529749475155</td>\n      <td>4.998295</td>\n      <td>-31.502335</td>\n      <td>11.016953</td>\n      <td>-45.538109</td>\n      <td>-0.289663</td>\n      <td>0.216337</td>\n      <td>0.932359</td>\n      <td>436.667</td>\n      <td>781.422</td>\n      <td>-24.338445</td>\n      <td>-10.741292</td>\n      <td>left</td>\n      <td>2024-01-29 12:15:29</td>\n    </tr>\n    <tr>\n      <th>1</th>\n      <td>1706548529754472155</td>\n      <td>5.010161</td>\n      <td>-31.518356</td>\n      <td>10.854866</td>\n      <td>-45.421600</td>\n      <td>-0.283622</td>\n      <td>0.235413</td>\n      <td>0.929591</td>\n      <td>432.559</td>\n      <td>796.045</td>\n      <td>-24.655840</td>\n      <td>-11.650775</td>\n      <td>left</td>\n      <td>2024-01-29 12:15:29</td>\n    </tr>\n  </tbody>\n</table>\n</div>"
     },
     "execution_count": 847,
     "metadata": {},
     "output_type": "execute_result"
    }
   ],
   "source": [
    "left.head(2)"
   ],
   "metadata": {
    "collapsed": false,
    "ExecuteTime": {
     "end_time": "2024-02-02T04:54:24.958324Z",
     "start_time": "2024-02-02T04:54:24.786775Z"
    }
   }
  },
  {
   "cell_type": "code",
   "execution_count": 848,
   "outputs": [
    {
     "data": {
      "text/plain": "(1086, 14)"
     },
     "execution_count": 848,
     "metadata": {},
     "output_type": "execute_result"
    }
   ],
   "source": [
    "left.shape"
   ],
   "metadata": {
    "collapsed": false,
    "ExecuteTime": {
     "end_time": "2024-02-02T04:54:24.958493Z",
     "start_time": "2024-02-02T04:54:24.790508Z"
    }
   }
  },
  {
   "cell_type": "markdown",
   "source": [
    "### Right"
   ],
   "metadata": {
    "collapsed": false
   }
  },
  {
   "cell_type": "code",
   "execution_count": 849,
   "outputs": [],
   "source": [
    "filtered_right_indexes = eye_states_gaze_events[(eye_states_gaze_events['name'] == 'right.start') |\n",
    "                                       (eye_states_gaze_events['name'] == 'right.end')].index"
   ],
   "metadata": {
    "collapsed": false,
    "ExecuteTime": {
     "end_time": "2024-02-02T04:54:24.958547Z",
     "start_time": "2024-02-02T04:54:24.795019Z"
    }
   }
  },
  {
   "cell_type": "code",
   "execution_count": 850,
   "outputs": [
    {
     "data": {
      "text/plain": "Index([560, 784, 1233, 1581, 2126, 2375], dtype='int64')"
     },
     "execution_count": 850,
     "metadata": {},
     "output_type": "execute_result"
    }
   ],
   "source": [
    "filtered_right_indexes"
   ],
   "metadata": {
    "collapsed": false,
    "ExecuteTime": {
     "end_time": "2024-02-02T04:54:24.958630Z",
     "start_time": "2024-02-02T04:54:24.797862Z"
    }
   }
  },
  {
   "cell_type": "code",
   "execution_count": 851,
   "outputs": [],
   "source": [
    "filtered_right = pd.DataFrame()\n",
    "for i in range(0, len(filtered_right_indexes), 2):\n",
    "    filtered_right  = pd.concat([filtered_right, eye_states_gaze_events.loc[filtered_right_indexes[i]:filtered_right_indexes[i+1]]])"
   ],
   "metadata": {
    "collapsed": false,
    "ExecuteTime": {
     "end_time": "2024-02-02T04:54:24.958682Z",
     "start_time": "2024-02-02T04:54:24.808438Z"
    }
   }
  },
  {
   "cell_type": "code",
   "execution_count": 852,
   "outputs": [
    {
     "data": {
      "text/plain": "               timestamp  pupil_diameter  eyeball_center_lx  \\\n560  1706548531082565000             NaN                NaN   \n561  1706548531085727155        5.128878         -30.526752   \n\n     eyeball_center_ly  eyeball_center_lz  optical_axis_lx  optical_axis_ly  \\\n560                NaN                NaN              NaN              NaN   \n561          10.722137         -41.400314         0.525582         0.280142   \n\n     optical_axis_lz    gaze_x   gaze_y    azimuth  elevation         name  \\\n560              NaN       NaN      NaN        NaN        NaN  right.start   \n561         0.803296  1302.627  763.916  32.427753  -9.420026          NaN   \n\n         timestamp_data  \n560 2024-01-29 12:15:31  \n561 2024-01-29 12:15:31  ",
      "text/html": "<div>\n<style scoped>\n    .dataframe tbody tr th:only-of-type {\n        vertical-align: middle;\n    }\n\n    .dataframe tbody tr th {\n        vertical-align: top;\n    }\n\n    .dataframe thead th {\n        text-align: right;\n    }\n</style>\n<table border=\"1\" class=\"dataframe\">\n  <thead>\n    <tr style=\"text-align: right;\">\n      <th></th>\n      <th>timestamp</th>\n      <th>pupil_diameter</th>\n      <th>eyeball_center_lx</th>\n      <th>eyeball_center_ly</th>\n      <th>eyeball_center_lz</th>\n      <th>optical_axis_lx</th>\n      <th>optical_axis_ly</th>\n      <th>optical_axis_lz</th>\n      <th>gaze_x</th>\n      <th>gaze_y</th>\n      <th>azimuth</th>\n      <th>elevation</th>\n      <th>name</th>\n      <th>timestamp_data</th>\n    </tr>\n  </thead>\n  <tbody>\n    <tr>\n      <th>560</th>\n      <td>1706548531082565000</td>\n      <td>NaN</td>\n      <td>NaN</td>\n      <td>NaN</td>\n      <td>NaN</td>\n      <td>NaN</td>\n      <td>NaN</td>\n      <td>NaN</td>\n      <td>NaN</td>\n      <td>NaN</td>\n      <td>NaN</td>\n      <td>NaN</td>\n      <td>right.start</td>\n      <td>2024-01-29 12:15:31</td>\n    </tr>\n    <tr>\n      <th>561</th>\n      <td>1706548531085727155</td>\n      <td>5.128878</td>\n      <td>-30.526752</td>\n      <td>10.722137</td>\n      <td>-41.400314</td>\n      <td>0.525582</td>\n      <td>0.280142</td>\n      <td>0.803296</td>\n      <td>1302.627</td>\n      <td>763.916</td>\n      <td>32.427753</td>\n      <td>-9.420026</td>\n      <td>NaN</td>\n      <td>2024-01-29 12:15:31</td>\n    </tr>\n  </tbody>\n</table>\n</div>"
     },
     "execution_count": 852,
     "metadata": {},
     "output_type": "execute_result"
    }
   ],
   "source": [
    "filtered_right.head(2)"
   ],
   "metadata": {
    "collapsed": false,
    "ExecuteTime": {
     "end_time": "2024-02-02T04:54:24.958818Z",
     "start_time": "2024-02-02T04:54:24.812537Z"
    }
   }
  },
  {
   "cell_type": "code",
   "execution_count": 853,
   "outputs": [],
   "source": [
    "filtered_right['name'] = filtered_right['name'].apply(lambda x: 'right' if pd.isna(x) else x)"
   ],
   "metadata": {
    "collapsed": false,
    "ExecuteTime": {
     "end_time": "2024-02-02T04:54:24.958858Z",
     "start_time": "2024-02-02T04:54:24.818623Z"
    }
   }
  },
  {
   "cell_type": "code",
   "execution_count": 854,
   "outputs": [
    {
     "data": {
      "text/plain": "               timestamp  pupil_diameter  eyeball_center_lx  \\\n560  1706548531082565000             NaN                NaN   \n561  1706548531085727155        5.128878         -30.526752   \n\n     eyeball_center_ly  eyeball_center_lz  optical_axis_lx  optical_axis_ly  \\\n560                NaN                NaN              NaN              NaN   \n561          10.722137         -41.400314         0.525582         0.280142   \n\n     optical_axis_lz    gaze_x   gaze_y    azimuth  elevation         name  \\\n560              NaN       NaN      NaN        NaN        NaN  right.start   \n561         0.803296  1302.627  763.916  32.427753  -9.420026        right   \n\n         timestamp_data  \n560 2024-01-29 12:15:31  \n561 2024-01-29 12:15:31  ",
      "text/html": "<div>\n<style scoped>\n    .dataframe tbody tr th:only-of-type {\n        vertical-align: middle;\n    }\n\n    .dataframe tbody tr th {\n        vertical-align: top;\n    }\n\n    .dataframe thead th {\n        text-align: right;\n    }\n</style>\n<table border=\"1\" class=\"dataframe\">\n  <thead>\n    <tr style=\"text-align: right;\">\n      <th></th>\n      <th>timestamp</th>\n      <th>pupil_diameter</th>\n      <th>eyeball_center_lx</th>\n      <th>eyeball_center_ly</th>\n      <th>eyeball_center_lz</th>\n      <th>optical_axis_lx</th>\n      <th>optical_axis_ly</th>\n      <th>optical_axis_lz</th>\n      <th>gaze_x</th>\n      <th>gaze_y</th>\n      <th>azimuth</th>\n      <th>elevation</th>\n      <th>name</th>\n      <th>timestamp_data</th>\n    </tr>\n  </thead>\n  <tbody>\n    <tr>\n      <th>560</th>\n      <td>1706548531082565000</td>\n      <td>NaN</td>\n      <td>NaN</td>\n      <td>NaN</td>\n      <td>NaN</td>\n      <td>NaN</td>\n      <td>NaN</td>\n      <td>NaN</td>\n      <td>NaN</td>\n      <td>NaN</td>\n      <td>NaN</td>\n      <td>NaN</td>\n      <td>right.start</td>\n      <td>2024-01-29 12:15:31</td>\n    </tr>\n    <tr>\n      <th>561</th>\n      <td>1706548531085727155</td>\n      <td>5.128878</td>\n      <td>-30.526752</td>\n      <td>10.722137</td>\n      <td>-41.400314</td>\n      <td>0.525582</td>\n      <td>0.280142</td>\n      <td>0.803296</td>\n      <td>1302.627</td>\n      <td>763.916</td>\n      <td>32.427753</td>\n      <td>-9.420026</td>\n      <td>right</td>\n      <td>2024-01-29 12:15:31</td>\n    </tr>\n  </tbody>\n</table>\n</div>"
     },
     "execution_count": 854,
     "metadata": {},
     "output_type": "execute_result"
    }
   ],
   "source": [
    "filtered_right.head(2)"
   ],
   "metadata": {
    "collapsed": false,
    "ExecuteTime": {
     "end_time": "2024-02-02T04:54:24.958923Z",
     "start_time": "2024-02-02T04:54:24.828323Z"
    }
   }
  },
  {
   "cell_type": "code",
   "execution_count": 855,
   "outputs": [],
   "source": [
    "right = filtered_right.dropna().reset_index(drop=True)"
   ],
   "metadata": {
    "collapsed": false,
    "ExecuteTime": {
     "end_time": "2024-02-02T04:54:25.048874Z",
     "start_time": "2024-02-02T04:54:24.848276Z"
    }
   }
  },
  {
   "cell_type": "code",
   "execution_count": 856,
   "outputs": [
    {
     "data": {
      "text/plain": "             timestamp  pupil_diameter  eyeball_center_lx  eyeball_center_ly  \\\n0  1706548531085727155        5.128878         -30.526752          10.722137   \n1  1706548531090729155        5.088425         -30.421314          10.546413   \n\n   eyeball_center_lz  optical_axis_lx  optical_axis_ly  optical_axis_lz  \\\n0         -41.400314         0.525582         0.280142         0.803296   \n1         -40.880898         0.531312         0.294098         0.794490   \n\n     gaze_x   gaze_y    azimuth  elevation   name      timestamp_data  \n0  1302.627  763.916  32.427753  -9.420026  right 2024-01-29 12:15:31  \n1  1304.065  769.189  32.543725  -9.740852  right 2024-01-29 12:15:31  ",
      "text/html": "<div>\n<style scoped>\n    .dataframe tbody tr th:only-of-type {\n        vertical-align: middle;\n    }\n\n    .dataframe tbody tr th {\n        vertical-align: top;\n    }\n\n    .dataframe thead th {\n        text-align: right;\n    }\n</style>\n<table border=\"1\" class=\"dataframe\">\n  <thead>\n    <tr style=\"text-align: right;\">\n      <th></th>\n      <th>timestamp</th>\n      <th>pupil_diameter</th>\n      <th>eyeball_center_lx</th>\n      <th>eyeball_center_ly</th>\n      <th>eyeball_center_lz</th>\n      <th>optical_axis_lx</th>\n      <th>optical_axis_ly</th>\n      <th>optical_axis_lz</th>\n      <th>gaze_x</th>\n      <th>gaze_y</th>\n      <th>azimuth</th>\n      <th>elevation</th>\n      <th>name</th>\n      <th>timestamp_data</th>\n    </tr>\n  </thead>\n  <tbody>\n    <tr>\n      <th>0</th>\n      <td>1706548531085727155</td>\n      <td>5.128878</td>\n      <td>-30.526752</td>\n      <td>10.722137</td>\n      <td>-41.400314</td>\n      <td>0.525582</td>\n      <td>0.280142</td>\n      <td>0.803296</td>\n      <td>1302.627</td>\n      <td>763.916</td>\n      <td>32.427753</td>\n      <td>-9.420026</td>\n      <td>right</td>\n      <td>2024-01-29 12:15:31</td>\n    </tr>\n    <tr>\n      <th>1</th>\n      <td>1706548531090729155</td>\n      <td>5.088425</td>\n      <td>-30.421314</td>\n      <td>10.546413</td>\n      <td>-40.880898</td>\n      <td>0.531312</td>\n      <td>0.294098</td>\n      <td>0.794490</td>\n      <td>1304.065</td>\n      <td>769.189</td>\n      <td>32.543725</td>\n      <td>-9.740852</td>\n      <td>right</td>\n      <td>2024-01-29 12:15:31</td>\n    </tr>\n  </tbody>\n</table>\n</div>"
     },
     "execution_count": 856,
     "metadata": {},
     "output_type": "execute_result"
    }
   ],
   "source": [
    "right.head(2)"
   ],
   "metadata": {
    "collapsed": false,
    "ExecuteTime": {
     "end_time": "2024-02-02T04:54:25.049088Z",
     "start_time": "2024-02-02T04:54:24.856930Z"
    }
   }
  },
  {
   "cell_type": "code",
   "execution_count": 857,
   "outputs": [
    {
     "data": {
      "text/plain": "(818, 14)"
     },
     "execution_count": 857,
     "metadata": {},
     "output_type": "execute_result"
    }
   ],
   "source": [
    "right.shape"
   ],
   "metadata": {
    "collapsed": false,
    "ExecuteTime": {
     "end_time": "2024-02-02T04:54:25.049165Z",
     "start_time": "2024-02-02T04:54:24.860238Z"
    }
   }
  },
  {
   "cell_type": "markdown",
   "source": [
    "## Select data for ML"
   ],
   "metadata": {
    "collapsed": false
   }
  },
  {
   "cell_type": "code",
   "execution_count": 858,
   "outputs": [],
   "source": [
    "left_right = pd.concat([left, right], axis=0)"
   ],
   "metadata": {
    "collapsed": false,
    "ExecuteTime": {
     "end_time": "2024-02-02T04:54:25.049280Z",
     "start_time": "2024-02-02T04:54:24.864385Z"
    }
   }
  },
  {
   "cell_type": "code",
   "execution_count": 859,
   "outputs": [
    {
     "data": {
      "text/plain": "(1904, 14)"
     },
     "execution_count": 859,
     "metadata": {},
     "output_type": "execute_result"
    }
   ],
   "source": [
    "left_right.shape"
   ],
   "metadata": {
    "collapsed": false,
    "ExecuteTime": {
     "end_time": "2024-02-02T04:54:25.049349Z",
     "start_time": "2024-02-02T04:54:24.867958Z"
    }
   }
  },
  {
   "cell_type": "code",
   "execution_count": 860,
   "outputs": [
    {
     "data": {
      "text/plain": "             timestamp  pupil_diameter  eyeball_center_lx  eyeball_center_ly  \\\n0  1706548529749475155        4.998295         -31.502335          11.016953   \n1  1706548529754472155        5.010161         -31.518356          10.854866   \n2  1706548529759472155        4.998164         -31.426540          10.832436   \n3  1706548529764472155        5.033319         -31.453854          10.881645   \n4  1706548529769472155        5.057612         -31.428337          10.976414   \n\n   eyeball_center_lz  optical_axis_lx  optical_axis_ly  optical_axis_lz  \\\n0         -45.538109        -0.289663         0.216337         0.932359   \n1         -45.421600        -0.283622         0.235413         0.929591   \n2         -45.344673        -0.280748         0.233001         0.931070   \n3         -45.339127        -0.275533         0.232714         0.932698   \n4         -45.386768        -0.280906         0.222561         0.933573   \n\n    gaze_x   gaze_y    azimuth  elevation  name      timestamp_data  \n0  436.667  781.422 -24.338445 -10.741292  left 2024-01-29 12:15:29  \n1  432.559  796.045 -24.655840 -11.650775  left 2024-01-29 12:15:29  \n2  433.219  784.679 -24.573408 -10.938989  left 2024-01-29 12:15:29  \n3  434.531  778.742 -24.468607 -10.568828  left 2024-01-29 12:15:29  \n4  434.817  775.065 -24.438416 -10.338505  left 2024-01-29 12:15:29  ",
      "text/html": "<div>\n<style scoped>\n    .dataframe tbody tr th:only-of-type {\n        vertical-align: middle;\n    }\n\n    .dataframe tbody tr th {\n        vertical-align: top;\n    }\n\n    .dataframe thead th {\n        text-align: right;\n    }\n</style>\n<table border=\"1\" class=\"dataframe\">\n  <thead>\n    <tr style=\"text-align: right;\">\n      <th></th>\n      <th>timestamp</th>\n      <th>pupil_diameter</th>\n      <th>eyeball_center_lx</th>\n      <th>eyeball_center_ly</th>\n      <th>eyeball_center_lz</th>\n      <th>optical_axis_lx</th>\n      <th>optical_axis_ly</th>\n      <th>optical_axis_lz</th>\n      <th>gaze_x</th>\n      <th>gaze_y</th>\n      <th>azimuth</th>\n      <th>elevation</th>\n      <th>name</th>\n      <th>timestamp_data</th>\n    </tr>\n  </thead>\n  <tbody>\n    <tr>\n      <th>0</th>\n      <td>1706548529749475155</td>\n      <td>4.998295</td>\n      <td>-31.502335</td>\n      <td>11.016953</td>\n      <td>-45.538109</td>\n      <td>-0.289663</td>\n      <td>0.216337</td>\n      <td>0.932359</td>\n      <td>436.667</td>\n      <td>781.422</td>\n      <td>-24.338445</td>\n      <td>-10.741292</td>\n      <td>left</td>\n      <td>2024-01-29 12:15:29</td>\n    </tr>\n    <tr>\n      <th>1</th>\n      <td>1706548529754472155</td>\n      <td>5.010161</td>\n      <td>-31.518356</td>\n      <td>10.854866</td>\n      <td>-45.421600</td>\n      <td>-0.283622</td>\n      <td>0.235413</td>\n      <td>0.929591</td>\n      <td>432.559</td>\n      <td>796.045</td>\n      <td>-24.655840</td>\n      <td>-11.650775</td>\n      <td>left</td>\n      <td>2024-01-29 12:15:29</td>\n    </tr>\n    <tr>\n      <th>2</th>\n      <td>1706548529759472155</td>\n      <td>4.998164</td>\n      <td>-31.426540</td>\n      <td>10.832436</td>\n      <td>-45.344673</td>\n      <td>-0.280748</td>\n      <td>0.233001</td>\n      <td>0.931070</td>\n      <td>433.219</td>\n      <td>784.679</td>\n      <td>-24.573408</td>\n      <td>-10.938989</td>\n      <td>left</td>\n      <td>2024-01-29 12:15:29</td>\n    </tr>\n    <tr>\n      <th>3</th>\n      <td>1706548529764472155</td>\n      <td>5.033319</td>\n      <td>-31.453854</td>\n      <td>10.881645</td>\n      <td>-45.339127</td>\n      <td>-0.275533</td>\n      <td>0.232714</td>\n      <td>0.932698</td>\n      <td>434.531</td>\n      <td>778.742</td>\n      <td>-24.468607</td>\n      <td>-10.568828</td>\n      <td>left</td>\n      <td>2024-01-29 12:15:29</td>\n    </tr>\n    <tr>\n      <th>4</th>\n      <td>1706548529769472155</td>\n      <td>5.057612</td>\n      <td>-31.428337</td>\n      <td>10.976414</td>\n      <td>-45.386768</td>\n      <td>-0.280906</td>\n      <td>0.222561</td>\n      <td>0.933573</td>\n      <td>434.817</td>\n      <td>775.065</td>\n      <td>-24.438416</td>\n      <td>-10.338505</td>\n      <td>left</td>\n      <td>2024-01-29 12:15:29</td>\n    </tr>\n  </tbody>\n</table>\n</div>"
     },
     "execution_count": 860,
     "metadata": {},
     "output_type": "execute_result"
    }
   ],
   "source": [
    "left_right.head()"
   ],
   "metadata": {
    "collapsed": false,
    "ExecuteTime": {
     "end_time": "2024-02-02T04:54:25.049435Z",
     "start_time": "2024-02-02T04:54:24.875762Z"
    }
   }
  },
  {
   "cell_type": "code",
   "execution_count": 861,
   "outputs": [
    {
     "data": {
      "text/plain": "Index(['timestamp', 'pupil_diameter', 'eyeball_center_lx', 'eyeball_center_ly',\n       'eyeball_center_lz', 'optical_axis_lx', 'optical_axis_ly',\n       'optical_axis_lz', 'gaze_x', 'gaze_y', 'azimuth', 'elevation', 'name',\n       'timestamp_data'],\n      dtype='object')"
     },
     "execution_count": 861,
     "metadata": {},
     "output_type": "execute_result"
    }
   ],
   "source": [
    "left_right.columns"
   ],
   "metadata": {
    "collapsed": false,
    "ExecuteTime": {
     "end_time": "2024-02-02T04:54:25.049515Z",
     "start_time": "2024-02-02T04:54:24.880090Z"
    }
   }
  },
  {
   "cell_type": "code",
   "execution_count": 862,
   "outputs": [],
   "source": [
    "X_to_corr = left_right[['pupil_diameter', 'eyeball_center_lx', 'eyeball_center_ly', 'eyeball_center_lz', 'optical_axis_ly', 'azimuth',  'elevation']]"
   ],
   "metadata": {
    "collapsed": false,
    "ExecuteTime": {
     "end_time": "2024-02-02T04:54:25.049558Z",
     "start_time": "2024-02-02T04:54:24.881904Z"
    }
   }
  },
  {
   "cell_type": "code",
   "execution_count": 863,
   "outputs": [
    {
     "data": {
      "text/plain": "<Figure size 640x480 with 2 Axes>",
      "image/png": "[encoded data removed]"
     },
     "metadata": {},
     "output_type": "display_data"
    }
   ],
   "source": [
    "dataplot = sb.heatmap(X_to_corr.corr(), cmap=\"YlGnBu\", annot=True, vmin=-1, vmax=1)"
   ],
   "metadata": {
    "collapsed": false,
    "ExecuteTime": {
     "end_time": "2024-02-02T04:54:25.330754Z",
     "start_time": "2024-02-02T04:54:24.886886Z"
    }
   }
  },
  {
   "cell_type": "code",
   "execution_count": 864,
   "outputs": [],
   "source": [
    "X = X_to_corr.values"
   ],
   "metadata": {
    "collapsed": false,
    "ExecuteTime": {
     "end_time": "2024-02-02T04:54:25.333401Z",
     "start_time": "2024-02-02T04:54:25.109586Z"
    }
   }
  },
  {
   "cell_type": "code",
   "execution_count": 865,
   "outputs": [
    {
     "data": {
      "text/plain": "array([[  4.99829483, -31.50233459,  11.01695251, ...,   0.21633711,\n        -24.33844503, -10.74129175],\n       [  5.0101614 , -31.51835632,  10.85486603, ...,   0.23541261,\n        -24.65584041, -11.65077493],\n       [  4.9981637 , -31.42654037,  10.83243561, ...,   0.23300132,\n        -24.57340823, -10.93898914],\n       ...,\n       [  2.77108645, -30.3511734 ,  11.77468109, ...,   0.17758918,\n          4.61215992,  -6.33003682],\n       [  2.76171374, -29.84500122,  11.49399567, ...,   0.15092708,\n          0.51328726,  -2.98367932],\n       [  2.76012421, -29.64413452,  11.88282013, ...,   0.21423072,\n         -3.2942897 ,  -1.76994481]])"
     },
     "execution_count": 865,
     "metadata": {},
     "output_type": "execute_result"
    }
   ],
   "source": [
    "X"
   ],
   "metadata": {
    "collapsed": false,
    "ExecuteTime": {
     "end_time": "2024-02-02T04:54:25.333568Z",
     "start_time": "2024-02-02T04:54:25.113262Z"
    }
   }
  },
  {
   "cell_type": "code",
   "execution_count": 866,
   "outputs": [],
   "source": [
    "y = left_right['name'].values"
   ],
   "metadata": {
    "collapsed": false,
    "ExecuteTime": {
     "end_time": "2024-02-02T04:54:25.333610Z",
     "start_time": "2024-02-02T04:54:25.115778Z"
    }
   }
  },
  {
   "cell_type": "code",
   "execution_count": 867,
   "outputs": [
    {
     "data": {
      "text/plain": "array(['left', 'left', 'left', ..., 'right', 'right', 'right'],\n      dtype=object)"
     },
     "execution_count": 867,
     "metadata": {},
     "output_type": "execute_result"
    }
   ],
   "source": [
    "y"
   ],
   "metadata": {
    "collapsed": false,
    "ExecuteTime": {
     "end_time": "2024-02-02T04:54:25.354278Z",
     "start_time": "2024-02-02T04:54:25.124899Z"
    }
   }
  },
  {
   "cell_type": "markdown",
   "source": [
    "### Preprocessing"
   ],
   "metadata": {
    "collapsed": false
   }
  },
  {
   "cell_type": "code",
   "execution_count": 868,
   "outputs": [],
   "source": [
    "X_train, X_test, y_train, y_test = train_test_split(X, y, test_size=0.2)"
   ],
   "metadata": {
    "collapsed": false,
    "ExecuteTime": {
     "end_time": "2024-02-02T04:54:25.356583Z",
     "start_time": "2024-02-02T04:54:25.135603Z"
    }
   }
  },
  {
   "cell_type": "code",
   "execution_count": 869,
   "outputs": [],
   "source": [
    "sc = StandardScaler()"
   ],
   "metadata": {
    "collapsed": false,
    "ExecuteTime": {
     "end_time": "2024-02-02T04:54:25.356648Z",
     "start_time": "2024-02-02T04:54:25.141005Z"
    }
   }
  },
  {
   "cell_type": "code",
   "execution_count": 870,
   "outputs": [],
   "source": [
    "X_train[:, :] = sc.fit_transform(X_train[:, :])\n",
    "X_test[:, :] = sc.transform(X_test[:, :])"
   ],
   "metadata": {
    "collapsed": false,
    "ExecuteTime": {
     "end_time": "2024-02-02T04:54:25.376711Z",
     "start_time": "2024-02-02T04:54:25.143758Z"
    }
   }
  },
  {
   "cell_type": "code",
   "execution_count": 871,
   "outputs": [
    {
     "data": {
      "text/plain": "array([[-0.21755488, -0.96212508,  0.88101542, ..., -1.26708024,\n        -0.8554613 , -0.0047659 ],\n       [ 0.58264953, -0.54504516,  2.26911674, ..., -2.56793479,\n        -0.76069323,  0.94527669],\n       [-0.76069038,  1.59686814,  1.26765822, ...,  1.36219454,\n         1.31242734, -1.47090875],\n       ...,\n       [ 1.26708208, -0.13435783,  0.07348932, ..., -0.48538128,\n        -0.76279968, -0.27886575],\n       [ 0.47928507,  0.52113323,  0.74854594, ...,  0.27948303,\n         1.28009243,  0.43381701],\n       [-1.00617375,  1.33948153,  2.24583973, ...,  1.13126835,\n         1.2863469 , -1.34599375]])"
     },
     "execution_count": 871,
     "metadata": {},
     "output_type": "execute_result"
    }
   ],
   "source": [
    "X_train"
   ],
   "metadata": {
    "collapsed": false,
    "ExecuteTime": {
     "end_time": "2024-02-02T04:54:25.378886Z",
     "start_time": "2024-02-02T04:54:25.149082Z"
    }
   }
  },
  {
   "cell_type": "markdown",
   "source": [
    "### K-Nearest Neighbors Classifier"
   ],
   "metadata": {
    "collapsed": false
   }
  },
  {
   "cell_type": "code",
   "execution_count": 872,
   "outputs": [
    {
     "data": {
      "text/plain": "KNeighborsClassifier()",
      "text/html": "<style>#sk-container-id-10 {\n  /* Definition of color scheme common for light and dark mode */\n  --sklearn-color-text: black;\n  --sklearn-color-line: gray;\n  /* Definition of color scheme for unfitted estimators */\n  --sklearn-color-unfitted-level-0: #fff5e6;\n  --sklearn-color-unfitted-level-1: #f6e4d2;\n  --sklearn-color-unfitted-level-2: #ffe0b3;\n  --sklearn-color-unfitted-level-3: chocolate;\n  /* Definition of color scheme for fitted estimators */\n  --sklearn-color-fitted-level-0: #f0f8ff;\n  --sklearn-color-fitted-level-1: #d4ebff;\n  --sklearn-color-fitted-level-2: #b3dbfd;\n  --sklearn-color-fitted-level-3: cornflowerblue;\n\n  /* Specific color for light theme */\n  --sklearn-color-text-on-default-background: var(--sg-text-color, var(--theme-code-foreground, var(--jp-content-font-color1, black)));\n  --sklearn-color-background: var(--sg-background-color, var(--theme-background, var(--jp-layout-color0, white)));\n  --sklearn-color-border-box: var(--sg-text-color, var(--theme-code-foreground, var(--jp-content-font-color1, black)));\n  --sklearn-color-icon: #696969;\n\n  @media (prefers-color-scheme: dark) {\n    /* Redefinition of color scheme for dark theme */\n    --sklearn-color-text-on-default-background: var(--sg-text-color, var(--theme-code-foreground, var(--jp-content-font-color1, white)));\n    --sklearn-color-background: var(--sg-background-color, var(--theme-background, var(--jp-layout-color0, #111)));\n    --sklearn-color-border-box: var(--sg-text-color, var(--theme-code-foreground, var(--jp-content-font-color1, white)));\n    --sklearn-color-icon: #878787;\n  }\n}\n\n#sk-container-id-10 {\n  color: var(--sklearn-color-text);\n}\n\n#sk-container-id-10 pre {\n  padding: 0;\n}\n\n#sk-container-id-10 input.sk-hidden--visually {\n  border: 0;\n  clip: rect(1px 1px 1px 1px);\n  clip: rect(1px, 1px, 1px, 1px);\n  height: 1px;\n  margin: -1px;\n  overflow: hidden;\n  padding: 0;\n  position: absolute;\n  width: 1px;\n}\n\n#sk-container-id-10 div.sk-dashed-wrapped {\n  border: 1px dashed var(--sklearn-color-line);\n  margin: 0 0.4em 0.5em 0.4em;\n  box-sizing: border-box;\n  padding-bottom: 0.4em;\n  background-color: var(--sklearn-color-background);\n}\n\n#sk-container-id-10 div.sk-container {\n  /* jupyter's `normalize.less` sets `[hidden] { display: none; }`\n     but bootstrap.min.css set `[hidden] { display: none !important; }`\n     so we also need the `!important` here to be able to override the\n     default hidden behavior on the sphinx rendered scikit-learn.org.\n     See: https://github.com/scikit-learn/scikit-learn/issues/21755 */\n  display: inline-block !important;\n  position: relative;\n}\n\n#sk-container-id-10 div.sk-text-repr-fallback {\n  display: none;\n}\n\ndiv.sk-parallel-item,\ndiv.sk-serial,\ndiv.sk-item {\n  /* draw centered vertical line to link estimators */\n  background-image: linear-gradient(var(--sklearn-color-text-on-default-background), var(--sklearn-color-text-on-default-background));\n  background-size: 2px 100%;\n  background-repeat: no-repeat;\n  background-position: center center;\n}\n\n/* Parallel-specific style estimator block */\n\n#sk-container-id-10 div.sk-parallel-item::after {\n  content: \"\";\n  width: 100%;\n  border-bottom: 2px solid var(--sklearn-color-text-on-default-background);\n  flex-grow: 1;\n}\n\n#sk-container-id-10 div.sk-parallel {\n  display: flex;\n  align-items: stretch;\n  justify-content: center;\n  background-color: var(--sklearn-color-background);\n  position: relative;\n}\n\n#sk-container-id-10 div.sk-parallel-item {\n  display: flex;\n  flex-direction: column;\n}\n\n#sk-container-id-10 div.sk-parallel-item:first-child::after {\n  align-self: flex-end;\n  width: 50%;\n}\n\n#sk-container-id-10 div.sk-parallel-item:last-child::after {\n  align-self: flex-start;\n  width: 50%;\n}\n\n#sk-container-id-10 div.sk-parallel-item:only-child::after {\n  width: 0;\n}\n\n/* Serial-specific style estimator block */\n\n#sk-container-id-10 div.sk-serial {\n  display: flex;\n  flex-direction: column;\n  align-items: center;\n  background-color: var(--sklearn-color-background);\n  padding-right: 1em;\n  padding-left: 1em;\n}\n\n\n/* Toggleable style: style used for estimator/Pipeline/ColumnTransformer box that is\nclickable and can be expanded/collapsed.\n- Pipeline and ColumnTransformer use this feature and define the default style\n- Estimators will overwrite some part of the style using the `sk-estimator` class\n*/\n\n/* Pipeline and ColumnTransformer style (default) */\n\n#sk-container-id-10 div.sk-toggleable {\n  /* Default theme specific background. It is overwritten whether we have a\n  specific estimator or a Pipeline/ColumnTransformer */\n  background-color: var(--sklearn-color-background);\n}\n\n/* Toggleable label */\n#sk-container-id-10 label.sk-toggleable__label {\n  cursor: pointer;\n  display: block;\n  width: 100%;\n  margin-bottom: 0;\n  padding: 0.5em;\n  box-sizing: border-box;\n  text-align: center;\n}\n\n#sk-container-id-10 label.sk-toggleable__label-arrow:before {\n  /* Arrow on the left of the label */\n  content: \"▸\";\n  float: left;\n  margin-right: 0.25em;\n  color: var(--sklearn-color-icon);\n}\n\n#sk-container-id-10 label.sk-toggleable__label-arrow:hover:before {\n  color: var(--sklearn-color-text);\n}\n\n/* Toggleable content - dropdown */\n\n#sk-container-id-10 div.sk-toggleable__content {\n  max-height: 0;\n  max-width: 0;\n  overflow: hidden;\n  text-align: left;\n  /* unfitted */\n  background-color: var(--sklearn-color-unfitted-level-0);\n}\n\n#sk-container-id-10 div.sk-toggleable__content.fitted {\n  /* fitted */\n  background-color: var(--sklearn-color-fitted-level-0);\n}\n\n#sk-container-id-10 div.sk-toggleable__content pre {\n  margin: 0.2em;\n  border-radius: 0.25em;\n  color: var(--sklearn-color-text);\n  /* unfitted */\n  background-color: var(--sklearn-color-unfitted-level-0);\n}\n\n#sk-container-id-10 div.sk-toggleable__content.fitted pre {\n  /* unfitted */\n  background-color: var(--sklearn-color-fitted-level-0);\n}\n\n#sk-container-id-10 input.sk-toggleable__control:checked~div.sk-toggleable__content {\n  /* Expand drop-down */\n  max-height: 200px;\n  max-width: 100%;\n  overflow: auto;\n}\n\n#sk-container-id-10 input.sk-toggleable__control:checked~label.sk-toggleable__label-arrow:before {\n  content: \"▾\";\n}\n\n/* Pipeline/ColumnTransformer-specific style */\n\n#sk-container-id-10 div.sk-label input.sk-toggleable__control:checked~label.sk-toggleable__label {\n  color: var(--sklearn-color-text);\n  background-color: var(--sklearn-color-unfitted-level-2);\n}\n\n#sk-container-id-10 div.sk-label.fitted input.sk-toggleable__control:checked~label.sk-toggleable__label {\n  background-color: var(--sklearn-color-fitted-level-2);\n}\n\n/* Estimator-specific style */\n\n/* Colorize estimator box */\n#sk-container-id-10 div.sk-estimator input.sk-toggleable__control:checked~label.sk-toggleable__label {\n  /* unfitted */\n  background-color: var(--sklearn-color-unfitted-level-2);\n}\n\n#sk-container-id-10 div.sk-estimator.fitted input.sk-toggleable__control:checked~label.sk-toggleable__label {\n  /* fitted */\n  background-color: var(--sklearn-color-fitted-level-2);\n}\n\n#sk-container-id-10 div.sk-label label.sk-toggleable__label,\n#sk-container-id-10 div.sk-label label {\n  /* The background is the default theme color */\n  color: var(--sklearn-color-text-on-default-background);\n}\n\n/* On hover, darken the color of the background */\n#sk-container-id-10 div.sk-label:hover label.sk-toggleable__label {\n  color: var(--sklearn-color-text);\n  background-color: var(--sklearn-color-unfitted-level-2);\n}\n\n/* Label box, darken color on hover, fitted */\n#sk-container-id-10 div.sk-label.fitted:hover label.sk-toggleable__label.fitted {\n  color: var(--sklearn-color-text);\n  background-color: var(--sklearn-color-fitted-level-2);\n}\n\n/* Estimator label */\n\n#sk-container-id-10 div.sk-label label {\n  font-family: monospace;\n  font-weight: bold;\n  display: inline-block;\n  line-height: 1.2em;\n}\n\n#sk-container-id-10 div.sk-label-container {\n  text-align: center;\n}\n\n/* Estimator-specific */\n#sk-container-id-10 div.sk-estimator {\n  font-family: monospace;\n  border: 1px dotted var(--sklearn-color-border-box);\n  border-radius: 0.25em;\n  box-sizing: border-box;\n  margin-bottom: 0.5em;\n  /* unfitted */\n  background-color: var(--sklearn-color-unfitted-level-0);\n}\n\n#sk-container-id-10 div.sk-estimator.fitted {\n  /* fitted */\n  background-color: var(--sklearn-color-fitted-level-0);\n}\n\n/* on hover */\n#sk-container-id-10 div.sk-estimator:hover {\n  /* unfitted */\n  background-color: var(--sklearn-color-unfitted-level-2);\n}\n\n#sk-container-id-10 div.sk-estimator.fitted:hover {\n  /* fitted */\n  background-color: var(--sklearn-color-fitted-level-2);\n}\n\n/* Specification for estimator info (e.g. \"i\" and \"?\") */\n\n/* Common style for \"i\" and \"?\" */\n\n.sk-estimator-doc-link,\na:link.sk-estimator-doc-link,\na:visited.sk-estimator-doc-link {\n  float: right;\n  font-size: smaller;\n  line-height: 1em;\n  font-family: monospace;\n  background-color: var(--sklearn-color-background);\n  border-radius: 1em;\n  height: 1em;\n  width: 1em;\n  text-decoration: none !important;\n  margin-left: 1ex;\n  /* unfitted */\n  border: var(--sklearn-color-unfitted-level-1) 1pt solid;\n  color: var(--sklearn-color-unfitted-level-1);\n}\n\n.sk-estimator-doc-link.fitted,\na:link.sk-estimator-doc-link.fitted,\na:visited.sk-estimator-doc-link.fitted {\n  /* fitted */\n  border: var(--sklearn-color-fitted-level-1) 1pt solid;\n  color: var(--sklearn-color-fitted-level-1);\n}\n\n/* On hover */\ndiv.sk-estimator:hover .sk-estimator-doc-link:hover,\n.sk-estimator-doc-link:hover,\ndiv.sk-label-container:hover .sk-estimator-doc-link:hover,\n.sk-estimator-doc-link:hover {\n  /* unfitted */\n  background-color: var(--sklearn-color-unfitted-level-3);\n  color: var(--sklearn-color-background);\n  text-decoration: none;\n}\n\ndiv.sk-estimator.fitted:hover .sk-estimator-doc-link.fitted:hover,\n.sk-estimator-doc-link.fitted:hover,\ndiv.sk-label-container:hover .sk-estimator-doc-link.fitted:hover,\n.sk-estimator-doc-link.fitted:hover {\n  /* fitted */\n  background-color: var(--sklearn-color-fitted-level-3);\n  color: var(--sklearn-color-background);\n  text-decoration: none;\n}\n\n/* Span, style for the box shown on hovering the info icon */\n.sk-estimator-doc-link span {\n  display: none;\n  z-index: 9999;\n  position: relative;\n  font-weight: normal;\n  right: .2ex;\n  padding: .5ex;\n  margin: .5ex;\n  width: min-content;\n  min-width: 20ex;\n  max-width: 50ex;\n  color: var(--sklearn-color-text);\n  box-shadow: 2pt 2pt 4pt #999;\n  /* unfitted */\n  background: var(--sklearn-color-unfitted-level-0);\n  border: .5pt solid var(--sklearn-color-unfitted-level-3);\n}\n\n.sk-estimator-doc-link.fitted span {\n  /* fitted */\n  background: var(--sklearn-color-fitted-level-0);\n  border: var(--sklearn-color-fitted-level-3);\n}\n\n.sk-estimator-doc-link:hover span {\n  display: block;\n}\n\n/* \"?\"-specific style due to the `<a>` HTML tag */\n\n#sk-container-id-10 a.estimator_doc_link {\n  float: right;\n  font-size: 1rem;\n  line-height: 1em;\n  font-family: monospace;\n  background-color: var(--sklearn-color-background);\n  border-radius: 1rem;\n  height: 1rem;\n  width: 1rem;\n  text-decoration: none;\n  /* unfitted */\n  color: var(--sklearn-color-unfitted-level-1);\n  border: var(--sklearn-color-unfitted-level-1) 1pt solid;\n}\n\n#sk-container-id-10 a.estimator_doc_link.fitted {\n  /* fitted */\n  border: var(--sklearn-color-fitted-level-1) 1pt solid;\n  color: var(--sklearn-color-fitted-level-1);\n}\n\n/* On hover */\n#sk-container-id-10 a.estimator_doc_link:hover {\n  /* unfitted */\n  background-color: var(--sklearn-color-unfitted-level-3);\n  color: var(--sklearn-color-background);\n  text-decoration: none;\n}\n\n#sk-container-id-10 a.estimator_doc_link.fitted:hover {\n  /* fitted */\n  background-color: var(--sklearn-color-fitted-level-3);\n}\n</style><div id=\"sk-container-id-10\" class=\"sk-top-container\"><div class=\"sk-text-repr-fallback\"><pre>KNeighborsClassifier()</pre><b>In a Jupyter environment, please rerun this cell to show the HTML representation or trust the notebook. <br />On GitHub, the HTML representation is unable to render, please try loading this page with nbviewer.org.</b></div><div class=\"sk-container\" hidden><div class=\"sk-item\"><div class=\"sk-estimator fitted sk-toggleable\"><input class=\"sk-toggleable__control sk-hidden--visually\" id=\"sk-estimator-id-10\" type=\"checkbox\" checked><label for=\"sk-estimator-id-10\" class=\"sk-toggleable__label fitted sk-toggleable__label-arrow fitted\">&nbsp;&nbsp;KNeighborsClassifier<a class=\"sk-estimator-doc-link fitted\" rel=\"noreferrer\" target=\"_blank\" href=\"https://scikit-learn.org/1.4/modules/generated/sklearn.neighbors.KNeighborsClassifier.html\">?<span>Documentation for KNeighborsClassifier</span></a><span class=\"sk-estimator-doc-link fitted\">i<span>Fitted</span></span></label><div class=\"sk-toggleable__content fitted\"><pre>KNeighborsClassifier()</pre></div> </div></div></div></div>"
     },
     "execution_count": 872,
     "metadata": {},
     "output_type": "execute_result"
    }
   ],
   "source": [
    "classifier = KNeighborsClassifier(n_neighbors=5, metric='minkowski', p=2)\n",
    "classifier.fit(X_train, y_train)"
   ],
   "metadata": {
    "collapsed": false,
    "ExecuteTime": {
     "end_time": "2024-02-02T04:54:25.394238Z",
     "start_time": "2024-02-02T04:54:25.151768Z"
    }
   }
  },
  {
   "cell_type": "code",
   "execution_count": 873,
   "outputs": [
    {
     "name": "stdout",
     "output_type": "stream",
     "text": [
      "[['left' 'left']\n",
      " ['left' 'left']\n",
      " ['right' 'right']\n",
      " ['left' 'left']\n",
      " ['left' 'left']\n",
      " ['left' 'left']\n",
      " ['right' 'right']\n",
      " ['left' 'left']\n",
      " ['right' 'right']\n",
      " ['left' 'left']\n",
      " ['left' 'left']\n",
      " ['left' 'left']\n",
      " ['left' 'left']\n",
      " ['right' 'right']\n",
      " ['left' 'left']\n",
      " ['right' 'right']\n",
      " ['right' 'right']\n",
      " ['left' 'left']\n",
      " ['left' 'left']\n",
      " ['left' 'left']\n",
      " ['left' 'left']\n",
      " ['left' 'left']\n",
      " ['left' 'left']\n",
      " ['left' 'left']\n",
      " ['right' 'right']\n",
      " ['left' 'left']\n",
      " ['right' 'right']\n",
      " ['right' 'right']\n",
      " ['left' 'left']\n",
      " ['right' 'right']\n",
      " ['right' 'right']\n",
      " ['right' 'right']\n",
      " ['left' 'left']\n",
      " ['left' 'left']\n",
      " ['right' 'right']\n",
      " ['left' 'left']\n",
      " ['left' 'left']\n",
      " ['left' 'left']\n",
      " ['right' 'right']\n",
      " ['right' 'right']\n",
      " ['right' 'right']\n",
      " ['left' 'left']\n",
      " ['right' 'right']\n",
      " ['right' 'right']\n",
      " ['left' 'left']\n",
      " ['left' 'left']\n",
      " ['right' 'right']\n",
      " ['right' 'right']\n",
      " ['right' 'right']\n",
      " ['right' 'right']\n",
      " ['left' 'left']\n",
      " ['left' 'left']\n",
      " ['left' 'left']\n",
      " ['left' 'left']\n",
      " ['left' 'left']\n",
      " ['left' 'left']\n",
      " ['right' 'right']\n",
      " ['right' 'right']\n",
      " ['right' 'right']\n",
      " ['left' 'left']\n",
      " ['left' 'left']\n",
      " ['left' 'left']\n",
      " ['left' 'left']\n",
      " ['right' 'right']\n",
      " ['left' 'left']\n",
      " ['left' 'left']\n",
      " ['left' 'left']\n",
      " ['right' 'right']\n",
      " ['left' 'left']\n",
      " ['left' 'left']\n",
      " ['right' 'right']\n",
      " ['right' 'right']\n",
      " ['left' 'left']\n",
      " ['left' 'left']\n",
      " ['right' 'right']\n",
      " ['right' 'right']\n",
      " ['left' 'left']\n",
      " ['right' 'right']\n",
      " ['right' 'right']\n",
      " ['right' 'right']\n",
      " ['right' 'right']\n",
      " ['right' 'right']\n",
      " ['right' 'right']\n",
      " ['left' 'left']\n",
      " ['right' 'right']\n",
      " ['right' 'right']\n",
      " ['left' 'left']\n",
      " ['right' 'right']\n",
      " ['left' 'left']\n",
      " ['right' 'right']\n",
      " ['right' 'right']\n",
      " ['left' 'left']\n",
      " ['left' 'left']\n",
      " ['left' 'left']\n",
      " ['left' 'left']\n",
      " ['left' 'left']\n",
      " ['right' 'right']\n",
      " ['left' 'left']\n",
      " ['left' 'left']\n",
      " ['left' 'left']\n",
      " ['right' 'right']\n",
      " ['right' 'right']\n",
      " ['left' 'left']\n",
      " ['left' 'left']\n",
      " ['left' 'left']\n",
      " ['right' 'right']\n",
      " ['left' 'left']\n",
      " ['right' 'right']\n",
      " ['left' 'left']\n",
      " ['right' 'right']\n",
      " ['left' 'left']\n",
      " ['left' 'left']\n",
      " ['left' 'left']\n",
      " ['right' 'right']\n",
      " ['right' 'right']\n",
      " ['right' 'right']\n",
      " ['left' 'left']\n",
      " ['right' 'right']\n",
      " ['right' 'right']\n",
      " ['left' 'left']\n",
      " ['right' 'right']\n",
      " ['right' 'right']\n",
      " ['left' 'left']\n",
      " ['left' 'left']\n",
      " ['left' 'left']\n",
      " ['left' 'left']\n",
      " ['right' 'right']\n",
      " ['left' 'left']\n",
      " ['left' 'left']\n",
      " ['left' 'left']\n",
      " ['right' 'right']\n",
      " ['right' 'right']\n",
      " ['right' 'right']\n",
      " ['left' 'left']\n",
      " ['left' 'left']\n",
      " ['right' 'right']\n",
      " ['right' 'right']\n",
      " ['right' 'right']\n",
      " ['left' 'left']\n",
      " ['right' 'right']\n",
      " ['right' 'right']\n",
      " ['right' 'right']\n",
      " ['right' 'right']\n",
      " ['right' 'right']\n",
      " ['left' 'left']\n",
      " ['right' 'right']\n",
      " ['right' 'right']\n",
      " ['right' 'right']\n",
      " ['left' 'left']\n",
      " ['left' 'left']\n",
      " ['left' 'left']\n",
      " ['right' 'right']\n",
      " ['left' 'left']\n",
      " ['right' 'right']\n",
      " ['right' 'right']\n",
      " ['left' 'left']\n",
      " ['right' 'right']\n",
      " ['left' 'left']\n",
      " ['right' 'right']\n",
      " ['left' 'left']\n",
      " ['right' 'right']\n",
      " ['right' 'right']\n",
      " ['left' 'left']\n",
      " ['left' 'left']\n",
      " ['right' 'right']\n",
      " ['right' 'right']\n",
      " ['left' 'left']\n",
      " ['right' 'right']\n",
      " ['right' 'right']\n",
      " ['right' 'right']\n",
      " ['left' 'left']\n",
      " ['left' 'left']\n",
      " ['left' 'left']\n",
      " ['right' 'right']\n",
      " ['right' 'right']\n",
      " ['left' 'left']\n",
      " ['right' 'right']\n",
      " ['right' 'right']\n",
      " ['left' 'left']\n",
      " ['left' 'left']\n",
      " ['left' 'left']\n",
      " ['left' 'left']\n",
      " ['left' 'left']\n",
      " ['right' 'right']\n",
      " ['right' 'right']\n",
      " ['left' 'left']\n",
      " ['right' 'right']\n",
      " ['left' 'left']\n",
      " ['right' 'right']\n",
      " ['left' 'left']\n",
      " ['left' 'left']\n",
      " ['right' 'right']\n",
      " ['right' 'right']\n",
      " ['right' 'right']\n",
      " ['left' 'left']\n",
      " ['left' 'left']\n",
      " ['left' 'left']\n",
      " ['right' 'right']\n",
      " ['right' 'right']\n",
      " ['right' 'right']\n",
      " ['left' 'left']\n",
      " ['left' 'left']\n",
      " ['right' 'right']\n",
      " ['left' 'left']\n",
      " ['right' 'right']\n",
      " ['right' 'right']\n",
      " ['left' 'left']\n",
      " ['left' 'left']\n",
      " ['left' 'left']\n",
      " ['left' 'left']\n",
      " ['right' 'right']\n",
      " ['right' 'right']\n",
      " ['left' 'left']\n",
      " ['left' 'left']\n",
      " ['right' 'right']\n",
      " ['right' 'right']\n",
      " ['right' 'right']\n",
      " ['right' 'right']\n",
      " ['left' 'left']\n",
      " ['left' 'left']\n",
      " ['right' 'right']\n",
      " ['right' 'right']\n",
      " ['right' 'right']\n",
      " ['left' 'left']\n",
      " ['left' 'left']\n",
      " ['left' 'left']\n",
      " ['right' 'right']\n",
      " ['left' 'left']\n",
      " ['right' 'right']\n",
      " ['right' 'right']\n",
      " ['left' 'left']\n",
      " ['right' 'right']\n",
      " ['left' 'left']\n",
      " ['left' 'left']\n",
      " ['right' 'right']\n",
      " ['left' 'left']\n",
      " ['right' 'right']\n",
      " ['left' 'left']\n",
      " ['left' 'left']\n",
      " ['left' 'left']\n",
      " ['right' 'right']\n",
      " ['right' 'right']\n",
      " ['left' 'left']\n",
      " ['left' 'left']\n",
      " ['right' 'right']\n",
      " ['left' 'left']\n",
      " ['right' 'right']\n",
      " ['left' 'left']\n",
      " ['left' 'left']\n",
      " ['left' 'left']\n",
      " ['left' 'left']\n",
      " ['right' 'right']\n",
      " ['left' 'left']\n",
      " ['left' 'left']\n",
      " ['left' 'left']\n",
      " ['right' 'right']\n",
      " ['right' 'right']\n",
      " ['left' 'left']\n",
      " ['left' 'left']\n",
      " ['left' 'left']\n",
      " ['left' 'left']\n",
      " ['left' 'left']\n",
      " ['left' 'left']\n",
      " ['right' 'right']\n",
      " ['right' 'right']\n",
      " ['left' 'left']\n",
      " ['right' 'right']\n",
      " ['left' 'left']\n",
      " ['left' 'left']\n",
      " ['left' 'left']\n",
      " ['right' 'right']\n",
      " ['right' 'right']\n",
      " ['left' 'left']\n",
      " ['right' 'right']\n",
      " ['left' 'left']\n",
      " ['right' 'right']\n",
      " ['left' 'left']\n",
      " ['left' 'left']\n",
      " ['right' 'right']\n",
      " ['left' 'left']\n",
      " ['left' 'left']\n",
      " ['left' 'left']\n",
      " ['left' 'left']\n",
      " ['left' 'left']\n",
      " ['right' 'right']\n",
      " ['left' 'left']\n",
      " ['right' 'right']\n",
      " ['left' 'left']\n",
      " ['left' 'left']\n",
      " ['right' 'right']\n",
      " ['left' 'left']\n",
      " ['left' 'left']\n",
      " ['right' 'right']\n",
      " ['left' 'left']\n",
      " ['left' 'left']\n",
      " ['right' 'right']\n",
      " ['left' 'left']\n",
      " ['left' 'left']\n",
      " ['left' 'left']\n",
      " ['left' 'left']\n",
      " ['left' 'left']\n",
      " ['right' 'right']\n",
      " ['left' 'left']\n",
      " ['left' 'left']\n",
      " ['right' 'right']\n",
      " ['right' 'right']\n",
      " ['right' 'right']\n",
      " ['left' 'left']\n",
      " ['left' 'left']\n",
      " ['left' 'left']\n",
      " ['right' 'right']\n",
      " ['left' 'right']\n",
      " ['left' 'left']\n",
      " ['right' 'right']\n",
      " ['right' 'right']\n",
      " ['left' 'left']\n",
      " ['left' 'left']\n",
      " ['right' 'right']\n",
      " ['left' 'left']\n",
      " ['right' 'right']\n",
      " ['left' 'left']\n",
      " ['left' 'left']\n",
      " ['right' 'right']\n",
      " ['left' 'left']\n",
      " ['right' 'right']\n",
      " ['right' 'right']\n",
      " ['left' 'left']\n",
      " ['right' 'right']\n",
      " ['left' 'left']\n",
      " ['left' 'left']\n",
      " ['left' 'left']\n",
      " ['left' 'left']\n",
      " ['left' 'left']\n",
      " ['right' 'right']\n",
      " ['left' 'left']\n",
      " ['right' 'right']\n",
      " ['right' 'right']\n",
      " ['right' 'right']\n",
      " ['left' 'left']\n",
      " ['right' 'right']\n",
      " ['left' 'left']\n",
      " ['right' 'right']\n",
      " ['left' 'left']\n",
      " ['left' 'left']\n",
      " ['left' 'left']\n",
      " ['left' 'left']\n",
      " ['right' 'right']\n",
      " ['left' 'left']\n",
      " ['left' 'left']\n",
      " ['left' 'left']\n",
      " ['right' 'right']\n",
      " ['left' 'left']\n",
      " ['right' 'right']\n",
      " ['left' 'left']\n",
      " ['right' 'right']\n",
      " ['left' 'left']\n",
      " ['left' 'left']\n",
      " ['right' 'right']\n",
      " ['right' 'right']\n",
      " ['left' 'left']\n",
      " ['left' 'left']\n",
      " ['left' 'left']\n",
      " ['right' 'right']\n",
      " ['right' 'right']\n",
      " ['left' 'left']\n",
      " ['right' 'right']\n",
      " ['right' 'right']\n",
      " ['left' 'left']\n",
      " ['left' 'left']\n",
      " ['left' 'left']\n",
      " ['left' 'left']\n",
      " ['left' 'left']\n",
      " ['left' 'left']\n",
      " ['right' 'right']\n",
      " ['left' 'left']\n",
      " ['right' 'right']\n",
      " ['right' 'right']\n",
      " ['left' 'left']\n",
      " ['left' 'left']\n",
      " ['left' 'left']\n",
      " ['left' 'left']]\n"
     ]
    }
   ],
   "source": [
    "y_pred = classifier.predict(X_test)\n",
    "print(np.concatenate((y_pred.reshape(len(y_pred), 1), y_test.reshape(len(y_test), 1)), 1))"
   ],
   "metadata": {
    "collapsed": false,
    "ExecuteTime": {
     "end_time": "2024-02-02T04:54:25.414875Z",
     "start_time": "2024-02-02T04:54:25.160348Z"
    }
   }
  },
  {
   "cell_type": "code",
   "execution_count": 874,
   "outputs": [
    {
     "data": {
      "text/plain": "array([[214,   0],\n       [  1, 166]])"
     },
     "execution_count": 874,
     "metadata": {},
     "output_type": "execute_result"
    }
   ],
   "source": [
    "confusion_matrix(y_test, y_pred)"
   ],
   "metadata": {
    "collapsed": false,
    "ExecuteTime": {
     "end_time": "2024-02-02T04:54:25.437763Z",
     "start_time": "2024-02-02T04:54:25.174135Z"
    }
   }
  },
  {
   "cell_type": "code",
   "execution_count": 875,
   "outputs": [
    {
     "data": {
      "text/plain": "0.9973753280839895"
     },
     "execution_count": 875,
     "metadata": {},
     "output_type": "execute_result"
    }
   ],
   "source": [
    "accuracy_score(y_test, y_pred)"
   ],
   "metadata": {
    "collapsed": false,
    "ExecuteTime": {
     "end_time": "2024-02-02T04:54:25.437945Z",
     "start_time": "2024-02-02T04:54:25.180364Z"
    }
   }
  },
  {
   "cell_type": "code",
   "execution_count": 875,
   "outputs": [],
   "source": [],
   "metadata": {
    "collapsed": false,
    "ExecuteTime": {
     "end_time": "2024-02-02T04:54:25.437986Z",
     "start_time": "2024-02-02T04:54:25.183106Z"
    }
   }
  }
 ],
 "metadata": {
  "kernelspec": {
   "display_name": "Python 3",
   "language": "python",
   "name": "python3"
  },
  "language_info": {
   "codemirror_mode": {
    "name": "ipython",
    "version": 2
   },
   "file_extension": ".py",
   "mimetype": "text/x-python",
   "name": "python",
   "nbconvert_exporter": "python",
   "pygments_lexer": "ipython2",
   "version": "2.7.6"
  }
 },
 "nbformat": 4,
 "nbformat_minor": 0
}
