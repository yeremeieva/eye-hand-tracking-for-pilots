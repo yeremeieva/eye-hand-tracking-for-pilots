{
 "cells": [
  {
   "cell_type": "code",
   "execution_count": 32,
   "outputs": [],
   "source": [
    "import pandas as pd\n",
    "import seaborn as sb\n",
    "from datetime import datetime\n",
    "import numpy as np\n",
    "\n",
    "from sklearn.model_selection import train_test_split\n",
    "from sklearn.preprocessing import StandardScaler\n",
    "from sklearn.neighbors import KNeighborsClassifier\n",
    "from sklearn.metrics import confusion_matrix\n",
    "from sklearn.metrics import accuracy_score"
   ],
   "metadata": {
    "collapsed": false,
    "ExecuteTime": {
     "end_time": "2024-03-06T20:31:12.628874Z",
     "start_time": "2024-03-06T20:31:11.175049Z"
    }
   }
  },
  {
   "cell_type": "markdown",
   "source": [
    "# Load Data"
   ],
   "metadata": {
    "collapsed": false
   }
  },
  {
   "cell_type": "markdown",
   "source": [
    "## Eye states"
   ],
   "metadata": {
    "collapsed": false
   }
  },
  {
   "cell_type": "code",
   "execution_count": 37,
   "outputs": [],
   "source": [
    "eye_states = pd.read_csv('/Users/sophiayeremeeva/Desktop/uni/waterloo/2024/pilot /code/eye-tracking try/data/piloting first try/3d_eye_states.csv')"
   ],
   "metadata": {
    "collapsed": false,
    "ExecuteTime": {
     "end_time": "2024-03-06T20:36:01.608784Z",
     "start_time": "2024-03-06T20:36:01.378499Z"
    }
   }
  },
  {
   "cell_type": "code",
   "execution_count": 38,
   "outputs": [
    {
     "data": {
      "text/plain": "                             section id                          recording id  \\\n0  6ce02d80-b03c-41d9-8d63-64645c7b2c0b  003aaa32-9a1c-46ce-84c8-ddcc011733e3   \n1  6ce02d80-b03c-41d9-8d63-64645c7b2c0b  003aaa32-9a1c-46ce-84c8-ddcc011733e3   \n\n        timestamp [ns]  pupil diameter [mm]  eyeball center left x [mm]  \\\n0  1707240525860716129             6.101728                  -31.029068   \n1  1707240525865716129             6.073446                  -31.089268   \n\n   eyeball center left y [mm]  eyeball center left z [mm]  \\\n0                   15.071472                  -39.422306   \n1                   15.178902                  -39.486629   \n\n   eyeball center right x [mm]  eyeball center right y [mm]  \\\n0                    31.820908                    11.971153   \n1                    31.755999                    11.989693   \n\n   eyeball center right z [mm]  optical axis left x  optical axis left y  \\\n0                   -39.190109             0.144663              0.46831   \n1                   -39.134827             0.147503              0.46787   \n\n   optical axis left z  optical axis right x  optical axis right y  \\\n0             0.871642             -0.034506              0.473891   \n1             0.871402             -0.035947              0.474145   \n\n   optical axis right z  \n0              0.879907  \n1              0.879713  ",
      "text/html": "<div>\n<style scoped>\n    .dataframe tbody tr th:only-of-type {\n        vertical-align: middle;\n    }\n\n    .dataframe tbody tr th {\n        vertical-align: top;\n    }\n\n    .dataframe thead th {\n        text-align: right;\n    }\n</style>\n<table border=\"1\" class=\"dataframe\">\n  <thead>\n    <tr style=\"text-align: right;\">\n      <th></th>\n      <th>section id</th>\n      <th>recording id</th>\n      <th>timestamp [ns]</th>\n      <th>pupil diameter [mm]</th>\n      <th>eyeball center left x [mm]</th>\n      <th>eyeball center left y [mm]</th>\n      <th>eyeball center left z [mm]</th>\n      <th>eyeball center right x [mm]</th>\n      <th>eyeball center right y [mm]</th>\n      <th>eyeball center right z [mm]</th>\n      <th>optical axis left x</th>\n      <th>optical axis left y</th>\n      <th>optical axis left z</th>\n      <th>optical axis right x</th>\n      <th>optical axis right y</th>\n      <th>optical axis right z</th>\n    </tr>\n  </thead>\n  <tbody>\n    <tr>\n      <th>0</th>\n      <td>6ce02d80-b03c-41d9-8d63-64645c7b2c0b</td>\n      <td>003aaa32-9a1c-46ce-84c8-ddcc011733e3</td>\n      <td>1707240525860716129</td>\n      <td>6.101728</td>\n      <td>-31.029068</td>\n      <td>15.071472</td>\n      <td>-39.422306</td>\n      <td>31.820908</td>\n      <td>11.971153</td>\n      <td>-39.190109</td>\n      <td>0.144663</td>\n      <td>0.46831</td>\n      <td>0.871642</td>\n      <td>-0.034506</td>\n      <td>0.473891</td>\n      <td>0.879907</td>\n    </tr>\n    <tr>\n      <th>1</th>\n      <td>6ce02d80-b03c-41d9-8d63-64645c7b2c0b</td>\n      <td>003aaa32-9a1c-46ce-84c8-ddcc011733e3</td>\n      <td>1707240525865716129</td>\n      <td>6.073446</td>\n      <td>-31.089268</td>\n      <td>15.178902</td>\n      <td>-39.486629</td>\n      <td>31.755999</td>\n      <td>11.989693</td>\n      <td>-39.134827</td>\n      <td>0.147503</td>\n      <td>0.46787</td>\n      <td>0.871402</td>\n      <td>-0.035947</td>\n      <td>0.474145</td>\n      <td>0.879713</td>\n    </tr>\n  </tbody>\n</table>\n</div>"
     },
     "execution_count": 38,
     "metadata": {},
     "output_type": "execute_result"
    }
   ],
   "source": [
    "eye_states.head(2)"
   ],
   "metadata": {
    "collapsed": false,
    "ExecuteTime": {
     "end_time": "2024-03-06T20:36:01.621679Z",
     "start_time": "2024-03-06T20:36:01.617398Z"
    }
   }
  },
  {
   "cell_type": "code",
   "execution_count": 39,
   "outputs": [
    {
     "data": {
      "text/plain": "(103886, 16)"
     },
     "execution_count": 39,
     "metadata": {},
     "output_type": "execute_result"
    }
   ],
   "source": [
    "eye_states.shape"
   ],
   "metadata": {
    "collapsed": false,
    "ExecuteTime": {
     "end_time": "2024-03-06T20:36:01.783663Z",
     "start_time": "2024-03-06T20:36:01.684632Z"
    }
   }
  },
  {
   "cell_type": "code",
   "execution_count": 40,
   "outputs": [
    {
     "data": {
      "text/plain": "Index(['section id', 'recording id', 'timestamp [ns]', 'pupil diameter [mm]',\n       'eyeball center left x [mm]', 'eyeball center left y [mm]',\n       'eyeball center left z [mm]', 'eyeball center right x [mm]',\n       'eyeball center right y [mm]', 'eyeball center right z [mm]',\n       'optical axis left x', 'optical axis left y', 'optical axis left z',\n       'optical axis right x', 'optical axis right y', 'optical axis right z'],\n      dtype='object')"
     },
     "execution_count": 40,
     "metadata": {},
     "output_type": "execute_result"
    }
   ],
   "source": [
    "eye_states.columns"
   ],
   "metadata": {
    "collapsed": false,
    "ExecuteTime": {
     "end_time": "2024-03-06T20:36:01.891101Z",
     "start_time": "2024-03-06T20:36:01.876944Z"
    }
   }
  },
  {
   "cell_type": "code",
   "execution_count": 41,
   "outputs": [],
   "source": [
    "column_names_states = {'section id': 'section_id',\n",
    "                       'recording id': 'recording_id',\n",
    "                       'timestamp [ns]': 'timestamp',\n",
    "                       'pupil diameter [mm]': 'pupil_diameter',\n",
    "                       'eyeball center left x [mm]': 'eyeball_center_lx',\n",
    "                       'eyeball center left y [mm]': 'eyeball_center_ly',\n",
    "                       'eyeball center left z [mm]': 'eyeball_center_lz',\n",
    "                       'eyeball center right x [mm]': 'eyeball_center_rx',\n",
    "                       'eyeball center right y [mm]': 'eyeball_center_ry',\n",
    "                       'eyeball center right z [mm]': 'eyeball_center_rz',\n",
    "                       'optical axis left x': 'optical_axis_lx',\n",
    "                       'optical axis left y': 'optical_axis_ly',\n",
    "                       'optical axis left z': 'optical_axis_lz',\n",
    "                       'optical axis right x': 'optical_axis_rx',\n",
    "                       'optical axis right y': 'optical_axis_ry',\n",
    "                       'optical axis right z': 'optical_axis_rz'}\n",
    "\n",
    "eye_states = eye_states.rename(columns=column_names_states)"
   ],
   "metadata": {
    "collapsed": false,
    "ExecuteTime": {
     "end_time": "2024-03-06T20:36:02.005758Z",
     "start_time": "2024-03-06T20:36:01.996882Z"
    }
   }
  },
  {
   "cell_type": "code",
   "execution_count": 42,
   "outputs": [
    {
     "data": {
      "text/plain": "                             section_id                          recording_id  \\\n0  6ce02d80-b03c-41d9-8d63-64645c7b2c0b  003aaa32-9a1c-46ce-84c8-ddcc011733e3   \n1  6ce02d80-b03c-41d9-8d63-64645c7b2c0b  003aaa32-9a1c-46ce-84c8-ddcc011733e3   \n\n             timestamp  pupil_diameter  eyeball_center_lx  eyeball_center_ly  \\\n0  1707240525860716129        6.101728         -31.029068          15.071472   \n1  1707240525865716129        6.073446         -31.089268          15.178902   \n\n   eyeball_center_lz  eyeball_center_rx  eyeball_center_ry  eyeball_center_rz  \\\n0         -39.422306          31.820908          11.971153         -39.190109   \n1         -39.486629          31.755999          11.989693         -39.134827   \n\n   optical_axis_lx  optical_axis_ly  optical_axis_lz  optical_axis_rx  \\\n0         0.144663          0.46831         0.871642        -0.034506   \n1         0.147503          0.46787         0.871402        -0.035947   \n\n   optical_axis_ry  optical_axis_rz  \n0         0.473891         0.879907  \n1         0.474145         0.879713  ",
      "text/html": "<div>\n<style scoped>\n    .dataframe tbody tr th:only-of-type {\n        vertical-align: middle;\n    }\n\n    .dataframe tbody tr th {\n        vertical-align: top;\n    }\n\n    .dataframe thead th {\n        text-align: right;\n    }\n</style>\n<table border=\"1\" class=\"dataframe\">\n  <thead>\n    <tr style=\"text-align: right;\">\n      <th></th>\n      <th>section_id</th>\n      <th>recording_id</th>\n      <th>timestamp</th>\n      <th>pupil_diameter</th>\n      <th>eyeball_center_lx</th>\n      <th>eyeball_center_ly</th>\n      <th>eyeball_center_lz</th>\n      <th>eyeball_center_rx</th>\n      <th>eyeball_center_ry</th>\n      <th>eyeball_center_rz</th>\n      <th>optical_axis_lx</th>\n      <th>optical_axis_ly</th>\n      <th>optical_axis_lz</th>\n      <th>optical_axis_rx</th>\n      <th>optical_axis_ry</th>\n      <th>optical_axis_rz</th>\n    </tr>\n  </thead>\n  <tbody>\n    <tr>\n      <th>0</th>\n      <td>6ce02d80-b03c-41d9-8d63-64645c7b2c0b</td>\n      <td>003aaa32-9a1c-46ce-84c8-ddcc011733e3</td>\n      <td>1707240525860716129</td>\n      <td>6.101728</td>\n      <td>-31.029068</td>\n      <td>15.071472</td>\n      <td>-39.422306</td>\n      <td>31.820908</td>\n      <td>11.971153</td>\n      <td>-39.190109</td>\n      <td>0.144663</td>\n      <td>0.46831</td>\n      <td>0.871642</td>\n      <td>-0.034506</td>\n      <td>0.473891</td>\n      <td>0.879907</td>\n    </tr>\n    <tr>\n      <th>1</th>\n      <td>6ce02d80-b03c-41d9-8d63-64645c7b2c0b</td>\n      <td>003aaa32-9a1c-46ce-84c8-ddcc011733e3</td>\n      <td>1707240525865716129</td>\n      <td>6.073446</td>\n      <td>-31.089268</td>\n      <td>15.178902</td>\n      <td>-39.486629</td>\n      <td>31.755999</td>\n      <td>11.989693</td>\n      <td>-39.134827</td>\n      <td>0.147503</td>\n      <td>0.46787</td>\n      <td>0.871402</td>\n      <td>-0.035947</td>\n      <td>0.474145</td>\n      <td>0.879713</td>\n    </tr>\n  </tbody>\n</table>\n</div>"
     },
     "execution_count": 42,
     "metadata": {},
     "output_type": "execute_result"
    }
   ],
   "source": [
    "eye_states.head(2)"
   ],
   "metadata": {
    "collapsed": false,
    "ExecuteTime": {
     "end_time": "2024-03-06T20:36:02.201368Z",
     "start_time": "2024-03-06T20:36:02.192356Z"
    }
   }
  },
  {
   "cell_type": "code",
   "execution_count": 43,
   "outputs": [],
   "source": [
    "eye_states_short = eye_states[['timestamp', 'pupil_diameter', 'eyeball_center_lx', 'eyeball_center_ly', 'eyeball_center_lz', 'optical_axis_lx', 'optical_axis_ly', 'optical_axis_lz']]"
   ],
   "metadata": {
    "collapsed": false,
    "ExecuteTime": {
     "end_time": "2024-03-06T20:36:02.409745Z",
     "start_time": "2024-03-06T20:36:02.379434Z"
    }
   }
  },
  {
   "cell_type": "code",
   "execution_count": 44,
   "outputs": [
    {
     "data": {
      "text/plain": "             timestamp  pupil_diameter  eyeball_center_lx  eyeball_center_ly  \\\n0  1707240525860716129        6.101728         -31.029068          15.071472   \n1  1707240525865716129        6.073446         -31.089268          15.178902   \n\n   eyeball_center_lz  optical_axis_lx  optical_axis_ly  optical_axis_lz  \n0         -39.422306         0.144663          0.46831         0.871642  \n1         -39.486629         0.147503          0.46787         0.871402  ",
      "text/html": "<div>\n<style scoped>\n    .dataframe tbody tr th:only-of-type {\n        vertical-align: middle;\n    }\n\n    .dataframe tbody tr th {\n        vertical-align: top;\n    }\n\n    .dataframe thead th {\n        text-align: right;\n    }\n</style>\n<table border=\"1\" class=\"dataframe\">\n  <thead>\n    <tr style=\"text-align: right;\">\n      <th></th>\n      <th>timestamp</th>\n      <th>pupil_diameter</th>\n      <th>eyeball_center_lx</th>\n      <th>eyeball_center_ly</th>\n      <th>eyeball_center_lz</th>\n      <th>optical_axis_lx</th>\n      <th>optical_axis_ly</th>\n      <th>optical_axis_lz</th>\n    </tr>\n  </thead>\n  <tbody>\n    <tr>\n      <th>0</th>\n      <td>1707240525860716129</td>\n      <td>6.101728</td>\n      <td>-31.029068</td>\n      <td>15.071472</td>\n      <td>-39.422306</td>\n      <td>0.144663</td>\n      <td>0.46831</td>\n      <td>0.871642</td>\n    </tr>\n    <tr>\n      <th>1</th>\n      <td>1707240525865716129</td>\n      <td>6.073446</td>\n      <td>-31.089268</td>\n      <td>15.178902</td>\n      <td>-39.486629</td>\n      <td>0.147503</td>\n      <td>0.46787</td>\n      <td>0.871402</td>\n    </tr>\n  </tbody>\n</table>\n</div>"
     },
     "execution_count": 44,
     "metadata": {},
     "output_type": "execute_result"
    }
   ],
   "source": [
    "eye_states_short.head(2)"
   ],
   "metadata": {
    "collapsed": false,
    "ExecuteTime": {
     "end_time": "2024-03-06T20:36:02.560813Z",
     "start_time": "2024-03-06T20:36:02.553542Z"
    }
   }
  },
  {
   "cell_type": "markdown",
   "source": [
    "## Gaze"
   ],
   "metadata": {
    "collapsed": false
   }
  },
  {
   "cell_type": "code",
   "execution_count": 45,
   "outputs": [],
   "source": [
    "gaze = pd.read_csv('/Users/sophiayeremeeva/Desktop/uni/waterloo/2024/pilot /code/eye-tracking try/data/piloting first try/gaze.csv')"
   ],
   "metadata": {
    "collapsed": false,
    "ExecuteTime": {
     "end_time": "2024-03-06T20:36:03.079610Z",
     "start_time": "2024-03-06T20:36:02.952993Z"
    }
   }
  },
  {
   "cell_type": "code",
   "execution_count": 46,
   "outputs": [
    {
     "data": {
      "text/plain": "                             section id                          recording id  \\\n0  6ce02d80-b03c-41d9-8d63-64645c7b2c0b  003aaa32-9a1c-46ce-84c8-ddcc011733e3   \n1  6ce02d80-b03c-41d9-8d63-64645c7b2c0b  003aaa32-9a1c-46ce-84c8-ddcc011733e3   \n\n        timestamp [ns]  gaze x [px]  gaze y [px]  worn  fixation id  blink id  \\\n0  1707240525860716129      880.009      986.375   1.0          NaN       NaN   \n1  1707240525865716129      875.569      996.474   1.0          NaN       NaN   \n\n   azimuth [deg]  elevation [deg]  \n0       5.005893       -24.366639  \n1       4.715383       -25.020426  ",
      "text/html": "<div>\n<style scoped>\n    .dataframe tbody tr th:only-of-type {\n        vertical-align: middle;\n    }\n\n    .dataframe tbody tr th {\n        vertical-align: top;\n    }\n\n    .dataframe thead th {\n        text-align: right;\n    }\n</style>\n<table border=\"1\" class=\"dataframe\">\n  <thead>\n    <tr style=\"text-align: right;\">\n      <th></th>\n      <th>section id</th>\n      <th>recording id</th>\n      <th>timestamp [ns]</th>\n      <th>gaze x [px]</th>\n      <th>gaze y [px]</th>\n      <th>worn</th>\n      <th>fixation id</th>\n      <th>blink id</th>\n      <th>azimuth [deg]</th>\n      <th>elevation [deg]</th>\n    </tr>\n  </thead>\n  <tbody>\n    <tr>\n      <th>0</th>\n      <td>6ce02d80-b03c-41d9-8d63-64645c7b2c0b</td>\n      <td>003aaa32-9a1c-46ce-84c8-ddcc011733e3</td>\n      <td>1707240525860716129</td>\n      <td>880.009</td>\n      <td>986.375</td>\n      <td>1.0</td>\n      <td>NaN</td>\n      <td>NaN</td>\n      <td>5.005893</td>\n      <td>-24.366639</td>\n    </tr>\n    <tr>\n      <th>1</th>\n      <td>6ce02d80-b03c-41d9-8d63-64645c7b2c0b</td>\n      <td>003aaa32-9a1c-46ce-84c8-ddcc011733e3</td>\n      <td>1707240525865716129</td>\n      <td>875.569</td>\n      <td>996.474</td>\n      <td>1.0</td>\n      <td>NaN</td>\n      <td>NaN</td>\n      <td>4.715383</td>\n      <td>-25.020426</td>\n    </tr>\n  </tbody>\n</table>\n</div>"
     },
     "execution_count": 46,
     "metadata": {},
     "output_type": "execute_result"
    }
   ],
   "source": [
    "gaze.head(2)"
   ],
   "metadata": {
    "collapsed": false,
    "ExecuteTime": {
     "end_time": "2024-03-06T20:36:03.146907Z",
     "start_time": "2024-03-06T20:36:03.137481Z"
    }
   }
  },
  {
   "cell_type": "code",
   "execution_count": 47,
   "outputs": [],
   "source": [
    "column_names_gaze = {'section id' : 'section_id',\n",
    "                     'recording id' : 'recording_id',\n",
    "                     'timestamp [ns]' : 'timestamp',\n",
    "                     'gaze x [px]' : 'gaze_x',\n",
    "                     'gaze y [px]' : 'gaze_y',\n",
    "                     'fixation id' : 'fixation_id',\n",
    "                     'blink id' : 'blink_id',\n",
    "                     'azimuth [deg]' : 'azimuth',\n",
    "                     'elevation [deg]' : 'elevation'}\n",
    "\n",
    "gaze = gaze.rename(columns=column_names_gaze)"
   ],
   "metadata": {
    "collapsed": false,
    "ExecuteTime": {
     "end_time": "2024-03-06T20:36:03.347792Z",
     "start_time": "2024-03-06T20:36:03.332748Z"
    }
   }
  },
  {
   "cell_type": "code",
   "execution_count": 48,
   "outputs": [],
   "source": [
    "gaze_short = gaze[['timestamp', 'gaze_x', 'gaze_y', 'azimuth', 'elevation']]"
   ],
   "metadata": {
    "collapsed": false,
    "ExecuteTime": {
     "end_time": "2024-03-06T20:36:03.536215Z",
     "start_time": "2024-03-06T20:36:03.528408Z"
    }
   }
  },
  {
   "cell_type": "markdown",
   "source": [
    "## Events"
   ],
   "metadata": {
    "collapsed": false
   }
  },
  {
   "cell_type": "code",
   "execution_count": 49,
   "outputs": [],
   "source": [
    "events = pd.read_csv('/Users/sophiayeremeeva/Desktop/uni/waterloo/2024/pilot /code/eye-tracking try/data/piloting first try/events.csv')"
   ],
   "metadata": {
    "collapsed": false,
    "ExecuteTime": {
     "end_time": "2024-03-06T20:36:03.894722Z",
     "start_time": "2024-03-06T20:36:03.890281Z"
    }
   }
  },
  {
   "cell_type": "code",
   "execution_count": 50,
   "outputs": [
    {
     "data": {
      "text/plain": "                           recording id       timestamp [ns]  \\\n0  003aaa32-9a1c-46ce-84c8-ddcc011733e3  1707240520721000000   \n1  003aaa32-9a1c-46ce-84c8-ddcc011733e3  1707240554055752000   \n\n                 name       type  \n0     recording.begin  recording  \n1  right_screen.start      cloud  ",
      "text/html": "<div>\n<style scoped>\n    .dataframe tbody tr th:only-of-type {\n        vertical-align: middle;\n    }\n\n    .dataframe tbody tr th {\n        vertical-align: top;\n    }\n\n    .dataframe thead th {\n        text-align: right;\n    }\n</style>\n<table border=\"1\" class=\"dataframe\">\n  <thead>\n    <tr style=\"text-align: right;\">\n      <th></th>\n      <th>recording id</th>\n      <th>timestamp [ns]</th>\n      <th>name</th>\n      <th>type</th>\n    </tr>\n  </thead>\n  <tbody>\n    <tr>\n      <th>0</th>\n      <td>003aaa32-9a1c-46ce-84c8-ddcc011733e3</td>\n      <td>1707240520721000000</td>\n      <td>recording.begin</td>\n      <td>recording</td>\n    </tr>\n    <tr>\n      <th>1</th>\n      <td>003aaa32-9a1c-46ce-84c8-ddcc011733e3</td>\n      <td>1707240554055752000</td>\n      <td>right_screen.start</td>\n      <td>cloud</td>\n    </tr>\n  </tbody>\n</table>\n</div>"
     },
     "execution_count": 50,
     "metadata": {},
     "output_type": "execute_result"
    }
   ],
   "source": [
    "events.head(2)"
   ],
   "metadata": {
    "collapsed": false,
    "ExecuteTime": {
     "end_time": "2024-03-06T20:36:04.083677Z",
     "start_time": "2024-03-06T20:36:04.080495Z"
    }
   }
  },
  {
   "cell_type": "code",
   "execution_count": 51,
   "outputs": [
    {
     "data": {
      "text/plain": "Index(['recording id', 'timestamp [ns]', 'name', 'type'], dtype='object')"
     },
     "execution_count": 51,
     "metadata": {},
     "output_type": "execute_result"
    }
   ],
   "source": [
    "events.columns"
   ],
   "metadata": {
    "collapsed": false,
    "ExecuteTime": {
     "end_time": "2024-03-06T20:36:04.272329Z",
     "start_time": "2024-03-06T20:36:04.267588Z"
    }
   }
  },
  {
   "cell_type": "code",
   "execution_count": 52,
   "outputs": [],
   "source": [
    "events = events.rename(columns={'recording id' : 'recording_id', 'timestamp [ns]' : 'timestamp'})"
   ],
   "metadata": {
    "collapsed": false,
    "ExecuteTime": {
     "end_time": "2024-03-06T20:36:04.461213Z",
     "start_time": "2024-03-06T20:36:04.457364Z"
    }
   }
  },
  {
   "cell_type": "code",
   "execution_count": 53,
   "outputs": [
    {
     "data": {
      "text/plain": "                           recording_id            timestamp  \\\n0  003aaa32-9a1c-46ce-84c8-ddcc011733e3  1707240520721000000   \n1  003aaa32-9a1c-46ce-84c8-ddcc011733e3  1707240554055752000   \n\n                 name       type  \n0     recording.begin  recording  \n1  right_screen.start      cloud  ",
      "text/html": "<div>\n<style scoped>\n    .dataframe tbody tr th:only-of-type {\n        vertical-align: middle;\n    }\n\n    .dataframe tbody tr th {\n        vertical-align: top;\n    }\n\n    .dataframe thead th {\n        text-align: right;\n    }\n</style>\n<table border=\"1\" class=\"dataframe\">\n  <thead>\n    <tr style=\"text-align: right;\">\n      <th></th>\n      <th>recording_id</th>\n      <th>timestamp</th>\n      <th>name</th>\n      <th>type</th>\n    </tr>\n  </thead>\n  <tbody>\n    <tr>\n      <th>0</th>\n      <td>003aaa32-9a1c-46ce-84c8-ddcc011733e3</td>\n      <td>1707240520721000000</td>\n      <td>recording.begin</td>\n      <td>recording</td>\n    </tr>\n    <tr>\n      <th>1</th>\n      <td>003aaa32-9a1c-46ce-84c8-ddcc011733e3</td>\n      <td>1707240554055752000</td>\n      <td>right_screen.start</td>\n      <td>cloud</td>\n    </tr>\n  </tbody>\n</table>\n</div>"
     },
     "execution_count": 53,
     "metadata": {},
     "output_type": "execute_result"
    }
   ],
   "source": [
    "events.head(2)"
   ],
   "metadata": {
    "collapsed": false,
    "ExecuteTime": {
     "end_time": "2024-03-06T20:36:04.655335Z",
     "start_time": "2024-03-06T20:36:04.646118Z"
    }
   }
  },
  {
   "cell_type": "code",
   "execution_count": 54,
   "outputs": [],
   "source": [
    "events_short = events[['timestamp', 'name']]"
   ],
   "metadata": {
    "collapsed": false,
    "ExecuteTime": {
     "end_time": "2024-03-06T20:36:04.820574Z",
     "start_time": "2024-03-06T20:36:04.811898Z"
    }
   }
  },
  {
   "cell_type": "markdown",
   "source": [
    "# Merge datasets"
   ],
   "metadata": {
    "collapsed": false
   }
  },
  {
   "cell_type": "code",
   "execution_count": 55,
   "outputs": [],
   "source": [
    "eye_states_gaze = eye_states_short.merge(gaze_short, on='timestamp')"
   ],
   "metadata": {
    "collapsed": false,
    "ExecuteTime": {
     "end_time": "2024-03-06T20:36:05.186473Z",
     "start_time": "2024-03-06T20:36:05.174756Z"
    }
   }
  },
  {
   "cell_type": "code",
   "execution_count": 56,
   "outputs": [
    {
     "data": {
      "text/plain": "             timestamp  pupil_diameter  eyeball_center_lx  eyeball_center_ly  \\\n0  1707240525860716129        6.101728         -31.029068          15.071472   \n1  1707240525865716129        6.073446         -31.089268          15.178902   \n\n   eyeball_center_lz  optical_axis_lx  optical_axis_ly  optical_axis_lz  \\\n0         -39.422306         0.144663          0.46831         0.871642   \n1         -39.486629         0.147503          0.46787         0.871402   \n\n    gaze_x   gaze_y   azimuth  elevation  \n0  880.009  986.375  5.005893 -24.366639  \n1  875.569  996.474  4.715383 -25.020426  ",
      "text/html": "<div>\n<style scoped>\n    .dataframe tbody tr th:only-of-type {\n        vertical-align: middle;\n    }\n\n    .dataframe tbody tr th {\n        vertical-align: top;\n    }\n\n    .dataframe thead th {\n        text-align: right;\n    }\n</style>\n<table border=\"1\" class=\"dataframe\">\n  <thead>\n    <tr style=\"text-align: right;\">\n      <th></th>\n      <th>timestamp</th>\n      <th>pupil_diameter</th>\n      <th>eyeball_center_lx</th>\n      <th>eyeball_center_ly</th>\n      <th>eyeball_center_lz</th>\n      <th>optical_axis_lx</th>\n      <th>optical_axis_ly</th>\n      <th>optical_axis_lz</th>\n      <th>gaze_x</th>\n      <th>gaze_y</th>\n      <th>azimuth</th>\n      <th>elevation</th>\n    </tr>\n  </thead>\n  <tbody>\n    <tr>\n      <th>0</th>\n      <td>1707240525860716129</td>\n      <td>6.101728</td>\n      <td>-31.029068</td>\n      <td>15.071472</td>\n      <td>-39.422306</td>\n      <td>0.144663</td>\n      <td>0.46831</td>\n      <td>0.871642</td>\n      <td>880.009</td>\n      <td>986.375</td>\n      <td>5.005893</td>\n      <td>-24.366639</td>\n    </tr>\n    <tr>\n      <th>1</th>\n      <td>1707240525865716129</td>\n      <td>6.073446</td>\n      <td>-31.089268</td>\n      <td>15.178902</td>\n      <td>-39.486629</td>\n      <td>0.147503</td>\n      <td>0.46787</td>\n      <td>0.871402</td>\n      <td>875.569</td>\n      <td>996.474</td>\n      <td>4.715383</td>\n      <td>-25.020426</td>\n    </tr>\n  </tbody>\n</table>\n</div>"
     },
     "execution_count": 56,
     "metadata": {},
     "output_type": "execute_result"
    }
   ],
   "source": [
    "eye_states_gaze.head(2)"
   ],
   "metadata": {
    "collapsed": false,
    "ExecuteTime": {
     "end_time": "2024-03-06T20:36:05.768619Z",
     "start_time": "2024-03-06T20:36:05.735950Z"
    }
   }
  },
  {
   "cell_type": "code",
   "execution_count": 57,
   "outputs": [
    {
     "data": {
      "text/plain": "(103886, 12)"
     },
     "execution_count": 57,
     "metadata": {},
     "output_type": "execute_result"
    }
   ],
   "source": [
    "eye_states_gaze.shape"
   ],
   "metadata": {
    "collapsed": false,
    "ExecuteTime": {
     "end_time": "2024-03-06T20:36:05.912501Z",
     "start_time": "2024-03-06T20:36:05.847117Z"
    }
   }
  },
  {
   "cell_type": "code",
   "execution_count": 58,
   "outputs": [],
   "source": [
    "eye_states_gaze_events = eye_states_gaze.merge(events_short, how='outer', on='timestamp')"
   ],
   "metadata": {
    "collapsed": false,
    "ExecuteTime": {
     "end_time": "2024-03-06T20:36:06.381066Z",
     "start_time": "2024-03-06T20:36:06.327338Z"
    }
   }
  },
  {
   "cell_type": "code",
   "execution_count": 59,
   "outputs": [
    {
     "data": {
      "text/plain": "             timestamp  pupil_diameter  eyeball_center_lx  eyeball_center_ly  \\\n0  1707240520721000000             NaN                NaN                NaN   \n1  1707240525860716129        6.101728         -31.029068          15.071472   \n\n   eyeball_center_lz  optical_axis_lx  optical_axis_ly  optical_axis_lz  \\\n0                NaN              NaN              NaN              NaN   \n1         -39.422306         0.144663          0.46831         0.871642   \n\n    gaze_x   gaze_y   azimuth  elevation             name  \n0      NaN      NaN       NaN        NaN  recording.begin  \n1  880.009  986.375  5.005893 -24.366639              NaN  ",
      "text/html": "<div>\n<style scoped>\n    .dataframe tbody tr th:only-of-type {\n        vertical-align: middle;\n    }\n\n    .dataframe tbody tr th {\n        vertical-align: top;\n    }\n\n    .dataframe thead th {\n        text-align: right;\n    }\n</style>\n<table border=\"1\" class=\"dataframe\">\n  <thead>\n    <tr style=\"text-align: right;\">\n      <th></th>\n      <th>timestamp</th>\n      <th>pupil_diameter</th>\n      <th>eyeball_center_lx</th>\n      <th>eyeball_center_ly</th>\n      <th>eyeball_center_lz</th>\n      <th>optical_axis_lx</th>\n      <th>optical_axis_ly</th>\n      <th>optical_axis_lz</th>\n      <th>gaze_x</th>\n      <th>gaze_y</th>\n      <th>azimuth</th>\n      <th>elevation</th>\n      <th>name</th>\n    </tr>\n  </thead>\n  <tbody>\n    <tr>\n      <th>0</th>\n      <td>1707240520721000000</td>\n      <td>NaN</td>\n      <td>NaN</td>\n      <td>NaN</td>\n      <td>NaN</td>\n      <td>NaN</td>\n      <td>NaN</td>\n      <td>NaN</td>\n      <td>NaN</td>\n      <td>NaN</td>\n      <td>NaN</td>\n      <td>NaN</td>\n      <td>recording.begin</td>\n    </tr>\n    <tr>\n      <th>1</th>\n      <td>1707240525860716129</td>\n      <td>6.101728</td>\n      <td>-31.029068</td>\n      <td>15.071472</td>\n      <td>-39.422306</td>\n      <td>0.144663</td>\n      <td>0.46831</td>\n      <td>0.871642</td>\n      <td>880.009</td>\n      <td>986.375</td>\n      <td>5.005893</td>\n      <td>-24.366639</td>\n      <td>NaN</td>\n    </tr>\n  </tbody>\n</table>\n</div>"
     },
     "execution_count": 59,
     "metadata": {},
     "output_type": "execute_result"
    }
   ],
   "source": [
    "eye_states_gaze_events.head(2)"
   ],
   "metadata": {
    "collapsed": false,
    "ExecuteTime": {
     "end_time": "2024-03-06T20:36:06.543667Z",
     "start_time": "2024-03-06T20:36:06.537086Z"
    }
   }
  },
  {
   "cell_type": "markdown",
   "source": [
    "# Timestamps to date"
   ],
   "metadata": {
    "collapsed": false
   }
  },
  {
   "cell_type": "code",
   "execution_count": 60,
   "outputs": [],
   "source": [
    "eye_states_gaze_events['timestamp_data'] = [datetime.fromtimestamp(ts // 1000000000) for ts in eye_states_gaze_events['timestamp']]"
   ],
   "metadata": {
    "collapsed": false,
    "ExecuteTime": {
     "end_time": "2024-03-06T20:36:07.339054Z",
     "start_time": "2024-03-06T20:36:07.202988Z"
    }
   }
  },
  {
   "cell_type": "code",
   "execution_count": 61,
   "outputs": [
    {
     "data": {
      "text/plain": "                  timestamp  pupil_diameter  eyeball_center_lx  \\\n0       1707240520721000000             NaN                NaN   \n1       1707240525860716129        6.101728         -31.029068   \n2       1707240525865716129        6.073446         -31.089268   \n3       1707240525880716129        6.038457         -31.224716   \n4       1707240525885716129        6.053344         -31.080765   \n...                     ...             ...                ...   \n103919  1707241060011397129        6.001334         -30.980228   \n103920  1707241060016397129        6.009223         -31.004936   \n103921  1707241060021397129        6.003671         -30.999676   \n103922  1707241060026397129        5.825497         -31.715012   \n103923  1707241060329000000             NaN                NaN   \n\n        eyeball_center_ly  eyeball_center_lz  optical_axis_lx  \\\n0                     NaN                NaN              NaN   \n1               15.071472         -39.422306         0.144663   \n2               15.178902         -39.486629         0.147503   \n3               15.223293         -39.728813         0.128238   \n4               15.304230         -39.670540         0.125351   \n...                   ...                ...              ...   \n103919          14.236740         -39.625092         0.084920   \n103920          14.230232         -39.661438         0.084683   \n103921          14.164185         -39.623611         0.084236   \n103922          15.375488         -40.032200         0.024528   \n103923                NaN                NaN              NaN   \n\n        optical_axis_ly  optical_axis_lz   gaze_x    gaze_y   azimuth  \\\n0                   NaN              NaN      NaN       NaN       NaN   \n1              0.468310         0.871642  880.009   986.375  5.005893   \n2              0.467870         0.871402  875.569   996.474  4.715383   \n3              0.496139         0.858721  866.565  1027.974  4.139349   \n4              0.499520         0.857186  861.566  1029.880  3.791460   \n...                 ...              ...      ...       ...       ...   \n103919         0.407005         0.909470  816.558   908.598  0.600762   \n103920         0.404915         0.910425  814.048   910.749  0.431305   \n103921         0.410721         0.907862  817.503   911.561  0.665301   \n103922        -0.132906         0.990825  758.063   423.015 -3.287020   \n103923              NaN              NaN      NaN       NaN       NaN   \n\n        elevation             name      timestamp_data  \n0             NaN  recording.begin 2024-02-06 12:28:40  \n1      -24.366639              NaN 2024-02-06 12:28:45  \n2      -25.020426              NaN 2024-02-06 12:28:45  \n3      -27.054938              NaN 2024-02-06 12:28:45  \n4      -27.181279              NaN 2024-02-06 12:28:45  \n...           ...              ...                 ...  \n103919 -19.378063              NaN 2024-02-06 12:37:40  \n103920 -19.517137              NaN 2024-02-06 12:37:40  \n103921 -19.569471              NaN 2024-02-06 12:37:40  \n103922  12.236596              NaN 2024-02-06 12:37:40  \n103923        NaN    recording.end 2024-02-06 12:37:40  \n\n[103924 rows x 14 columns]",
      "text/html": "<div>\n<style scoped>\n    .dataframe tbody tr th:only-of-type {\n        vertical-align: middle;\n    }\n\n    .dataframe tbody tr th {\n        vertical-align: top;\n    }\n\n    .dataframe thead th {\n        text-align: right;\n    }\n</style>\n<table border=\"1\" class=\"dataframe\">\n  <thead>\n    <tr style=\"text-align: right;\">\n      <th></th>\n      <th>timestamp</th>\n      <th>pupil_diameter</th>\n      <th>eyeball_center_lx</th>\n      <th>eyeball_center_ly</th>\n      <th>eyeball_center_lz</th>\n      <th>optical_axis_lx</th>\n      <th>optical_axis_ly</th>\n      <th>optical_axis_lz</th>\n      <th>gaze_x</th>\n      <th>gaze_y</th>\n      <th>azimuth</th>\n      <th>elevation</th>\n      <th>name</th>\n      <th>timestamp_data</th>\n    </tr>\n  </thead>\n  <tbody>\n    <tr>\n      <th>0</th>\n      <td>1707240520721000000</td>\n      <td>NaN</td>\n      <td>NaN</td>\n      <td>NaN</td>\n      <td>NaN</td>\n      <td>NaN</td>\n      <td>NaN</td>\n      <td>NaN</td>\n      <td>NaN</td>\n      <td>NaN</td>\n      <td>NaN</td>\n      <td>NaN</td>\n      <td>recording.begin</td>\n      <td>2024-02-06 12:28:40</td>\n    </tr>\n    <tr>\n      <th>1</th>\n      <td>1707240525860716129</td>\n      <td>6.101728</td>\n      <td>-31.029068</td>\n      <td>15.071472</td>\n      <td>-39.422306</td>\n      <td>0.144663</td>\n      <td>0.468310</td>\n      <td>0.871642</td>\n      <td>880.009</td>\n      <td>986.375</td>\n      <td>5.005893</td>\n      <td>-24.366639</td>\n      <td>NaN</td>\n      <td>2024-02-06 12:28:45</td>\n    </tr>\n    <tr>\n      <th>2</th>\n      <td>1707240525865716129</td>\n      <td>6.073446</td>\n      <td>-31.089268</td>\n      <td>15.178902</td>\n      <td>-39.486629</td>\n      <td>0.147503</td>\n      <td>0.467870</td>\n      <td>0.871402</td>\n      <td>875.569</td>\n      <td>996.474</td>\n      <td>4.715383</td>\n      <td>-25.020426</td>\n      <td>NaN</td>\n      <td>2024-02-06 12:28:45</td>\n    </tr>\n    <tr>\n      <th>3</th>\n      <td>1707240525880716129</td>\n      <td>6.038457</td>\n      <td>-31.224716</td>\n      <td>15.223293</td>\n      <td>-39.728813</td>\n      <td>0.128238</td>\n      <td>0.496139</td>\n      <td>0.858721</td>\n      <td>866.565</td>\n      <td>1027.974</td>\n      <td>4.139349</td>\n      <td>-27.054938</td>\n      <td>NaN</td>\n      <td>2024-02-06 12:28:45</td>\n    </tr>\n    <tr>\n      <th>4</th>\n      <td>1707240525885716129</td>\n      <td>6.053344</td>\n      <td>-31.080765</td>\n      <td>15.304230</td>\n      <td>-39.670540</td>\n      <td>0.125351</td>\n      <td>0.499520</td>\n      <td>0.857186</td>\n      <td>861.566</td>\n      <td>1029.880</td>\n      <td>3.791460</td>\n      <td>-27.181279</td>\n      <td>NaN</td>\n      <td>2024-02-06 12:28:45</td>\n    </tr>\n    <tr>\n      <th>...</th>\n      <td>...</td>\n      <td>...</td>\n      <td>...</td>\n      <td>...</td>\n      <td>...</td>\n      <td>...</td>\n      <td>...</td>\n      <td>...</td>\n      <td>...</td>\n      <td>...</td>\n      <td>...</td>\n      <td>...</td>\n      <td>...</td>\n      <td>...</td>\n    </tr>\n    <tr>\n      <th>103919</th>\n      <td>1707241060011397129</td>\n      <td>6.001334</td>\n      <td>-30.980228</td>\n      <td>14.236740</td>\n      <td>-39.625092</td>\n      <td>0.084920</td>\n      <td>0.407005</td>\n      <td>0.909470</td>\n      <td>816.558</td>\n      <td>908.598</td>\n      <td>0.600762</td>\n      <td>-19.378063</td>\n      <td>NaN</td>\n      <td>2024-02-06 12:37:40</td>\n    </tr>\n    <tr>\n      <th>103920</th>\n      <td>1707241060016397129</td>\n      <td>6.009223</td>\n      <td>-31.004936</td>\n      <td>14.230232</td>\n      <td>-39.661438</td>\n      <td>0.084683</td>\n      <td>0.404915</td>\n      <td>0.910425</td>\n      <td>814.048</td>\n      <td>910.749</td>\n      <td>0.431305</td>\n      <td>-19.517137</td>\n      <td>NaN</td>\n      <td>2024-02-06 12:37:40</td>\n    </tr>\n    <tr>\n      <th>103921</th>\n      <td>1707241060021397129</td>\n      <td>6.003671</td>\n      <td>-30.999676</td>\n      <td>14.164185</td>\n      <td>-39.623611</td>\n      <td>0.084236</td>\n      <td>0.410721</td>\n      <td>0.907862</td>\n      <td>817.503</td>\n      <td>911.561</td>\n      <td>0.665301</td>\n      <td>-19.569471</td>\n      <td>NaN</td>\n      <td>2024-02-06 12:37:40</td>\n    </tr>\n    <tr>\n      <th>103922</th>\n      <td>1707241060026397129</td>\n      <td>5.825497</td>\n      <td>-31.715012</td>\n      <td>15.375488</td>\n      <td>-40.032200</td>\n      <td>0.024528</td>\n      <td>-0.132906</td>\n      <td>0.990825</td>\n      <td>758.063</td>\n      <td>423.015</td>\n      <td>-3.287020</td>\n      <td>12.236596</td>\n      <td>NaN</td>\n      <td>2024-02-06 12:37:40</td>\n    </tr>\n    <tr>\n      <th>103923</th>\n      <td>1707241060329000000</td>\n      <td>NaN</td>\n      <td>NaN</td>\n      <td>NaN</td>\n      <td>NaN</td>\n      <td>NaN</td>\n      <td>NaN</td>\n      <td>NaN</td>\n      <td>NaN</td>\n      <td>NaN</td>\n      <td>NaN</td>\n      <td>NaN</td>\n      <td>recording.end</td>\n      <td>2024-02-06 12:37:40</td>\n    </tr>\n  </tbody>\n</table>\n<p>103924 rows × 14 columns</p>\n</div>"
     },
     "execution_count": 61,
     "metadata": {},
     "output_type": "execute_result"
    }
   ],
   "source": [
    "eye_states_gaze_events"
   ],
   "metadata": {
    "collapsed": false,
    "ExecuteTime": {
     "end_time": "2024-03-06T20:36:07.410182Z",
     "start_time": "2024-03-06T20:36:07.380809Z"
    }
   }
  },
  {
   "cell_type": "markdown",
   "source": [
    "# Separate flight simulator parts"
   ],
   "metadata": {
    "collapsed": false
   }
  },
  {
   "cell_type": "markdown",
   "source": [
    "## Navigation parameters"
   ],
   "metadata": {
    "collapsed": false
   }
  },
  {
   "cell_type": "code",
   "execution_count": 70,
   "outputs": [],
   "source": [
    "filtered_nav_par_indexes = eye_states_gaze_events[(eye_states_gaze_events['name'] == 'navigation_parameters.starts') |\n",
    "                                       (eye_states_gaze_events['name'] == 'navigation_parameters.end')].index"
   ],
   "metadata": {
    "collapsed": false,
    "ExecuteTime": {
     "end_time": "2024-03-06T20:40:24.362020Z",
     "start_time": "2024-03-06T20:40:24.350964Z"
    }
   }
  },
  {
   "cell_type": "code",
   "execution_count": 71,
   "outputs": [
    {
     "data": {
      "text/plain": "Index([5002, 5132, 5477, 5549, 12589, 13126, 13503, 14703, 16358, 16473, 17142,\n       20090],\n      dtype='int64')"
     },
     "execution_count": 71,
     "metadata": {},
     "output_type": "execute_result"
    }
   ],
   "source": [
    "filtered_nav_par_indexes"
   ],
   "metadata": {
    "collapsed": false,
    "ExecuteTime": {
     "end_time": "2024-03-06T20:40:24.769895Z",
     "start_time": "2024-03-06T20:40:24.765350Z"
    }
   }
  },
  {
   "cell_type": "code",
   "execution_count": 72,
   "outputs": [],
   "source": [
    "filtered_nav_par = pd.DataFrame()\n",
    "for i in range(0, len(filtered_nav_par_indexes), 2):\n",
    "    filtered_nav_par = pd.concat([filtered_nav_par, eye_states_gaze_events.loc[filtered_nav_par_indexes[i]:filtered_nav_par_indexes[i+1]]])"
   ],
   "metadata": {
    "collapsed": false,
    "ExecuteTime": {
     "end_time": "2024-03-06T20:40:27.408382Z",
     "start_time": "2024-03-06T20:40:27.373613Z"
    }
   }
  },
  {
   "cell_type": "code",
   "execution_count": 74,
   "outputs": [
    {
     "data": {
      "text/plain": "                timestamp  pupil_diameter  eyeball_center_lx  \\\n5002  1707240561312019000             NaN                NaN   \n5003  1707240561313651129        4.480158         -31.848492   \n\n      eyeball_center_ly  eyeball_center_lz  optical_axis_lx  optical_axis_ly  \\\n5002                NaN                NaN              NaN              NaN   \n5003          15.027313         -40.767693        -0.131422         0.188677   \n\n      optical_axis_lz   gaze_x   gaze_y    azimuth  elevation  \\\n5002              NaN      NaN      NaN        NaN        NaN   \n5003         0.973206  620.994  724.002 -12.227112  -7.322114   \n\n                              name      timestamp_data  \n5002  navigation_parameters.starts 2024-02-06 12:29:21  \n5003                           NaN 2024-02-06 12:29:21  ",
      "text/html": "<div>\n<style scoped>\n    .dataframe tbody tr th:only-of-type {\n        vertical-align: middle;\n    }\n\n    .dataframe tbody tr th {\n        vertical-align: top;\n    }\n\n    .dataframe thead th {\n        text-align: right;\n    }\n</style>\n<table border=\"1\" class=\"dataframe\">\n  <thead>\n    <tr style=\"text-align: right;\">\n      <th></th>\n      <th>timestamp</th>\n      <th>pupil_diameter</th>\n      <th>eyeball_center_lx</th>\n      <th>eyeball_center_ly</th>\n      <th>eyeball_center_lz</th>\n      <th>optical_axis_lx</th>\n      <th>optical_axis_ly</th>\n      <th>optical_axis_lz</th>\n      <th>gaze_x</th>\n      <th>gaze_y</th>\n      <th>azimuth</th>\n      <th>elevation</th>\n      <th>name</th>\n      <th>timestamp_data</th>\n    </tr>\n  </thead>\n  <tbody>\n    <tr>\n      <th>5002</th>\n      <td>1707240561312019000</td>\n      <td>NaN</td>\n      <td>NaN</td>\n      <td>NaN</td>\n      <td>NaN</td>\n      <td>NaN</td>\n      <td>NaN</td>\n      <td>NaN</td>\n      <td>NaN</td>\n      <td>NaN</td>\n      <td>NaN</td>\n      <td>NaN</td>\n      <td>navigation_parameters.starts</td>\n      <td>2024-02-06 12:29:21</td>\n    </tr>\n    <tr>\n      <th>5003</th>\n      <td>1707240561313651129</td>\n      <td>4.480158</td>\n      <td>-31.848492</td>\n      <td>15.027313</td>\n      <td>-40.767693</td>\n      <td>-0.131422</td>\n      <td>0.188677</td>\n      <td>0.973206</td>\n      <td>620.994</td>\n      <td>724.002</td>\n      <td>-12.227112</td>\n      <td>-7.322114</td>\n      <td>NaN</td>\n      <td>2024-02-06 12:29:21</td>\n    </tr>\n  </tbody>\n</table>\n</div>"
     },
     "execution_count": 74,
     "metadata": {},
     "output_type": "execute_result"
    }
   ],
   "source": [
    "filtered_nav_par.head(2)"
   ],
   "metadata": {
    "collapsed": false,
    "ExecuteTime": {
     "end_time": "2024-03-06T20:41:03.546044Z",
     "start_time": "2024-03-06T20:41:03.527676Z"
    }
   }
  },
  {
   "cell_type": "code",
   "execution_count": 75,
   "outputs": [],
   "source": [
    "filtered_nav_par['name'] = filtered_nav_par['name'].apply(lambda x: 'navigation parameters' if pd.isna(x) else x)"
   ],
   "metadata": {
    "collapsed": false,
    "ExecuteTime": {
     "end_time": "2024-03-06T20:41:41.229698Z",
     "start_time": "2024-03-06T20:41:41.180002Z"
    }
   }
  },
  {
   "cell_type": "code",
   "execution_count": 76,
   "outputs": [
    {
     "data": {
      "text/plain": "                timestamp  pupil_diameter  eyeball_center_lx  \\\n5002  1707240561312019000             NaN                NaN   \n5003  1707240561313651129        4.480158         -31.848492   \n\n      eyeball_center_ly  eyeball_center_lz  optical_axis_lx  optical_axis_ly  \\\n5002                NaN                NaN              NaN              NaN   \n5003          15.027313         -40.767693        -0.131422         0.188677   \n\n      optical_axis_lz   gaze_x   gaze_y    azimuth  elevation  \\\n5002              NaN      NaN      NaN        NaN        NaN   \n5003         0.973206  620.994  724.002 -12.227112  -7.322114   \n\n                              name      timestamp_data  \n5002  navigation_parameters.starts 2024-02-06 12:29:21  \n5003         navigation parameters 2024-02-06 12:29:21  ",
      "text/html": "<div>\n<style scoped>\n    .dataframe tbody tr th:only-of-type {\n        vertical-align: middle;\n    }\n\n    .dataframe tbody tr th {\n        vertical-align: top;\n    }\n\n    .dataframe thead th {\n        text-align: right;\n    }\n</style>\n<table border=\"1\" class=\"dataframe\">\n  <thead>\n    <tr style=\"text-align: right;\">\n      <th></th>\n      <th>timestamp</th>\n      <th>pupil_diameter</th>\n      <th>eyeball_center_lx</th>\n      <th>eyeball_center_ly</th>\n      <th>eyeball_center_lz</th>\n      <th>optical_axis_lx</th>\n      <th>optical_axis_ly</th>\n      <th>optical_axis_lz</th>\n      <th>gaze_x</th>\n      <th>gaze_y</th>\n      <th>azimuth</th>\n      <th>elevation</th>\n      <th>name</th>\n      <th>timestamp_data</th>\n    </tr>\n  </thead>\n  <tbody>\n    <tr>\n      <th>5002</th>\n      <td>1707240561312019000</td>\n      <td>NaN</td>\n      <td>NaN</td>\n      <td>NaN</td>\n      <td>NaN</td>\n      <td>NaN</td>\n      <td>NaN</td>\n      <td>NaN</td>\n      <td>NaN</td>\n      <td>NaN</td>\n      <td>NaN</td>\n      <td>NaN</td>\n      <td>navigation_parameters.starts</td>\n      <td>2024-02-06 12:29:21</td>\n    </tr>\n    <tr>\n      <th>5003</th>\n      <td>1707240561313651129</td>\n      <td>4.480158</td>\n      <td>-31.848492</td>\n      <td>15.027313</td>\n      <td>-40.767693</td>\n      <td>-0.131422</td>\n      <td>0.188677</td>\n      <td>0.973206</td>\n      <td>620.994</td>\n      <td>724.002</td>\n      <td>-12.227112</td>\n      <td>-7.322114</td>\n      <td>navigation parameters</td>\n      <td>2024-02-06 12:29:21</td>\n    </tr>\n  </tbody>\n</table>\n</div>"
     },
     "execution_count": 76,
     "metadata": {},
     "output_type": "execute_result"
    }
   ],
   "source": [
    "filtered_nav_par.head(2)"
   ],
   "metadata": {
    "collapsed": false,
    "ExecuteTime": {
     "end_time": "2024-03-06T20:41:47.817500Z",
     "start_time": "2024-03-06T20:41:47.752792Z"
    }
   }
  },
  {
   "cell_type": "code",
   "execution_count": 77,
   "outputs": [],
   "source": [
    "navigation_parameters = filtered_nav_par.dropna().reset_index(drop=True)"
   ],
   "metadata": {
    "collapsed": false,
    "ExecuteTime": {
     "end_time": "2024-03-06T20:42:20.396078Z",
     "start_time": "2024-03-06T20:42:20.359265Z"
    }
   }
  },
  {
   "cell_type": "code",
   "execution_count": 78,
   "outputs": [
    {
     "data": {
      "text/plain": "             timestamp  pupil_diameter  eyeball_center_lx  eyeball_center_ly  \\\n0  1707240561313651129        4.480158         -31.848492          15.027313   \n1  1707240561318651129        4.461890         -31.740986          14.920807   \n\n   eyeball_center_lz  optical_axis_lx  optical_axis_ly  optical_axis_lz  \\\n0         -40.767693        -0.131422         0.188677         0.973206   \n1         -40.577309        -0.146993         0.199509         0.968808   \n\n    gaze_x   gaze_y    azimuth  elevation                   name  \\\n0  620.994  724.002 -12.227112  -7.322114  navigation parameters   \n1  604.379  721.965 -13.307777  -7.178110  navigation parameters   \n\n       timestamp_data  \n0 2024-02-06 12:29:21  \n1 2024-02-06 12:29:21  ",
      "text/html": "<div>\n<style scoped>\n    .dataframe tbody tr th:only-of-type {\n        vertical-align: middle;\n    }\n\n    .dataframe tbody tr th {\n        vertical-align: top;\n    }\n\n    .dataframe thead th {\n        text-align: right;\n    }\n</style>\n<table border=\"1\" class=\"dataframe\">\n  <thead>\n    <tr style=\"text-align: right;\">\n      <th></th>\n      <th>timestamp</th>\n      <th>pupil_diameter</th>\n      <th>eyeball_center_lx</th>\n      <th>eyeball_center_ly</th>\n      <th>eyeball_center_lz</th>\n      <th>optical_axis_lx</th>\n      <th>optical_axis_ly</th>\n      <th>optical_axis_lz</th>\n      <th>gaze_x</th>\n      <th>gaze_y</th>\n      <th>azimuth</th>\n      <th>elevation</th>\n      <th>name</th>\n      <th>timestamp_data</th>\n    </tr>\n  </thead>\n  <tbody>\n    <tr>\n      <th>0</th>\n      <td>1707240561313651129</td>\n      <td>4.480158</td>\n      <td>-31.848492</td>\n      <td>15.027313</td>\n      <td>-40.767693</td>\n      <td>-0.131422</td>\n      <td>0.188677</td>\n      <td>0.973206</td>\n      <td>620.994</td>\n      <td>724.002</td>\n      <td>-12.227112</td>\n      <td>-7.322114</td>\n      <td>navigation parameters</td>\n      <td>2024-02-06 12:29:21</td>\n    </tr>\n    <tr>\n      <th>1</th>\n      <td>1707240561318651129</td>\n      <td>4.461890</td>\n      <td>-31.740986</td>\n      <td>14.920807</td>\n      <td>-40.577309</td>\n      <td>-0.146993</td>\n      <td>0.199509</td>\n      <td>0.968808</td>\n      <td>604.379</td>\n      <td>721.965</td>\n      <td>-13.307777</td>\n      <td>-7.178110</td>\n      <td>navigation parameters</td>\n      <td>2024-02-06 12:29:21</td>\n    </tr>\n  </tbody>\n</table>\n</div>"
     },
     "execution_count": 78,
     "metadata": {},
     "output_type": "execute_result"
    }
   ],
   "source": [
    "navigation_parameters.head(2)"
   ],
   "metadata": {
    "collapsed": false,
    "ExecuteTime": {
     "end_time": "2024-03-06T20:42:30.034179Z",
     "start_time": "2024-03-06T20:42:30.020148Z"
    }
   }
  },
  {
   "cell_type": "code",
   "execution_count": 79,
   "outputs": [
    {
     "data": {
      "text/plain": "(4996, 14)"
     },
     "execution_count": 79,
     "metadata": {},
     "output_type": "execute_result"
    }
   ],
   "source": [
    "navigation_parameters.shape"
   ],
   "metadata": {
    "collapsed": false,
    "ExecuteTime": {
     "end_time": "2024-03-06T20:42:43.587463Z",
     "start_time": "2024-03-06T20:42:43.569160Z"
    }
   }
  },
  {
   "cell_type": "markdown",
   "source": [
    "## Main screen"
   ],
   "metadata": {
    "collapsed": false
   }
  },
  {
   "cell_type": "code",
   "execution_count": 80,
   "outputs": [],
   "source": [
    "filtered_main_indexes = eye_states_gaze_events[(eye_states_gaze_events['name'] == 'main_screen.start') |\n",
    "                                       (eye_states_gaze_events['name'] == 'main_screen.end')].index"
   ],
   "metadata": {
    "collapsed": false,
    "ExecuteTime": {
     "end_time": "2024-03-06T20:45:41.617482Z",
     "start_time": "2024-03-06T20:45:41.530214Z"
    }
   }
  },
  {
   "cell_type": "code",
   "execution_count": 81,
   "outputs": [
    {
     "data": {
      "text/plain": "Index([4361, 4491, 4813, 4968, 5277, 5421, 5621, 5646, 10519, 10567, 15005,\n       15024],\n      dtype='int64')"
     },
     "execution_count": 81,
     "metadata": {},
     "output_type": "execute_result"
    }
   ],
   "source": [
    "filtered_main_indexes"
   ],
   "metadata": {
    "collapsed": false,
    "ExecuteTime": {
     "end_time": "2024-03-06T20:45:46.322308Z",
     "start_time": "2024-03-06T20:45:46.245858Z"
    }
   }
  },
  {
   "cell_type": "code",
   "execution_count": 82,
   "outputs": [],
   "source": [
    "filtered_main = pd.DataFrame()\n",
    "for i in range(0, len(filtered_main_indexes), 2):\n",
    "    filtered_main = pd.concat([filtered_main, eye_states_gaze_events.loc[filtered_main_indexes[i]:filtered_main_indexes[i+1]]])"
   ],
   "metadata": {
    "collapsed": false,
    "ExecuteTime": {
     "end_time": "2024-03-06T20:46:17.895386Z",
     "start_time": "2024-03-06T20:46:17.858538Z"
    }
   }
  },
  {
   "cell_type": "code",
   "execution_count": 83,
   "outputs": [
    {
     "data": {
      "text/plain": "                timestamp  pupil_diameter  eyeball_center_lx  \\\n4361  1707240557466509000             NaN                NaN   \n4362  1707240557470132129        6.087544         -31.950706   \n\n      eyeball_center_ly  eyeball_center_lz  optical_axis_lx  optical_axis_ly  \\\n4361                NaN                NaN              NaN              NaN   \n4362           15.86528         -39.885796         0.098015        -0.086471   \n\n      optical_axis_lz   gaze_x   gaze_y   azimuth  elevation  \\\n4361              NaN      NaN      NaN       NaN        NaN   \n4362         0.991421  817.824  449.325  0.665227    10.5345   \n\n                   name      timestamp_data  \n4361  main_screen.start 2024-02-06 12:29:17  \n4362                NaN 2024-02-06 12:29:17  ",
      "text/html": "<div>\n<style scoped>\n    .dataframe tbody tr th:only-of-type {\n        vertical-align: middle;\n    }\n\n    .dataframe tbody tr th {\n        vertical-align: top;\n    }\n\n    .dataframe thead th {\n        text-align: right;\n    }\n</style>\n<table border=\"1\" class=\"dataframe\">\n  <thead>\n    <tr style=\"text-align: right;\">\n      <th></th>\n      <th>timestamp</th>\n      <th>pupil_diameter</th>\n      <th>eyeball_center_lx</th>\n      <th>eyeball_center_ly</th>\n      <th>eyeball_center_lz</th>\n      <th>optical_axis_lx</th>\n      <th>optical_axis_ly</th>\n      <th>optical_axis_lz</th>\n      <th>gaze_x</th>\n      <th>gaze_y</th>\n      <th>azimuth</th>\n      <th>elevation</th>\n      <th>name</th>\n      <th>timestamp_data</th>\n    </tr>\n  </thead>\n  <tbody>\n    <tr>\n      <th>4361</th>\n      <td>1707240557466509000</td>\n      <td>NaN</td>\n      <td>NaN</td>\n      <td>NaN</td>\n      <td>NaN</td>\n      <td>NaN</td>\n      <td>NaN</td>\n      <td>NaN</td>\n      <td>NaN</td>\n      <td>NaN</td>\n      <td>NaN</td>\n      <td>NaN</td>\n      <td>main_screen.start</td>\n      <td>2024-02-06 12:29:17</td>\n    </tr>\n    <tr>\n      <th>4362</th>\n      <td>1707240557470132129</td>\n      <td>6.087544</td>\n      <td>-31.950706</td>\n      <td>15.86528</td>\n      <td>-39.885796</td>\n      <td>0.098015</td>\n      <td>-0.086471</td>\n      <td>0.991421</td>\n      <td>817.824</td>\n      <td>449.325</td>\n      <td>0.665227</td>\n      <td>10.5345</td>\n      <td>NaN</td>\n      <td>2024-02-06 12:29:17</td>\n    </tr>\n  </tbody>\n</table>\n</div>"
     },
     "execution_count": 83,
     "metadata": {},
     "output_type": "execute_result"
    }
   ],
   "source": [
    "filtered_main.head(2)"
   ],
   "metadata": {
    "collapsed": false,
    "ExecuteTime": {
     "end_time": "2024-03-06T20:46:29.515341Z",
     "start_time": "2024-03-06T20:46:29.493899Z"
    }
   }
  },
  {
   "cell_type": "code",
   "execution_count": 84,
   "outputs": [],
   "source": [
    "filtered_main['name'] = filtered_main['name'].apply(lambda x: 'main screen' if pd.isna(x) else x)"
   ],
   "metadata": {
    "collapsed": false,
    "ExecuteTime": {
     "end_time": "2024-03-06T20:46:59.738778Z",
     "start_time": "2024-03-06T20:46:59.706480Z"
    }
   }
  },
  {
   "cell_type": "code",
   "execution_count": 85,
   "outputs": [
    {
     "data": {
      "text/plain": "                timestamp  pupil_diameter  eyeball_center_lx  \\\n4361  1707240557466509000             NaN                NaN   \n4362  1707240557470132129        6.087544         -31.950706   \n\n      eyeball_center_ly  eyeball_center_lz  optical_axis_lx  optical_axis_ly  \\\n4361                NaN                NaN              NaN              NaN   \n4362           15.86528         -39.885796         0.098015        -0.086471   \n\n      optical_axis_lz   gaze_x   gaze_y   azimuth  elevation  \\\n4361              NaN      NaN      NaN       NaN        NaN   \n4362         0.991421  817.824  449.325  0.665227    10.5345   \n\n                   name      timestamp_data  \n4361  main_screen.start 2024-02-06 12:29:17  \n4362        main screen 2024-02-06 12:29:17  ",
      "text/html": "<div>\n<style scoped>\n    .dataframe tbody tr th:only-of-type {\n        vertical-align: middle;\n    }\n\n    .dataframe tbody tr th {\n        vertical-align: top;\n    }\n\n    .dataframe thead th {\n        text-align: right;\n    }\n</style>\n<table border=\"1\" class=\"dataframe\">\n  <thead>\n    <tr style=\"text-align: right;\">\n      <th></th>\n      <th>timestamp</th>\n      <th>pupil_diameter</th>\n      <th>eyeball_center_lx</th>\n      <th>eyeball_center_ly</th>\n      <th>eyeball_center_lz</th>\n      <th>optical_axis_lx</th>\n      <th>optical_axis_ly</th>\n      <th>optical_axis_lz</th>\n      <th>gaze_x</th>\n      <th>gaze_y</th>\n      <th>azimuth</th>\n      <th>elevation</th>\n      <th>name</th>\n      <th>timestamp_data</th>\n    </tr>\n  </thead>\n  <tbody>\n    <tr>\n      <th>4361</th>\n      <td>1707240557466509000</td>\n      <td>NaN</td>\n      <td>NaN</td>\n      <td>NaN</td>\n      <td>NaN</td>\n      <td>NaN</td>\n      <td>NaN</td>\n      <td>NaN</td>\n      <td>NaN</td>\n      <td>NaN</td>\n      <td>NaN</td>\n      <td>NaN</td>\n      <td>main_screen.start</td>\n      <td>2024-02-06 12:29:17</td>\n    </tr>\n    <tr>\n      <th>4362</th>\n      <td>1707240557470132129</td>\n      <td>6.087544</td>\n      <td>-31.950706</td>\n      <td>15.86528</td>\n      <td>-39.885796</td>\n      <td>0.098015</td>\n      <td>-0.086471</td>\n      <td>0.991421</td>\n      <td>817.824</td>\n      <td>449.325</td>\n      <td>0.665227</td>\n      <td>10.5345</td>\n      <td>main screen</td>\n      <td>2024-02-06 12:29:17</td>\n    </tr>\n  </tbody>\n</table>\n</div>"
     },
     "execution_count": 85,
     "metadata": {},
     "output_type": "execute_result"
    }
   ],
   "source": [
    "filtered_main.head(2)"
   ],
   "metadata": {
    "collapsed": false,
    "ExecuteTime": {
     "end_time": "2024-03-06T20:47:09.524164Z",
     "start_time": "2024-03-06T20:47:09.505605Z"
    }
   }
  },
  {
   "cell_type": "code",
   "execution_count": 86,
   "outputs": [],
   "source": [
    "main_screen = filtered_main.dropna().reset_index(drop=True)"
   ],
   "metadata": {
    "collapsed": false,
    "ExecuteTime": {
     "end_time": "2024-03-06T20:47:25.622352Z",
     "start_time": "2024-03-06T20:47:25.582265Z"
    }
   }
  },
  {
   "cell_type": "code",
   "execution_count": 87,
   "outputs": [
    {
     "data": {
      "text/plain": "             timestamp  pupil_diameter  eyeball_center_lx  eyeball_center_ly  \\\n0  1707240557470132129        6.087544         -31.950706          15.865280   \n1  1707240557475132129        6.081301         -31.709511          15.842545   \n\n   eyeball_center_lz  optical_axis_lx  optical_axis_ly  optical_axis_lz  \\\n0         -39.885796         0.098015        -0.086471         0.991421   \n1         -39.810513         0.093039        -0.089415         0.991639   \n\n    gaze_x   gaze_y   azimuth  elevation         name      timestamp_data  \n0  817.824  449.325  0.665227  10.534500  main screen 2024-02-06 12:29:17  \n1  821.094  447.444  0.881143  10.656784  main screen 2024-02-06 12:29:17  ",
      "text/html": "<div>\n<style scoped>\n    .dataframe tbody tr th:only-of-type {\n        vertical-align: middle;\n    }\n\n    .dataframe tbody tr th {\n        vertical-align: top;\n    }\n\n    .dataframe thead th {\n        text-align: right;\n    }\n</style>\n<table border=\"1\" class=\"dataframe\">\n  <thead>\n    <tr style=\"text-align: right;\">\n      <th></th>\n      <th>timestamp</th>\n      <th>pupil_diameter</th>\n      <th>eyeball_center_lx</th>\n      <th>eyeball_center_ly</th>\n      <th>eyeball_center_lz</th>\n      <th>optical_axis_lx</th>\n      <th>optical_axis_ly</th>\n      <th>optical_axis_lz</th>\n      <th>gaze_x</th>\n      <th>gaze_y</th>\n      <th>azimuth</th>\n      <th>elevation</th>\n      <th>name</th>\n      <th>timestamp_data</th>\n    </tr>\n  </thead>\n  <tbody>\n    <tr>\n      <th>0</th>\n      <td>1707240557470132129</td>\n      <td>6.087544</td>\n      <td>-31.950706</td>\n      <td>15.865280</td>\n      <td>-39.885796</td>\n      <td>0.098015</td>\n      <td>-0.086471</td>\n      <td>0.991421</td>\n      <td>817.824</td>\n      <td>449.325</td>\n      <td>0.665227</td>\n      <td>10.534500</td>\n      <td>main screen</td>\n      <td>2024-02-06 12:29:17</td>\n    </tr>\n    <tr>\n      <th>1</th>\n      <td>1707240557475132129</td>\n      <td>6.081301</td>\n      <td>-31.709511</td>\n      <td>15.842545</td>\n      <td>-39.810513</td>\n      <td>0.093039</td>\n      <td>-0.089415</td>\n      <td>0.991639</td>\n      <td>821.094</td>\n      <td>447.444</td>\n      <td>0.881143</td>\n      <td>10.656784</td>\n      <td>main screen</td>\n      <td>2024-02-06 12:29:17</td>\n    </tr>\n  </tbody>\n</table>\n</div>"
     },
     "execution_count": 87,
     "metadata": {},
     "output_type": "execute_result"
    }
   ],
   "source": [
    "main_screen.head(2)"
   ],
   "metadata": {
    "collapsed": false,
    "ExecuteTime": {
     "end_time": "2024-03-06T20:47:43.318773Z",
     "start_time": "2024-03-06T20:47:43.278520Z"
    }
   }
  },
  {
   "cell_type": "code",
   "execution_count": 88,
   "outputs": [
    {
     "data": {
      "text/plain": "(515, 14)"
     },
     "execution_count": 88,
     "metadata": {},
     "output_type": "execute_result"
    }
   ],
   "source": [
    "main_screen.shape"
   ],
   "metadata": {
    "collapsed": false,
    "ExecuteTime": {
     "end_time": "2024-03-06T20:47:53.178094Z",
     "start_time": "2024-03-06T20:47:53.138941Z"
    }
   }
  },
  {
   "cell_type": "markdown",
   "source": [
    "## Right screen"
   ],
   "metadata": {
    "collapsed": false
   }
  },
  {
   "cell_type": "code",
   "execution_count": 89,
   "outputs": [],
   "source": [
    "filtered_right_indexes = eye_states_gaze_events[(eye_states_gaze_events['name'] == 'right_screen.start') |\n",
    "                                       (eye_states_gaze_events['name'] == 'right_screen.end')].index"
   ],
   "metadata": {
    "collapsed": false,
    "ExecuteTime": {
     "end_time": "2024-03-06T20:49:10.217967Z",
     "start_time": "2024-03-06T20:49:10.189206Z"
    }
   }
  },
  {
   "cell_type": "code",
   "execution_count": 90,
   "outputs": [
    {
     "data": {
      "text/plain": "Index([3802, 3913, 10954, 11095], dtype='int64')"
     },
     "execution_count": 90,
     "metadata": {},
     "output_type": "execute_result"
    }
   ],
   "source": [
    "filtered_right_indexes"
   ],
   "metadata": {
    "collapsed": false,
    "ExecuteTime": {
     "end_time": "2024-03-06T20:49:15.035430Z",
     "start_time": "2024-03-06T20:49:14.995922Z"
    }
   }
  },
  {
   "cell_type": "code",
   "execution_count": 91,
   "outputs": [],
   "source": [
    "filtered_right = pd.DataFrame()\n",
    "for i in range(0, len(filtered_right_indexes), 2):\n",
    "    filtered_right  = pd.concat([filtered_right, eye_states_gaze_events.loc[filtered_right_indexes[i]:filtered_right_indexes[i+1]]])"
   ],
   "metadata": {
    "collapsed": false,
    "ExecuteTime": {
     "end_time": "2024-03-06T20:49:26.847435Z",
     "start_time": "2024-03-06T20:49:26.813836Z"
    }
   }
  },
  {
   "cell_type": "code",
   "execution_count": 92,
   "outputs": [
    {
     "data": {
      "text/plain": "                timestamp  pupil_diameter  eyeball_center_lx  \\\n3802  1707240554055752000             NaN                NaN   \n3803  1707240554056864129        6.020391         -31.397358   \n\n      eyeball_center_ly  eyeball_center_lz  optical_axis_lx  optical_axis_ly  \\\n3802                NaN                NaN              NaN              NaN   \n3803          15.432617         -38.729904         0.251825          0.03638   \n\n      optical_axis_lz   gaze_x   gaze_y    azimuth  elevation  \\\n3802              NaN      NaN      NaN        NaN        NaN   \n3803         0.967089  970.994  570.496  10.656527   2.613362   \n\n                    name      timestamp_data  \n3802  right_screen.start 2024-02-06 12:29:14  \n3803                 NaN 2024-02-06 12:29:14  ",
      "text/html": "<div>\n<style scoped>\n    .dataframe tbody tr th:only-of-type {\n        vertical-align: middle;\n    }\n\n    .dataframe tbody tr th {\n        vertical-align: top;\n    }\n\n    .dataframe thead th {\n        text-align: right;\n    }\n</style>\n<table border=\"1\" class=\"dataframe\">\n  <thead>\n    <tr style=\"text-align: right;\">\n      <th></th>\n      <th>timestamp</th>\n      <th>pupil_diameter</th>\n      <th>eyeball_center_lx</th>\n      <th>eyeball_center_ly</th>\n      <th>eyeball_center_lz</th>\n      <th>optical_axis_lx</th>\n      <th>optical_axis_ly</th>\n      <th>optical_axis_lz</th>\n      <th>gaze_x</th>\n      <th>gaze_y</th>\n      <th>azimuth</th>\n      <th>elevation</th>\n      <th>name</th>\n      <th>timestamp_data</th>\n    </tr>\n  </thead>\n  <tbody>\n    <tr>\n      <th>3802</th>\n      <td>1707240554055752000</td>\n      <td>NaN</td>\n      <td>NaN</td>\n      <td>NaN</td>\n      <td>NaN</td>\n      <td>NaN</td>\n      <td>NaN</td>\n      <td>NaN</td>\n      <td>NaN</td>\n      <td>NaN</td>\n      <td>NaN</td>\n      <td>NaN</td>\n      <td>right_screen.start</td>\n      <td>2024-02-06 12:29:14</td>\n    </tr>\n    <tr>\n      <th>3803</th>\n      <td>1707240554056864129</td>\n      <td>6.020391</td>\n      <td>-31.397358</td>\n      <td>15.432617</td>\n      <td>-38.729904</td>\n      <td>0.251825</td>\n      <td>0.03638</td>\n      <td>0.967089</td>\n      <td>970.994</td>\n      <td>570.496</td>\n      <td>10.656527</td>\n      <td>2.613362</td>\n      <td>NaN</td>\n      <td>2024-02-06 12:29:14</td>\n    </tr>\n  </tbody>\n</table>\n</div>"
     },
     "execution_count": 92,
     "metadata": {},
     "output_type": "execute_result"
    }
   ],
   "source": [
    "filtered_right.head(2)"
   ],
   "metadata": {
    "collapsed": false,
    "ExecuteTime": {
     "end_time": "2024-03-06T20:49:31.158421Z",
     "start_time": "2024-03-06T20:49:31.116655Z"
    }
   }
  },
  {
   "cell_type": "code",
   "execution_count": 93,
   "outputs": [],
   "source": [
    "filtered_right['name'] = filtered_right['name'].apply(lambda x: 'right screen' if pd.isna(x) else x)"
   ],
   "metadata": {
    "collapsed": false,
    "ExecuteTime": {
     "end_time": "2024-03-06T20:49:45.292580Z",
     "start_time": "2024-03-06T20:49:45.214704Z"
    }
   }
  },
  {
   "cell_type": "code",
   "execution_count": 94,
   "outputs": [
    {
     "data": {
      "text/plain": "                timestamp  pupil_diameter  eyeball_center_lx  \\\n3802  1707240554055752000             NaN                NaN   \n3803  1707240554056864129        6.020391         -31.397358   \n\n      eyeball_center_ly  eyeball_center_lz  optical_axis_lx  optical_axis_ly  \\\n3802                NaN                NaN              NaN              NaN   \n3803          15.432617         -38.729904         0.251825          0.03638   \n\n      optical_axis_lz   gaze_x   gaze_y    azimuth  elevation  \\\n3802              NaN      NaN      NaN        NaN        NaN   \n3803         0.967089  970.994  570.496  10.656527   2.613362   \n\n                    name      timestamp_data  \n3802  right_screen.start 2024-02-06 12:29:14  \n3803        right screen 2024-02-06 12:29:14  ",
      "text/html": "<div>\n<style scoped>\n    .dataframe tbody tr th:only-of-type {\n        vertical-align: middle;\n    }\n\n    .dataframe tbody tr th {\n        vertical-align: top;\n    }\n\n    .dataframe thead th {\n        text-align: right;\n    }\n</style>\n<table border=\"1\" class=\"dataframe\">\n  <thead>\n    <tr style=\"text-align: right;\">\n      <th></th>\n      <th>timestamp</th>\n      <th>pupil_diameter</th>\n      <th>eyeball_center_lx</th>\n      <th>eyeball_center_ly</th>\n      <th>eyeball_center_lz</th>\n      <th>optical_axis_lx</th>\n      <th>optical_axis_ly</th>\n      <th>optical_axis_lz</th>\n      <th>gaze_x</th>\n      <th>gaze_y</th>\n      <th>azimuth</th>\n      <th>elevation</th>\n      <th>name</th>\n      <th>timestamp_data</th>\n    </tr>\n  </thead>\n  <tbody>\n    <tr>\n      <th>3802</th>\n      <td>1707240554055752000</td>\n      <td>NaN</td>\n      <td>NaN</td>\n      <td>NaN</td>\n      <td>NaN</td>\n      <td>NaN</td>\n      <td>NaN</td>\n      <td>NaN</td>\n      <td>NaN</td>\n      <td>NaN</td>\n      <td>NaN</td>\n      <td>NaN</td>\n      <td>right_screen.start</td>\n      <td>2024-02-06 12:29:14</td>\n    </tr>\n    <tr>\n      <th>3803</th>\n      <td>1707240554056864129</td>\n      <td>6.020391</td>\n      <td>-31.397358</td>\n      <td>15.432617</td>\n      <td>-38.729904</td>\n      <td>0.251825</td>\n      <td>0.03638</td>\n      <td>0.967089</td>\n      <td>970.994</td>\n      <td>570.496</td>\n      <td>10.656527</td>\n      <td>2.613362</td>\n      <td>right screen</td>\n      <td>2024-02-06 12:29:14</td>\n    </tr>\n  </tbody>\n</table>\n</div>"
     },
     "execution_count": 94,
     "metadata": {},
     "output_type": "execute_result"
    }
   ],
   "source": [
    "filtered_right.head(2)"
   ],
   "metadata": {
    "collapsed": false,
    "ExecuteTime": {
     "end_time": "2024-03-06T20:49:49.479679Z",
     "start_time": "2024-03-06T20:49:49.441701Z"
    }
   }
  },
  {
   "cell_type": "code",
   "execution_count": 95,
   "outputs": [],
   "source": [
    "right_screen = filtered_right.dropna().reset_index(drop=True)"
   ],
   "metadata": {
    "collapsed": false,
    "ExecuteTime": {
     "end_time": "2024-03-06T20:50:07.240220Z",
     "start_time": "2024-03-06T20:50:07.187774Z"
    }
   }
  },
  {
   "cell_type": "code",
   "execution_count": 96,
   "outputs": [
    {
     "data": {
      "text/plain": "             timestamp  pupil_diameter  eyeball_center_lx  eyeball_center_ly  \\\n0  1707240554056864129        6.020391         -31.397358          15.432617   \n1  1707240554061864129        6.057449         -31.442722          15.366661   \n\n   eyeball_center_lz  optical_axis_lx  optical_axis_ly  optical_axis_lz  \\\n0         -38.729904         0.251825         0.036380         0.967089   \n1         -38.730469         0.257955         0.041898         0.965248   \n\n    gaze_x   gaze_y    azimuth  elevation          name      timestamp_data  \n0  970.994  570.496  10.656527   2.613362  right screen 2024-02-06 12:29:14  \n1  973.262  574.044  10.803142   2.382732  right screen 2024-02-06 12:29:14  ",
      "text/html": "<div>\n<style scoped>\n    .dataframe tbody tr th:only-of-type {\n        vertical-align: middle;\n    }\n\n    .dataframe tbody tr th {\n        vertical-align: top;\n    }\n\n    .dataframe thead th {\n        text-align: right;\n    }\n</style>\n<table border=\"1\" class=\"dataframe\">\n  <thead>\n    <tr style=\"text-align: right;\">\n      <th></th>\n      <th>timestamp</th>\n      <th>pupil_diameter</th>\n      <th>eyeball_center_lx</th>\n      <th>eyeball_center_ly</th>\n      <th>eyeball_center_lz</th>\n      <th>optical_axis_lx</th>\n      <th>optical_axis_ly</th>\n      <th>optical_axis_lz</th>\n      <th>gaze_x</th>\n      <th>gaze_y</th>\n      <th>azimuth</th>\n      <th>elevation</th>\n      <th>name</th>\n      <th>timestamp_data</th>\n    </tr>\n  </thead>\n  <tbody>\n    <tr>\n      <th>0</th>\n      <td>1707240554056864129</td>\n      <td>6.020391</td>\n      <td>-31.397358</td>\n      <td>15.432617</td>\n      <td>-38.729904</td>\n      <td>0.251825</td>\n      <td>0.036380</td>\n      <td>0.967089</td>\n      <td>970.994</td>\n      <td>570.496</td>\n      <td>10.656527</td>\n      <td>2.613362</td>\n      <td>right screen</td>\n      <td>2024-02-06 12:29:14</td>\n    </tr>\n    <tr>\n      <th>1</th>\n      <td>1707240554061864129</td>\n      <td>6.057449</td>\n      <td>-31.442722</td>\n      <td>15.366661</td>\n      <td>-38.730469</td>\n      <td>0.257955</td>\n      <td>0.041898</td>\n      <td>0.965248</td>\n      <td>973.262</td>\n      <td>574.044</td>\n      <td>10.803142</td>\n      <td>2.382732</td>\n      <td>right screen</td>\n      <td>2024-02-06 12:29:14</td>\n    </tr>\n  </tbody>\n</table>\n</div>"
     },
     "execution_count": 96,
     "metadata": {},
     "output_type": "execute_result"
    }
   ],
   "source": [
    "right_screen.head(2)"
   ],
   "metadata": {
    "collapsed": false,
    "ExecuteTime": {
     "end_time": "2024-03-06T20:50:13.704543Z",
     "start_time": "2024-03-06T20:50:13.660911Z"
    }
   }
  },
  {
   "cell_type": "code",
   "execution_count": 97,
   "outputs": [
    {
     "data": {
      "text/plain": "(250, 14)"
     },
     "execution_count": 97,
     "metadata": {},
     "output_type": "execute_result"
    }
   ],
   "source": [
    "right_screen.shape"
   ],
   "metadata": {
    "collapsed": false,
    "ExecuteTime": {
     "end_time": "2024-03-06T20:50:25.746167Z",
     "start_time": "2024-03-06T20:50:25.725333Z"
    }
   }
  },
  {
   "cell_type": "markdown",
   "source": [
    "## Other buttons"
   ],
   "metadata": {
    "collapsed": false
   }
  },
  {
   "cell_type": "code",
   "execution_count": 98,
   "outputs": [],
   "source": [
    "filtered_buttons_indexes = eye_states_gaze_events[(eye_states_gaze_events['name'] == 'other_buttons.start') |\n",
    "                                       (eye_states_gaze_events['name'] == 'other_buttons.end')].index"
   ],
   "metadata": {
    "collapsed": false,
    "ExecuteTime": {
     "end_time": "2024-03-06T20:51:15.460325Z",
     "start_time": "2024-03-06T20:51:15.428264Z"
    }
   }
  },
  {
   "cell_type": "code",
   "execution_count": 99,
   "outputs": [
    {
     "data": {
      "text/plain": "Index([3950, 4333, 4504, 4774, 5146, 5258, 6134, 9239], dtype='int64')"
     },
     "execution_count": 99,
     "metadata": {},
     "output_type": "execute_result"
    }
   ],
   "source": [
    "filtered_buttons_indexes"
   ],
   "metadata": {
    "collapsed": false,
    "ExecuteTime": {
     "end_time": "2024-03-06T20:51:19.759418Z",
     "start_time": "2024-03-06T20:51:19.738779Z"
    }
   }
  },
  {
   "cell_type": "code",
   "execution_count": 100,
   "outputs": [],
   "source": [
    "filtered_buttons = pd.DataFrame()\n",
    "for i in range(0, len(filtered_buttons_indexes), 2):\n",
    "    filtered_buttons = pd.concat([filtered_buttons, eye_states_gaze_events.loc[filtered_buttons_indexes[i]:filtered_buttons_indexes[i+1]]])"
   ],
   "metadata": {
    "collapsed": false,
    "ExecuteTime": {
     "end_time": "2024-03-06T20:51:51.424046Z",
     "start_time": "2024-03-06T20:51:51.383205Z"
    }
   }
  },
  {
   "cell_type": "code",
   "execution_count": 102,
   "outputs": [
    {
     "data": {
      "text/plain": "                timestamp  pupil_diameter  eyeball_center_lx  \\\n3950  1707240554889807000             NaN                NaN   \n3951  1707240554892744129        5.120378         -31.891327   \n\n      eyeball_center_ly  eyeball_center_lz  optical_axis_lx  optical_axis_ly  \\\n3950                NaN                NaN              NaN              NaN   \n3951          14.763153         -39.358105         0.082142          0.36802   \n\n      optical_axis_lz   gaze_x   gaze_y   azimuth  elevation  \\\n3950              NaN      NaN      NaN       NaN        NaN   \n3951         0.926182  778.918  869.787 -1.929059 -16.863153   \n\n                     name      timestamp_data  \n3950  other_buttons.start 2024-02-06 12:29:14  \n3951                  NaN 2024-02-06 12:29:14  ",
      "text/html": "<div>\n<style scoped>\n    .dataframe tbody tr th:only-of-type {\n        vertical-align: middle;\n    }\n\n    .dataframe tbody tr th {\n        vertical-align: top;\n    }\n\n    .dataframe thead th {\n        text-align: right;\n    }\n</style>\n<table border=\"1\" class=\"dataframe\">\n  <thead>\n    <tr style=\"text-align: right;\">\n      <th></th>\n      <th>timestamp</th>\n      <th>pupil_diameter</th>\n      <th>eyeball_center_lx</th>\n      <th>eyeball_center_ly</th>\n      <th>eyeball_center_lz</th>\n      <th>optical_axis_lx</th>\n      <th>optical_axis_ly</th>\n      <th>optical_axis_lz</th>\n      <th>gaze_x</th>\n      <th>gaze_y</th>\n      <th>azimuth</th>\n      <th>elevation</th>\n      <th>name</th>\n      <th>timestamp_data</th>\n    </tr>\n  </thead>\n  <tbody>\n    <tr>\n      <th>3950</th>\n      <td>1707240554889807000</td>\n      <td>NaN</td>\n      <td>NaN</td>\n      <td>NaN</td>\n      <td>NaN</td>\n      <td>NaN</td>\n      <td>NaN</td>\n      <td>NaN</td>\n      <td>NaN</td>\n      <td>NaN</td>\n      <td>NaN</td>\n      <td>NaN</td>\n      <td>other_buttons.start</td>\n      <td>2024-02-06 12:29:14</td>\n    </tr>\n    <tr>\n      <th>3951</th>\n      <td>1707240554892744129</td>\n      <td>5.120378</td>\n      <td>-31.891327</td>\n      <td>14.763153</td>\n      <td>-39.358105</td>\n      <td>0.082142</td>\n      <td>0.36802</td>\n      <td>0.926182</td>\n      <td>778.918</td>\n      <td>869.787</td>\n      <td>-1.929059</td>\n      <td>-16.863153</td>\n      <td>NaN</td>\n      <td>2024-02-06 12:29:14</td>\n    </tr>\n  </tbody>\n</table>\n</div>"
     },
     "execution_count": 102,
     "metadata": {},
     "output_type": "execute_result"
    }
   ],
   "source": [
    "filtered_buttons.head(2)"
   ],
   "metadata": {
    "collapsed": false,
    "ExecuteTime": {
     "end_time": "2024-03-06T20:52:01.425257Z",
     "start_time": "2024-03-06T20:52:01.417734Z"
    }
   }
  },
  {
   "cell_type": "code",
   "execution_count": 103,
   "outputs": [],
   "source": [
    "filtered_buttons['name'] = filtered_buttons['name'].apply(lambda x: 'other buttons' if pd.isna(x) else x)"
   ],
   "metadata": {
    "collapsed": false,
    "ExecuteTime": {
     "end_time": "2024-03-06T20:52:20.815485Z",
     "start_time": "2024-03-06T20:52:20.777546Z"
    }
   }
  },
  {
   "cell_type": "code",
   "execution_count": 104,
   "outputs": [
    {
     "data": {
      "text/plain": "                timestamp  pupil_diameter  eyeball_center_lx  \\\n3950  1707240554889807000             NaN                NaN   \n3951  1707240554892744129        5.120378         -31.891327   \n\n      eyeball_center_ly  eyeball_center_lz  optical_axis_lx  optical_axis_ly  \\\n3950                NaN                NaN              NaN              NaN   \n3951          14.763153         -39.358105         0.082142          0.36802   \n\n      optical_axis_lz   gaze_x   gaze_y   azimuth  elevation  \\\n3950              NaN      NaN      NaN       NaN        NaN   \n3951         0.926182  778.918  869.787 -1.929059 -16.863153   \n\n                     name      timestamp_data  \n3950  other_buttons.start 2024-02-06 12:29:14  \n3951        other buttons 2024-02-06 12:29:14  ",
      "text/html": "<div>\n<style scoped>\n    .dataframe tbody tr th:only-of-type {\n        vertical-align: middle;\n    }\n\n    .dataframe tbody tr th {\n        vertical-align: top;\n    }\n\n    .dataframe thead th {\n        text-align: right;\n    }\n</style>\n<table border=\"1\" class=\"dataframe\">\n  <thead>\n    <tr style=\"text-align: right;\">\n      <th></th>\n      <th>timestamp</th>\n      <th>pupil_diameter</th>\n      <th>eyeball_center_lx</th>\n      <th>eyeball_center_ly</th>\n      <th>eyeball_center_lz</th>\n      <th>optical_axis_lx</th>\n      <th>optical_axis_ly</th>\n      <th>optical_axis_lz</th>\n      <th>gaze_x</th>\n      <th>gaze_y</th>\n      <th>azimuth</th>\n      <th>elevation</th>\n      <th>name</th>\n      <th>timestamp_data</th>\n    </tr>\n  </thead>\n  <tbody>\n    <tr>\n      <th>3950</th>\n      <td>1707240554889807000</td>\n      <td>NaN</td>\n      <td>NaN</td>\n      <td>NaN</td>\n      <td>NaN</td>\n      <td>NaN</td>\n      <td>NaN</td>\n      <td>NaN</td>\n      <td>NaN</td>\n      <td>NaN</td>\n      <td>NaN</td>\n      <td>NaN</td>\n      <td>other_buttons.start</td>\n      <td>2024-02-06 12:29:14</td>\n    </tr>\n    <tr>\n      <th>3951</th>\n      <td>1707240554892744129</td>\n      <td>5.120378</td>\n      <td>-31.891327</td>\n      <td>14.763153</td>\n      <td>-39.358105</td>\n      <td>0.082142</td>\n      <td>0.36802</td>\n      <td>0.926182</td>\n      <td>778.918</td>\n      <td>869.787</td>\n      <td>-1.929059</td>\n      <td>-16.863153</td>\n      <td>other buttons</td>\n      <td>2024-02-06 12:29:14</td>\n    </tr>\n  </tbody>\n</table>\n</div>"
     },
     "execution_count": 104,
     "metadata": {},
     "output_type": "execute_result"
    }
   ],
   "source": [
    "filtered_buttons.head(2)"
   ],
   "metadata": {
    "collapsed": false,
    "ExecuteTime": {
     "end_time": "2024-03-06T20:52:30.426787Z",
     "start_time": "2024-03-06T20:52:30.374538Z"
    }
   }
  },
  {
   "cell_type": "code",
   "execution_count": 105,
   "outputs": [],
   "source": [
    "other_buttons = filtered_buttons.dropna().reset_index(drop=True)"
   ],
   "metadata": {
    "collapsed": false,
    "ExecuteTime": {
     "end_time": "2024-03-06T20:52:45.553881Z",
     "start_time": "2024-03-06T20:52:45.494960Z"
    }
   }
  },
  {
   "cell_type": "code",
   "execution_count": 106,
   "outputs": [
    {
     "data": {
      "text/plain": "             timestamp  pupil_diameter  eyeball_center_lx  eyeball_center_ly  \\\n0  1707240554892744129        5.120378         -31.891327          14.763153   \n1  1707240554897629129        5.122826         -31.889763          14.767155   \n\n   eyeball_center_lz  optical_axis_lx  optical_axis_ly  optical_axis_lz  \\\n0         -39.358105         0.082142         0.368020         0.926182   \n1         -39.371407         0.081313         0.368007         0.926261   \n\n    gaze_x   gaze_y   azimuth  elevation           name      timestamp_data  \n0  778.918  869.787 -1.929059 -16.863153  other buttons 2024-02-06 12:29:14  \n1  779.021  868.544 -1.921718 -16.782706  other buttons 2024-02-06 12:29:14  ",
      "text/html": "<div>\n<style scoped>\n    .dataframe tbody tr th:only-of-type {\n        vertical-align: middle;\n    }\n\n    .dataframe tbody tr th {\n        vertical-align: top;\n    }\n\n    .dataframe thead th {\n        text-align: right;\n    }\n</style>\n<table border=\"1\" class=\"dataframe\">\n  <thead>\n    <tr style=\"text-align: right;\">\n      <th></th>\n      <th>timestamp</th>\n      <th>pupil_diameter</th>\n      <th>eyeball_center_lx</th>\n      <th>eyeball_center_ly</th>\n      <th>eyeball_center_lz</th>\n      <th>optical_axis_lx</th>\n      <th>optical_axis_ly</th>\n      <th>optical_axis_lz</th>\n      <th>gaze_x</th>\n      <th>gaze_y</th>\n      <th>azimuth</th>\n      <th>elevation</th>\n      <th>name</th>\n      <th>timestamp_data</th>\n    </tr>\n  </thead>\n  <tbody>\n    <tr>\n      <th>0</th>\n      <td>1707240554892744129</td>\n      <td>5.120378</td>\n      <td>-31.891327</td>\n      <td>14.763153</td>\n      <td>-39.358105</td>\n      <td>0.082142</td>\n      <td>0.368020</td>\n      <td>0.926182</td>\n      <td>778.918</td>\n      <td>869.787</td>\n      <td>-1.929059</td>\n      <td>-16.863153</td>\n      <td>other buttons</td>\n      <td>2024-02-06 12:29:14</td>\n    </tr>\n    <tr>\n      <th>1</th>\n      <td>1707240554897629129</td>\n      <td>5.122826</td>\n      <td>-31.889763</td>\n      <td>14.767155</td>\n      <td>-39.371407</td>\n      <td>0.081313</td>\n      <td>0.368007</td>\n      <td>0.926261</td>\n      <td>779.021</td>\n      <td>868.544</td>\n      <td>-1.921718</td>\n      <td>-16.782706</td>\n      <td>other buttons</td>\n      <td>2024-02-06 12:29:14</td>\n    </tr>\n  </tbody>\n</table>\n</div>"
     },
     "execution_count": 106,
     "metadata": {},
     "output_type": "execute_result"
    }
   ],
   "source": [
    "other_buttons.head(2)"
   ],
   "metadata": {
    "collapsed": false,
    "ExecuteTime": {
     "end_time": "2024-03-06T20:52:52.518933Z",
     "start_time": "2024-03-06T20:52:52.449771Z"
    }
   }
  },
  {
   "cell_type": "code",
   "execution_count": 107,
   "outputs": [
    {
     "data": {
      "text/plain": "(3866, 14)"
     },
     "execution_count": 107,
     "metadata": {},
     "output_type": "execute_result"
    }
   ],
   "source": [
    "other_buttons.shape"
   ],
   "metadata": {
    "collapsed": false,
    "ExecuteTime": {
     "end_time": "2024-03-06T20:53:02.166433Z",
     "start_time": "2024-03-06T20:53:02.122186Z"
    }
   }
  },
  {
   "cell_type": "markdown",
   "source": [
    "# Select data for ML"
   ],
   "metadata": {
    "collapsed": false
   }
  },
  {
   "cell_type": "code",
   "execution_count": 108,
   "outputs": [],
   "source": [
    "labeled_data = pd.concat([navigation_parameters, main_screen, right_screen, other_buttons], axis=0)"
   ],
   "metadata": {
    "collapsed": false,
    "ExecuteTime": {
     "end_time": "2024-03-06T20:54:42.310977Z",
     "start_time": "2024-03-06T20:54:42.243282Z"
    }
   }
  },
  {
   "cell_type": "code",
   "execution_count": 109,
   "outputs": [
    {
     "data": {
      "text/plain": "(9627, 14)"
     },
     "execution_count": 109,
     "metadata": {},
     "output_type": "execute_result"
    }
   ],
   "source": [
    "labeled_data.shape"
   ],
   "metadata": {
    "collapsed": false,
    "ExecuteTime": {
     "end_time": "2024-03-06T20:54:46.904969Z",
     "start_time": "2024-03-06T20:54:46.867726Z"
    }
   }
  },
  {
   "cell_type": "code",
   "execution_count": 110,
   "outputs": [
    {
     "data": {
      "text/plain": "             timestamp  pupil_diameter  eyeball_center_lx  eyeball_center_ly  \\\n0  1707240561313651129        4.480158         -31.848492          15.027313   \n1  1707240561318651129        4.461890         -31.740986          14.920807   \n\n   eyeball_center_lz  optical_axis_lx  optical_axis_ly  optical_axis_lz  \\\n0         -40.767693        -0.131422         0.188677         0.973206   \n1         -40.577309        -0.146993         0.199509         0.968808   \n\n    gaze_x   gaze_y    azimuth  elevation                   name  \\\n0  620.994  724.002 -12.227112  -7.322114  navigation parameters   \n1  604.379  721.965 -13.307777  -7.178110  navigation parameters   \n\n       timestamp_data  \n0 2024-02-06 12:29:21  \n1 2024-02-06 12:29:21  ",
      "text/html": "<div>\n<style scoped>\n    .dataframe tbody tr th:only-of-type {\n        vertical-align: middle;\n    }\n\n    .dataframe tbody tr th {\n        vertical-align: top;\n    }\n\n    .dataframe thead th {\n        text-align: right;\n    }\n</style>\n<table border=\"1\" class=\"dataframe\">\n  <thead>\n    <tr style=\"text-align: right;\">\n      <th></th>\n      <th>timestamp</th>\n      <th>pupil_diameter</th>\n      <th>eyeball_center_lx</th>\n      <th>eyeball_center_ly</th>\n      <th>eyeball_center_lz</th>\n      <th>optical_axis_lx</th>\n      <th>optical_axis_ly</th>\n      <th>optical_axis_lz</th>\n      <th>gaze_x</th>\n      <th>gaze_y</th>\n      <th>azimuth</th>\n      <th>elevation</th>\n      <th>name</th>\n      <th>timestamp_data</th>\n    </tr>\n  </thead>\n  <tbody>\n    <tr>\n      <th>0</th>\n      <td>1707240561313651129</td>\n      <td>4.480158</td>\n      <td>-31.848492</td>\n      <td>15.027313</td>\n      <td>-40.767693</td>\n      <td>-0.131422</td>\n      <td>0.188677</td>\n      <td>0.973206</td>\n      <td>620.994</td>\n      <td>724.002</td>\n      <td>-12.227112</td>\n      <td>-7.322114</td>\n      <td>navigation parameters</td>\n      <td>2024-02-06 12:29:21</td>\n    </tr>\n    <tr>\n      <th>1</th>\n      <td>1707240561318651129</td>\n      <td>4.461890</td>\n      <td>-31.740986</td>\n      <td>14.920807</td>\n      <td>-40.577309</td>\n      <td>-0.146993</td>\n      <td>0.199509</td>\n      <td>0.968808</td>\n      <td>604.379</td>\n      <td>721.965</td>\n      <td>-13.307777</td>\n      <td>-7.178110</td>\n      <td>navigation parameters</td>\n      <td>2024-02-06 12:29:21</td>\n    </tr>\n  </tbody>\n</table>\n</div>"
     },
     "execution_count": 110,
     "metadata": {},
     "output_type": "execute_result"
    }
   ],
   "source": [
    "labeled_data.head(2)"
   ],
   "metadata": {
    "collapsed": false,
    "ExecuteTime": {
     "end_time": "2024-03-06T20:54:59.493084Z",
     "start_time": "2024-03-06T20:54:59.452465Z"
    }
   }
  },
  {
   "cell_type": "code",
   "execution_count": 111,
   "outputs": [
    {
     "data": {
      "text/plain": "Index(['timestamp', 'pupil_diameter', 'eyeball_center_lx', 'eyeball_center_ly',\n       'eyeball_center_lz', 'optical_axis_lx', 'optical_axis_ly',\n       'optical_axis_lz', 'gaze_x', 'gaze_y', 'azimuth', 'elevation', 'name',\n       'timestamp_data'],\n      dtype='object')"
     },
     "execution_count": 111,
     "metadata": {},
     "output_type": "execute_result"
    }
   ],
   "source": [
    "labeled_data.columns"
   ],
   "metadata": {
    "collapsed": false,
    "ExecuteTime": {
     "end_time": "2024-03-06T20:55:11.917535Z",
     "start_time": "2024-03-06T20:55:11.871296Z"
    }
   }
  },
  {
   "cell_type": "code",
   "execution_count": 114,
   "outputs": [],
   "source": [
    "X_to_corr = labeled_data[['pupil_diameter', 'eyeball_center_lx', 'eyeball_center_ly', 'eyeball_center_lz', 'azimuth',  'elevation']]"
   ],
   "metadata": {
    "collapsed": false,
    "ExecuteTime": {
     "end_time": "2024-03-06T20:56:15.997213Z",
     "start_time": "2024-03-06T20:56:15.979232Z"
    }
   }
  },
  {
   "cell_type": "code",
   "execution_count": 115,
   "outputs": [
    {
     "data": {
      "text/plain": "<Figure size 640x480 with 2 Axes>",
      "image/png": "[encoded data removed]"
     },
     "metadata": {},
     "output_type": "display_data"
    }
   ],
   "source": [
    "dataplot = sb.heatmap(X_to_corr.corr(), cmap=\"YlGnBu\", annot=True, vmin=-1, vmax=1)"
   ],
   "metadata": {
    "collapsed": false,
    "ExecuteTime": {
     "end_time": "2024-03-06T20:56:16.669464Z",
     "start_time": "2024-03-06T20:56:16.454767Z"
    }
   }
  },
  {
   "cell_type": "code",
   "execution_count": 118,
   "outputs": [],
   "source": [
    "X = X_to_corr.values"
   ],
   "metadata": {
    "collapsed": false,
    "ExecuteTime": {
     "end_time": "2024-03-06T20:57:01.312243Z",
     "start_time": "2024-03-06T20:57:01.281541Z"
    }
   }
  },
  {
   "cell_type": "code",
   "execution_count": 119,
   "outputs": [
    {
     "data": {
      "text/plain": "array([[  4.48015785, -31.84849167,  15.02731323, -40.76769257,\n        -12.22711175,  -7.32211426],\n       [  4.46189022, -31.74098587,  14.92080688, -40.57730865,\n        -13.30777659,  -7.17811047],\n       [  4.472579  , -31.88853455,  14.87945938, -40.6368866 ,\n        -13.10721868,  -7.24131869],\n       ...,\n       [  6.2565136 , -31.27894592,  15.84399796, -38.51879883,\n          9.84390538,  -1.07743903],\n       [  6.27273893, -31.31751251,  15.89839935, -38.57975388,\n          9.72961912,  -0.98293251],\n       [  6.28641796, -31.3586998 ,  15.82260895, -38.57206726,\n          9.60025919,  -0.83208713]])"
     },
     "execution_count": 119,
     "metadata": {},
     "output_type": "execute_result"
    }
   ],
   "source": [
    "X"
   ],
   "metadata": {
    "collapsed": false,
    "ExecuteTime": {
     "end_time": "2024-03-06T20:57:01.640726Z",
     "start_time": "2024-03-06T20:57:01.597509Z"
    }
   }
  },
  {
   "cell_type": "code",
   "execution_count": 121,
   "outputs": [],
   "source": [
    "y = labeled_data['name'].values"
   ],
   "metadata": {
    "collapsed": false,
    "ExecuteTime": {
     "end_time": "2024-03-06T20:57:19.175706Z",
     "start_time": "2024-03-06T20:57:19.164689Z"
    }
   }
  },
  {
   "cell_type": "code",
   "execution_count": 122,
   "outputs": [
    {
     "data": {
      "text/plain": "array(['navigation parameters', 'navigation parameters',\n       'navigation parameters', ..., 'other buttons', 'other buttons',\n       'other buttons'], dtype=object)"
     },
     "execution_count": 122,
     "metadata": {},
     "output_type": "execute_result"
    }
   ],
   "source": [
    "y"
   ],
   "metadata": {
    "collapsed": false,
    "ExecuteTime": {
     "end_time": "2024-03-06T20:57:22.206747Z",
     "start_time": "2024-03-06T20:57:22.168656Z"
    }
   }
  },
  {
   "cell_type": "markdown",
   "source": [
    "# Preprocessing"
   ],
   "metadata": {
    "collapsed": false
   }
  },
  {
   "cell_type": "code",
   "execution_count": 123,
   "outputs": [],
   "source": [
    "X_train, X_test, y_train, y_test = train_test_split(X, y, test_size=0.2)"
   ],
   "metadata": {
    "collapsed": false,
    "ExecuteTime": {
     "end_time": "2024-03-06T20:57:46.312403Z",
     "start_time": "2024-03-06T20:57:46.266340Z"
    }
   }
  },
  {
   "cell_type": "code",
   "execution_count": 124,
   "outputs": [],
   "source": [
    "sc = StandardScaler()"
   ],
   "metadata": {
    "collapsed": false,
    "ExecuteTime": {
     "end_time": "2024-03-06T20:57:50.426019Z",
     "start_time": "2024-03-06T20:57:50.386704Z"
    }
   }
  },
  {
   "cell_type": "code",
   "execution_count": 125,
   "outputs": [],
   "source": [
    "X_train[:, :] = sc.fit_transform(X_train[:, :])\n",
    "X_test[:, :] = sc.transform(X_test[:, :])"
   ],
   "metadata": {
    "collapsed": false,
    "ExecuteTime": {
     "end_time": "2024-03-06T20:57:54.822870Z",
     "start_time": "2024-03-06T20:57:54.781589Z"
    }
   }
  },
  {
   "cell_type": "code",
   "execution_count": 126,
   "outputs": [
    {
     "data": {
      "text/plain": "array([[ 0.31143747,  0.28351641,  0.9557086 ,  0.33430509, -0.33957395,\n         0.74745278],\n       [-0.12423383, -1.91338631, -0.70794984, -0.05321743, -0.13863332,\n        -1.02354078],\n       [-1.42922811, -1.49690879,  0.27556501, -0.58013363, -0.39515476,\n         1.1453059 ],\n       ...,\n       [-0.14651871,  1.96576168,  0.42357425,  0.8913435 , -0.25474965,\n        -1.53627404],\n       [-0.70132285, -1.13955855, -0.80492502, -0.1829203 ,  0.27111801,\n        -1.24693214],\n       [-0.70308079, -0.08454591, -0.19051003,  1.1533301 ,  1.20108822,\n        -0.58872576]])"
     },
     "execution_count": 126,
     "metadata": {},
     "output_type": "execute_result"
    }
   ],
   "source": [
    "X_train"
   ],
   "metadata": {
    "collapsed": false,
    "ExecuteTime": {
     "end_time": "2024-03-06T20:58:00.392267Z",
     "start_time": "2024-03-06T20:58:00.297121Z"
    }
   }
  },
  {
   "cell_type": "markdown",
   "source": [
    "## K-nearest neighbors classifier"
   ],
   "metadata": {
    "collapsed": false
   }
  },
  {
   "cell_type": "code",
   "execution_count": 127,
   "outputs": [
    {
     "data": {
      "text/plain": "KNeighborsClassifier()",
      "text/html": "<style>#sk-container-id-1 {\n  /* Definition of color scheme common for light and dark mode */\n  --sklearn-color-text: black;\n  --sklearn-color-line: gray;\n  /* Definition of color scheme for unfitted estimators */\n  --sklearn-color-unfitted-level-0: #fff5e6;\n  --sklearn-color-unfitted-level-1: #f6e4d2;\n  --sklearn-color-unfitted-level-2: #ffe0b3;\n  --sklearn-color-unfitted-level-3: chocolate;\n  /* Definition of color scheme for fitted estimators */\n  --sklearn-color-fitted-level-0: #f0f8ff;\n  --sklearn-color-fitted-level-1: #d4ebff;\n  --sklearn-color-fitted-level-2: #b3dbfd;\n  --sklearn-color-fitted-level-3: cornflowerblue;\n\n  /* Specific color for light theme */\n  --sklearn-color-text-on-default-background: var(--sg-text-color, var(--theme-code-foreground, var(--jp-content-font-color1, black)));\n  --sklearn-color-background: var(--sg-background-color, var(--theme-background, var(--jp-layout-color0, white)));\n  --sklearn-color-border-box: var(--sg-text-color, var(--theme-code-foreground, var(--jp-content-font-color1, black)));\n  --sklearn-color-icon: #696969;\n\n  @media (prefers-color-scheme: dark) {\n    /* Redefinition of color scheme for dark theme */\n    --sklearn-color-text-on-default-background: var(--sg-text-color, var(--theme-code-foreground, var(--jp-content-font-color1, white)));\n    --sklearn-color-background: var(--sg-background-color, var(--theme-background, var(--jp-layout-color0, #111)));\n    --sklearn-color-border-box: var(--sg-text-color, var(--theme-code-foreground, var(--jp-content-font-color1, white)));\n    --sklearn-color-icon: #878787;\n  }\n}\n\n#sk-container-id-1 {\n  color: var(--sklearn-color-text);\n}\n\n#sk-container-id-1 pre {\n  padding: 0;\n}\n\n#sk-container-id-1 input.sk-hidden--visually {\n  border: 0;\n  clip: rect(1px 1px 1px 1px);\n  clip: rect(1px, 1px, 1px, 1px);\n  height: 1px;\n  margin: -1px;\n  overflow: hidden;\n  padding: 0;\n  position: absolute;\n  width: 1px;\n}\n\n#sk-container-id-1 div.sk-dashed-wrapped {\n  border: 1px dashed var(--sklearn-color-line);\n  margin: 0 0.4em 0.5em 0.4em;\n  box-sizing: border-box;\n  padding-bottom: 0.4em;\n  background-color: var(--sklearn-color-background);\n}\n\n#sk-container-id-1 div.sk-container {\n  /* jupyter's `normalize.less` sets `[hidden] { display: none; }`\n     but bootstrap.min.css set `[hidden] { display: none !important; }`\n     so we also need the `!important` here to be able to override the\n     default hidden behavior on the sphinx rendered scikit-learn.org.\n     See: https://github.com/scikit-learn/scikit-learn/issues/21755 */\n  display: inline-block !important;\n  position: relative;\n}\n\n#sk-container-id-1 div.sk-text-repr-fallback {\n  display: none;\n}\n\ndiv.sk-parallel-item,\ndiv.sk-serial,\ndiv.sk-item {\n  /* draw centered vertical line to link estimators */\n  background-image: linear-gradient(var(--sklearn-color-text-on-default-background), var(--sklearn-color-text-on-default-background));\n  background-size: 2px 100%;\n  background-repeat: no-repeat;\n  background-position: center center;\n}\n\n/* Parallel-specific style estimator block */\n\n#sk-container-id-1 div.sk-parallel-item::after {\n  content: \"\";\n  width: 100%;\n  border-bottom: 2px solid var(--sklearn-color-text-on-default-background);\n  flex-grow: 1;\n}\n\n#sk-container-id-1 div.sk-parallel {\n  display: flex;\n  align-items: stretch;\n  justify-content: center;\n  background-color: var(--sklearn-color-background);\n  position: relative;\n}\n\n#sk-container-id-1 div.sk-parallel-item {\n  display: flex;\n  flex-direction: column;\n}\n\n#sk-container-id-1 div.sk-parallel-item:first-child::after {\n  align-self: flex-end;\n  width: 50%;\n}\n\n#sk-container-id-1 div.sk-parallel-item:last-child::after {\n  align-self: flex-start;\n  width: 50%;\n}\n\n#sk-container-id-1 div.sk-parallel-item:only-child::after {\n  width: 0;\n}\n\n/* Serial-specific style estimator block */\n\n#sk-container-id-1 div.sk-serial {\n  display: flex;\n  flex-direction: column;\n  align-items: center;\n  background-color: var(--sklearn-color-background);\n  padding-right: 1em;\n  padding-left: 1em;\n}\n\n\n/* Toggleable style: style used for estimator/Pipeline/ColumnTransformer box that is\nclickable and can be expanded/collapsed.\n- Pipeline and ColumnTransformer use this feature and define the default style\n- Estimators will overwrite some part of the style using the `sk-estimator` class\n*/\n\n/* Pipeline and ColumnTransformer style (default) */\n\n#sk-container-id-1 div.sk-toggleable {\n  /* Default theme specific background. It is overwritten whether we have a\n  specific estimator or a Pipeline/ColumnTransformer */\n  background-color: var(--sklearn-color-background);\n}\n\n/* Toggleable label */\n#sk-container-id-1 label.sk-toggleable__label {\n  cursor: pointer;\n  display: block;\n  width: 100%;\n  margin-bottom: 0;\n  padding: 0.5em;\n  box-sizing: border-box;\n  text-align: center;\n}\n\n#sk-container-id-1 label.sk-toggleable__label-arrow:before {\n  /* Arrow on the left of the label */\n  content: \"▸\";\n  float: left;\n  margin-right: 0.25em;\n  color: var(--sklearn-color-icon);\n}\n\n#sk-container-id-1 label.sk-toggleable__label-arrow:hover:before {\n  color: var(--sklearn-color-text);\n}\n\n/* Toggleable content - dropdown */\n\n#sk-container-id-1 div.sk-toggleable__content {\n  max-height: 0;\n  max-width: 0;\n  overflow: hidden;\n  text-align: left;\n  /* unfitted */\n  background-color: var(--sklearn-color-unfitted-level-0);\n}\n\n#sk-container-id-1 div.sk-toggleable__content.fitted {\n  /* fitted */\n  background-color: var(--sklearn-color-fitted-level-0);\n}\n\n#sk-container-id-1 div.sk-toggleable__content pre {\n  margin: 0.2em;\n  border-radius: 0.25em;\n  color: var(--sklearn-color-text);\n  /* unfitted */\n  background-color: var(--sklearn-color-unfitted-level-0);\n}\n\n#sk-container-id-1 div.sk-toggleable__content.fitted pre {\n  /* unfitted */\n  background-color: var(--sklearn-color-fitted-level-0);\n}\n\n#sk-container-id-1 input.sk-toggleable__control:checked~div.sk-toggleable__content {\n  /* Expand drop-down */\n  max-height: 200px;\n  max-width: 100%;\n  overflow: auto;\n}\n\n#sk-container-id-1 input.sk-toggleable__control:checked~label.sk-toggleable__label-arrow:before {\n  content: \"▾\";\n}\n\n/* Pipeline/ColumnTransformer-specific style */\n\n#sk-container-id-1 div.sk-label input.sk-toggleable__control:checked~label.sk-toggleable__label {\n  color: var(--sklearn-color-text);\n  background-color: var(--sklearn-color-unfitted-level-2);\n}\n\n#sk-container-id-1 div.sk-label.fitted input.sk-toggleable__control:checked~label.sk-toggleable__label {\n  background-color: var(--sklearn-color-fitted-level-2);\n}\n\n/* Estimator-specific style */\n\n/* Colorize estimator box */\n#sk-container-id-1 div.sk-estimator input.sk-toggleable__control:checked~label.sk-toggleable__label {\n  /* unfitted */\n  background-color: var(--sklearn-color-unfitted-level-2);\n}\n\n#sk-container-id-1 div.sk-estimator.fitted input.sk-toggleable__control:checked~label.sk-toggleable__label {\n  /* fitted */\n  background-color: var(--sklearn-color-fitted-level-2);\n}\n\n#sk-container-id-1 div.sk-label label.sk-toggleable__label,\n#sk-container-id-1 div.sk-label label {\n  /* The background is the default theme color */\n  color: var(--sklearn-color-text-on-default-background);\n}\n\n/* On hover, darken the color of the background */\n#sk-container-id-1 div.sk-label:hover label.sk-toggleable__label {\n  color: var(--sklearn-color-text);\n  background-color: var(--sklearn-color-unfitted-level-2);\n}\n\n/* Label box, darken color on hover, fitted */\n#sk-container-id-1 div.sk-label.fitted:hover label.sk-toggleable__label.fitted {\n  color: var(--sklearn-color-text);\n  background-color: var(--sklearn-color-fitted-level-2);\n}\n\n/* Estimator label */\n\n#sk-container-id-1 div.sk-label label {\n  font-family: monospace;\n  font-weight: bold;\n  display: inline-block;\n  line-height: 1.2em;\n}\n\n#sk-container-id-1 div.sk-label-container {\n  text-align: center;\n}\n\n/* Estimator-specific */\n#sk-container-id-1 div.sk-estimator {\n  font-family: monospace;\n  border: 1px dotted var(--sklearn-color-border-box);\n  border-radius: 0.25em;\n  box-sizing: border-box;\n  margin-bottom: 0.5em;\n  /* unfitted */\n  background-color: var(--sklearn-color-unfitted-level-0);\n}\n\n#sk-container-id-1 div.sk-estimator.fitted {\n  /* fitted */\n  background-color: var(--sklearn-color-fitted-level-0);\n}\n\n/* on hover */\n#sk-container-id-1 div.sk-estimator:hover {\n  /* unfitted */\n  background-color: var(--sklearn-color-unfitted-level-2);\n}\n\n#sk-container-id-1 div.sk-estimator.fitted:hover {\n  /* fitted */\n  background-color: var(--sklearn-color-fitted-level-2);\n}\n\n/* Specification for estimator info (e.g. \"i\" and \"?\") */\n\n/* Common style for \"i\" and \"?\" */\n\n.sk-estimator-doc-link,\na:link.sk-estimator-doc-link,\na:visited.sk-estimator-doc-link {\n  float: right;\n  font-size: smaller;\n  line-height: 1em;\n  font-family: monospace;\n  background-color: var(--sklearn-color-background);\n  border-radius: 1em;\n  height: 1em;\n  width: 1em;\n  text-decoration: none !important;\n  margin-left: 1ex;\n  /* unfitted */\n  border: var(--sklearn-color-unfitted-level-1) 1pt solid;\n  color: var(--sklearn-color-unfitted-level-1);\n}\n\n.sk-estimator-doc-link.fitted,\na:link.sk-estimator-doc-link.fitted,\na:visited.sk-estimator-doc-link.fitted {\n  /* fitted */\n  border: var(--sklearn-color-fitted-level-1) 1pt solid;\n  color: var(--sklearn-color-fitted-level-1);\n}\n\n/* On hover */\ndiv.sk-estimator:hover .sk-estimator-doc-link:hover,\n.sk-estimator-doc-link:hover,\ndiv.sk-label-container:hover .sk-estimator-doc-link:hover,\n.sk-estimator-doc-link:hover {\n  /* unfitted */\n  background-color: var(--sklearn-color-unfitted-level-3);\n  color: var(--sklearn-color-background);\n  text-decoration: none;\n}\n\ndiv.sk-estimator.fitted:hover .sk-estimator-doc-link.fitted:hover,\n.sk-estimator-doc-link.fitted:hover,\ndiv.sk-label-container:hover .sk-estimator-doc-link.fitted:hover,\n.sk-estimator-doc-link.fitted:hover {\n  /* fitted */\n  background-color: var(--sklearn-color-fitted-level-3);\n  color: var(--sklearn-color-background);\n  text-decoration: none;\n}\n\n/* Span, style for the box shown on hovering the info icon */\n.sk-estimator-doc-link span {\n  display: none;\n  z-index: 9999;\n  position: relative;\n  font-weight: normal;\n  right: .2ex;\n  padding: .5ex;\n  margin: .5ex;\n  width: min-content;\n  min-width: 20ex;\n  max-width: 50ex;\n  color: var(--sklearn-color-text);\n  box-shadow: 2pt 2pt 4pt #999;\n  /* unfitted */\n  background: var(--sklearn-color-unfitted-level-0);\n  border: .5pt solid var(--sklearn-color-unfitted-level-3);\n}\n\n.sk-estimator-doc-link.fitted span {\n  /* fitted */\n  background: var(--sklearn-color-fitted-level-0);\n  border: var(--sklearn-color-fitted-level-3);\n}\n\n.sk-estimator-doc-link:hover span {\n  display: block;\n}\n\n/* \"?\"-specific style due to the `<a>` HTML tag */\n\n#sk-container-id-1 a.estimator_doc_link {\n  float: right;\n  font-size: 1rem;\n  line-height: 1em;\n  font-family: monospace;\n  background-color: var(--sklearn-color-background);\n  border-radius: 1rem;\n  height: 1rem;\n  width: 1rem;\n  text-decoration: none;\n  /* unfitted */\n  color: var(--sklearn-color-unfitted-level-1);\n  border: var(--sklearn-color-unfitted-level-1) 1pt solid;\n}\n\n#sk-container-id-1 a.estimator_doc_link.fitted {\n  /* fitted */\n  border: var(--sklearn-color-fitted-level-1) 1pt solid;\n  color: var(--sklearn-color-fitted-level-1);\n}\n\n/* On hover */\n#sk-container-id-1 a.estimator_doc_link:hover {\n  /* unfitted */\n  background-color: var(--sklearn-color-unfitted-level-3);\n  color: var(--sklearn-color-background);\n  text-decoration: none;\n}\n\n#sk-container-id-1 a.estimator_doc_link.fitted:hover {\n  /* fitted */\n  background-color: var(--sklearn-color-fitted-level-3);\n}\n</style><div id=\"sk-container-id-1\" class=\"sk-top-container\"><div class=\"sk-text-repr-fallback\"><pre>KNeighborsClassifier()</pre><b>In a Jupyter environment, please rerun this cell to show the HTML representation or trust the notebook. <br />On GitHub, the HTML representation is unable to render, please try loading this page with nbviewer.org.</b></div><div class=\"sk-container\" hidden><div class=\"sk-item\"><div class=\"sk-estimator fitted sk-toggleable\"><input class=\"sk-toggleable__control sk-hidden--visually\" id=\"sk-estimator-id-1\" type=\"checkbox\" checked><label for=\"sk-estimator-id-1\" class=\"sk-toggleable__label fitted sk-toggleable__label-arrow fitted\">&nbsp;&nbsp;KNeighborsClassifier<a class=\"sk-estimator-doc-link fitted\" rel=\"noreferrer\" target=\"_blank\" href=\"https://scikit-learn.org/1.4/modules/generated/sklearn.neighbors.KNeighborsClassifier.html\">?<span>Documentation for KNeighborsClassifier</span></a><span class=\"sk-estimator-doc-link fitted\">i<span>Fitted</span></span></label><div class=\"sk-toggleable__content fitted\"><pre>KNeighborsClassifier()</pre></div> </div></div></div></div>"
     },
     "execution_count": 127,
     "metadata": {},
     "output_type": "execute_result"
    }
   ],
   "source": [
    "classifier = KNeighborsClassifier(n_neighbors=5, metric='minkowski', p=2)\n",
    "classifier.fit(X_train, y_train)"
   ],
   "metadata": {
    "collapsed": false,
    "ExecuteTime": {
     "end_time": "2024-03-06T20:58:40.146937Z",
     "start_time": "2024-03-06T20:58:40.064007Z"
    }
   }
  },
  {
   "cell_type": "code",
   "execution_count": 128,
   "outputs": [
    {
     "name": "stdout",
     "output_type": "stream",
     "text": [
      "[['navigation parameters' 'main screen']\n",
      " ['navigation parameters' 'navigation parameters']\n",
      " ['other buttons' 'other buttons']\n",
      " ...\n",
      " ['other buttons' 'other buttons']\n",
      " ['navigation parameters' 'navigation parameters']\n",
      " ['other buttons' 'other buttons']]\n"
     ]
    }
   ],
   "source": [
    "y_pred = classifier.predict(X_test)\n",
    "print(np.concatenate((y_pred.reshape(len(y_pred), 1), y_test.reshape(len(y_test), 1)), 1))"
   ],
   "metadata": {
    "collapsed": false,
    "ExecuteTime": {
     "end_time": "2024-03-06T20:58:47.015175Z",
     "start_time": "2024-03-06T20:58:46.933064Z"
    }
   }
  },
  {
   "cell_type": "code",
   "execution_count": 129,
   "outputs": [
    {
     "data": {
      "text/plain": "array([[101,   4,   1,   0],\n       [  2, 948,   2,   0],\n       [  1,   0, 815,   2],\n       [  1,   5,   0,  44]])"
     },
     "execution_count": 129,
     "metadata": {},
     "output_type": "execute_result"
    }
   ],
   "source": [
    "confusion_matrix(y_test, y_pred)"
   ],
   "metadata": {
    "collapsed": false,
    "ExecuteTime": {
     "end_time": "2024-03-06T20:59:00.614653Z",
     "start_time": "2024-03-06T20:59:00.504644Z"
    }
   }
  },
  {
   "cell_type": "code",
   "execution_count": 130,
   "outputs": [
    {
     "data": {
      "text/plain": "0.9906542056074766"
     },
     "execution_count": 130,
     "metadata": {},
     "output_type": "execute_result"
    }
   ],
   "source": [
    "accuracy_score(y_test, y_pred)"
   ],
   "metadata": {
    "collapsed": false,
    "ExecuteTime": {
     "end_time": "2024-03-06T20:59:13.110129Z",
     "start_time": "2024-03-06T20:59:13.022490Z"
    }
   }
  },
  {
   "cell_type": "code",
   "execution_count": null,
   "outputs": [],
   "source": [],
   "metadata": {
    "collapsed": false
   }
  }
 ],
 "metadata": {
  "kernelspec": {
   "display_name": "Python 3",
   "language": "python",
   "name": "python3"
  },
  "language_info": {
   "codemirror_mode": {
    "name": "ipython",
    "version": 2
   },
   "file_extension": ".py",
   "mimetype": "text/x-python",
   "name": "python",
   "nbconvert_exporter": "python",
   "pygments_lexer": "ipython2",
   "version": "2.7.6"
  }
 },
 "nbformat": 4,
 "nbformat_minor": 0
}
